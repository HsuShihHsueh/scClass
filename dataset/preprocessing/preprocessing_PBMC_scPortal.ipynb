{
 "cells": [
  {
   "cell_type": "code",
   "execution_count": 32,
   "id": "1e3d31b3",
   "metadata": {},
   "outputs": [],
   "source": [
    "import scanpy as sc\n",
    "import numpy as np \n",
    "import pandas as pd\n",
    "# openpyxl package to read excel# 'pip install openpyxl' if undownload it"
   ]
  },
  {
   "cell_type": "code",
   "execution_count": 55,
   "id": "595c9f2e",
   "metadata": {},
   "outputs": [],
   "source": [
    "supplementaryTable = \"Supplementary table.xlsx\"\n",
    "dataset = \"PBMC_scPortal\"\n",
    "dataset_url = \"https://atlas.fredhutch.org/data/nygc/multimodal/pbmc_multimodal.h5seurat\"\n",
    "CellType_ColumnName = 'CellType'"
   ]
  },
  {
   "cell_type": "code",
   "execution_count": 4,
   "id": "0a6f3a71",
   "metadata": {},
   "outputs": [
    {
     "name": "stdout",
     "output_type": "stream",
     "text": [
      "/bin/bash: -c: line 0: syntax error near unexpected token `{'\r\n",
      "/bin/bash: -c: line 0: `curl.exe \"https://singlecell.broadinstitute.org/single_cell/api/v1/bulk_download/generate_curl_config?accessions=SCP424&auth_code=Ogn5Et6Z&directory=all&context=study\"  -o cfg.txt; curl.exe -K cfg.txt ;if ($?) { rm cfg.txt }'\r\n"
     ]
    }
   ],
   "source": [
    "# sign up and download by command (bulk download), url:\n",
    "# https://singlecell.broadinstitute.org/single_cell/study/SCP424/single-cell-comparison-pbmc-data#study-download\n",
    "# this command is timeliness"
   ]
  },
  {
   "cell_type": "code",
   "execution_count": 26,
   "id": "62c29ef9",
   "metadata": {},
   "outputs": [
    {
     "name": "stdout",
     "output_type": "stream",
     "text": [
      "  % Total    % Received % Xferd  Average Speed   Time    Time     Time  Current\n",
      "                                 Dload  Upload   Total   Spent    Left  Speed\n",
      "100 21191    0 21191    0     0   9751      0 --:--:--  0:00:02 --:--:--  9747\n"
     ]
    }
   ],
   "source": [
    "!curl -k \"https://singlecell.broadinstitute.org/single_cell/api/v1/bulk_download/generate_curl_config?accessions=SCP424&auth_code=Qjcvca42&directory=all&context=study\"  -o cfg.txt"
   ]
  },
  {
   "cell_type": "code",
   "execution_count": 27,
   "id": "7a3dca1e",
   "metadata": {},
   "outputs": [
    {
     "name": "stdout",
     "output_type": "stream",
     "text": [
      "  % Total    % Received % Xferd  Average Speed   Time    Time     Time  Current\n",
      "                                 Dload  Upload   Total   Spent    Left  Speed\n",
      "100  5828  100  5828    0     0   9585      0 --:--:-- --:--:-- --:--:--  9569\n",
      "100  145M  100  145M    0     0  41.6M      0  0:00:03  0:00:03 --:--:-- 59.1M\n",
      "100 1109k  100 1109k    0     0  1849k      0 --:--:-- --:--:-- --:--:-- 20.7M\n",
      "100 79238  100 79238    0     0   140k      0 --:--:-- --:--:-- --:--:--  140k\n",
      "100  5426  100  5426    0     0  10161      0 --:--:-- --:--:-- --:--:--     0\n",
      "100  339k  100  339k    0     0   589k      0 --:--:-- --:--:-- --:--:--  589k\n",
      "100  233k  100  233k    0     0   422k      0 --:--:-- --:--:-- --:--:-- 14.0M\n",
      "100  109M  100  109M    0     0  36.4M      0  0:00:03  0:00:03 --:--:-- 47.3M\n",
      "100  220k  100  220k    0     0   388k      0 --:--:-- --:--:-- --:--:--  388k\n",
      "100  340k  100  340k    0     0   651k      0 --:--:-- --:--:-- --:--:-- 13.5M\n",
      "100 82179  100 82179    0     0   144k      0 --:--:-- --:--:-- --:--:-- 17.0M\n",
      "100 7884k  100 7884k    0     0  5995k      0  0:00:01  0:00:01 --:--:-- 11.8M\n",
      "100  747k  100  747k    0     0  1224k      0 --:--:-- --:--:-- --:--:--     0\n",
      "100 78672  100 78672    0     0   135k      0 --:--:-- --:--:-- --:--:--  135k\n",
      "100  627k  100  627k    0     0   962k      0 --:--:-- --:--:-- --:--:-- 23.9M\n",
      "100  5864  100  5864    0     0  11127      0 --:--:-- --:--:-- --:--:-- 11127\n",
      "100 7985k  100 7985k    0     0  3589k      0  0:00:02  0:00:02 --:--:-- 5124k\n",
      "100 1105k  100 1105k    0     0  1724k      0 --:--:-- --:--:-- --:--:-- 23.4M\n",
      "100  6289  100  6289    0     0  10918      0 --:--:-- --:--:-- --:--:--     0\n",
      "100  158k  100  158k    0     0   286k      0 --:--:-- --:--:-- --:--:--  286k\n",
      "100  233k  100  233k    0     0   410k      0 --:--:-- --:--:-- --:--:-- 14.2M\n",
      "100 80807  100 80807    0     0   144k      0 --:--:-- --:--:-- --:--:--  144k\n",
      "100 4147k  100 4147k    0     0  4114k      0  0:00:01  0:00:01 --:--:-- 11.8M\n",
      "100 87298  100 87298    0     0   150k      0 --:--:-- --:--:-- --:--:-- 18.7M\n",
      "100 81290  100 81290    0     0   141k      0 --:--:-- --:--:-- --:--:-- 16.2M\n",
      "100 75952  100 75952    0     0   144k      0 --:--:-- --:--:-- --:--:--  144k\n",
      "100  294M  100  294M    0     0  27.1M      0  0:00:10  0:00:10 --:--:-- 27.6M\n",
      "100 4466k  100 4466k    0     0  4391k      0  0:00:01  0:00:01 --:--:-- 11.8M\n",
      "100 14140  100 14140    0     0  28916      0 --:--:-- --:--:-- --:--:-- 28916\n",
      "100  233k  100  233k    0     0   411k      0 --:--:-- --:--:-- --:--:-- 23.7M\n",
      "100 1189k  100 1189k    0     0  1838k      0 --:--:-- --:--:-- --:--:-- 50.7M\n",
      "100 80288  100 80288    0     0   164k      0 --:--:-- --:--:-- --:--:--  164k\n",
      "100 80617  100 80617    0     0   142k      0 --:--:-- --:--:-- --:--:-- 7989k\n",
      "100  222k  100  222k    0     0   369k      0 --:--:-- --:--:-- --:--:--  369k\n",
      "  0     0    0     0    0     0      0      0 --:--:-- --:--:-- --:--:--     0\n",
      "curl: (60) SSL certificate problem: unable to get local issuer certificate\n",
      "More details here: https://curl.haxx.se/docs/sslcerts.html\n",
      "\n",
      "curl failed to verify the legitimacy of the server and therefore could not\n",
      "establish a secure connection to it. To learn more about this situation and\n",
      "how to fix it, please visit the web page mentioned above.\n"
     ]
    }
   ],
   "source": [
    "!curl -K cfg.txt ;"
   ]
  },
  {
   "cell_type": "code",
   "execution_count": 28,
   "id": "437265c1",
   "metadata": {},
   "outputs": [],
   "source": [
    "!rm cfg.txt"
   ]
  },
  {
   "cell_type": "code",
   "execution_count": 35,
   "id": "ae770281",
   "metadata": {},
   "outputs": [],
   "source": [
    "barcode_path = 'SCP424/expression/5cf01beb328cee0dabcf09ee/barcodes.txt'\n",
    "gene_path = 'SCP424/expression/5cf01beb328cee0dabcf09ee/genes.txt'\n",
    "matrix_path = 'SCP424/expression/5cf01beb328cee0dabcf09ee/gene_sorted-expression.txt'\n",
    "meta_path = 'SCP424/metadata/meta.txt'"
   ]
  },
  {
   "cell_type": "code",
   "execution_count": 45,
   "id": "deed97fb",
   "metadata": {},
   "outputs": [],
   "source": [
    "from scipy import sparse\n",
    "barcode = pd.read_table(barcode_path,header=None,names=[\"barcode\"])\n",
    "gene = pd.read_table(gene_path,header=None,names=[\"ensembl_ids\",\"gene\"])\n",
    "m = pd.read_table(matrix_path,sep=\" \").values\n",
    "matrix = sparse.coo_matrix(\n",
    "    (m[1:,2], (m[1:,1].astype(np.int32)-1,\n",
    "    m[1:,0].astype(np.int32)-1)),\n",
    "    shape=(barcode.shape[0],gene.shape[0])\n",
    ")"
   ]
  },
  {
   "cell_type": "code",
   "execution_count": 47,
   "id": "73725d5a",
   "metadata": {},
   "outputs": [
    {
     "name": "stderr",
     "output_type": "stream",
     "text": [
      "/home/shhsu/.local/lib/python3.9/site-packages/anndata/_core/anndata.py:120: ImplicitModificationWarning: Transforming to str index.\n",
      "  warnings.warn(\"Transforming to str index.\", ImplicitModificationWarning)\n"
     ]
    },
    {
     "data": {
      "text/plain": [
       "View of AnnData object with n_obs × n_vars = 9806 × 33694\n",
       "    obs: 'barcode'\n",
       "    var: 'ensembl_ids', 'gene'"
      ]
     },
     "execution_count": 47,
     "metadata": {},
     "output_type": "execute_result"
    }
   ],
   "source": [
    "adata = sc.AnnData(\n",
    "    X = matrix.tocsc(),\n",
    "    var = gene,\n",
    "    obs = barcode\n",
    "    )\n",
    "select = [(\"10X_V2\" in bar)|(\"10x_v2\" in bar) for bar in adata.obs[\"barcode\"]]\n",
    "adata = adata[select,:]\n",
    "adata "
   ]
  },
  {
   "cell_type": "markdown",
   "id": "6dee0197",
   "metadata": {},
   "source": [
    "## Get label"
   ]
  },
  {
   "cell_type": "code",
   "execution_count": 49,
   "id": "d7fa606d",
   "metadata": {},
   "outputs": [],
   "source": [
    "metadata = pd.read_table(meta_path)\n",
    "metadata = metadata[metadata[\"Method\"].isin([\"10x Chromium (v2)\",\"10x Chromium (v2) A\",\"10x Chromium (v2) B\"])]"
   ]
  },
  {
   "cell_type": "code",
   "execution_count": 50,
   "id": "851c6376",
   "metadata": {},
   "outputs": [
    {
     "data": {
      "text/html": [
       "<div>\n",
       "<style scoped>\n",
       "    .dataframe tbody tr th:only-of-type {\n",
       "        vertical-align: middle;\n",
       "    }\n",
       "\n",
       "    .dataframe tbody tr th {\n",
       "        vertical-align: top;\n",
       "    }\n",
       "\n",
       "    .dataframe thead th {\n",
       "        text-align: right;\n",
       "    }\n",
       "</style>\n",
       "<table border=\"1\" class=\"dataframe\">\n",
       "  <thead>\n",
       "    <tr style=\"text-align: right;\">\n",
       "      <th></th>\n",
       "      <th>NAME</th>\n",
       "      <th>nGene</th>\n",
       "      <th>nUMI</th>\n",
       "      <th>percent.mito</th>\n",
       "      <th>Cluster</th>\n",
       "      <th>CellType</th>\n",
       "      <th>Experiment</th>\n",
       "      <th>Method</th>\n",
       "    </tr>\n",
       "  </thead>\n",
       "  <tbody>\n",
       "    <tr>\n",
       "      <th>507</th>\n",
       "      <td>pbmc1_10x_v2_A_AAAGATGCAAAGTCAA</td>\n",
       "      <td>851</td>\n",
       "      <td>2177</td>\n",
       "      <td>0.0381258612769867</td>\n",
       "      <td>5</td>\n",
       "      <td>CD14+ monocyte</td>\n",
       "      <td>pbmc1</td>\n",
       "      <td>10x Chromium (v2) A</td>\n",
       "    </tr>\n",
       "    <tr>\n",
       "      <th>508</th>\n",
       "      <td>pbmc1_10x_v2_A_AAAGCAAGTAGGAGTC</td>\n",
       "      <td>1078</td>\n",
       "      <td>3065</td>\n",
       "      <td>0.0417618270799347</td>\n",
       "      <td>5</td>\n",
       "      <td>CD14+ monocyte</td>\n",
       "      <td>pbmc1</td>\n",
       "      <td>10x Chromium (v2) A</td>\n",
       "    </tr>\n",
       "    <tr>\n",
       "      <th>509</th>\n",
       "      <td>pbmc1_10x_v2_A_AAAGCAATCGGTTCGG</td>\n",
       "      <td>538</td>\n",
       "      <td>977</td>\n",
       "      <td>0.0992835209825998</td>\n",
       "      <td>4</td>\n",
       "      <td>CD14+ monocyte</td>\n",
       "      <td>pbmc1</td>\n",
       "      <td>10x Chromium (v2) A</td>\n",
       "    </tr>\n",
       "    <tr>\n",
       "      <th>510</th>\n",
       "      <td>pbmc1_10x_v2_A_AAAGTAGTCATTTGGG</td>\n",
       "      <td>1544</td>\n",
       "      <td>4933</td>\n",
       "      <td>0.0427731603486722</td>\n",
       "      <td>5</td>\n",
       "      <td>CD14+ monocyte</td>\n",
       "      <td>pbmc1</td>\n",
       "      <td>10x Chromium (v2) A</td>\n",
       "    </tr>\n",
       "    <tr>\n",
       "      <th>511</th>\n",
       "      <td>pbmc1_10x_v2_A_AAAGTAGTCCGAGCCA</td>\n",
       "      <td>632</td>\n",
       "      <td>1487</td>\n",
       "      <td>0.0477471418964358</td>\n",
       "      <td>4</td>\n",
       "      <td>CD14+ monocyte</td>\n",
       "      <td>pbmc1</td>\n",
       "      <td>10x Chromium (v2) A</td>\n",
       "    </tr>\n",
       "    <tr>\n",
       "      <th>...</th>\n",
       "      <td>...</td>\n",
       "      <td>...</td>\n",
       "      <td>...</td>\n",
       "      <td>...</td>\n",
       "      <td>...</td>\n",
       "      <td>...</td>\n",
       "      <td>...</td>\n",
       "      <td>...</td>\n",
       "    </tr>\n",
       "    <tr>\n",
       "      <th>23742</th>\n",
       "      <td>pbmc2_10X_V2_TTTGTCACACGTCTCT</td>\n",
       "      <td>1266</td>\n",
       "      <td>3142</td>\n",
       "      <td>0.0257797581158498</td>\n",
       "      <td>2</td>\n",
       "      <td>B cell</td>\n",
       "      <td>pbmc2</td>\n",
       "      <td>10x Chromium (v2)</td>\n",
       "    </tr>\n",
       "    <tr>\n",
       "      <th>23743</th>\n",
       "      <td>pbmc2_10X_V2_TTTGTCACAGCCAATT</td>\n",
       "      <td>1229</td>\n",
       "      <td>2497</td>\n",
       "      <td>0.0504605526631958</td>\n",
       "      <td>1</td>\n",
       "      <td>Cytotoxic T cell</td>\n",
       "      <td>pbmc2</td>\n",
       "      <td>10x Chromium (v2)</td>\n",
       "    </tr>\n",
       "    <tr>\n",
       "      <th>23744</th>\n",
       "      <td>pbmc2_10X_V2_TTTGTCAGTACGCACC</td>\n",
       "      <td>19</td>\n",
       "      <td>20</td>\n",
       "      <td>0</td>\n",
       "      <td>0</td>\n",
       "      <td>CD4+ T cell</td>\n",
       "      <td>pbmc2</td>\n",
       "      <td>10x Chromium (v2)</td>\n",
       "    </tr>\n",
       "    <tr>\n",
       "      <th>23745</th>\n",
       "      <td>pbmc2_10X_V2_TTTGTCATCAGTACGT</td>\n",
       "      <td>997</td>\n",
       "      <td>2640</td>\n",
       "      <td>0.0212121212121212</td>\n",
       "      <td>2</td>\n",
       "      <td>B cell</td>\n",
       "      <td>pbmc2</td>\n",
       "      <td>10x Chromium (v2)</td>\n",
       "    </tr>\n",
       "    <tr>\n",
       "      <th>23746</th>\n",
       "      <td>pbmc2_10X_V2_TTTGTCATCGGCCGAT</td>\n",
       "      <td>1502</td>\n",
       "      <td>3460</td>\n",
       "      <td>0.0248554913294798</td>\n",
       "      <td>1</td>\n",
       "      <td>Cytotoxic T cell</td>\n",
       "      <td>pbmc2</td>\n",
       "      <td>10x Chromium (v2)</td>\n",
       "    </tr>\n",
       "  </tbody>\n",
       "</table>\n",
       "<p>9806 rows × 8 columns</p>\n",
       "</div>"
      ],
      "text/plain": [
       "                                  NAME nGene  nUMI        percent.mito  \\\n",
       "507    pbmc1_10x_v2_A_AAAGATGCAAAGTCAA   851  2177  0.0381258612769867   \n",
       "508    pbmc1_10x_v2_A_AAAGCAAGTAGGAGTC  1078  3065  0.0417618270799347   \n",
       "509    pbmc1_10x_v2_A_AAAGCAATCGGTTCGG   538   977  0.0992835209825998   \n",
       "510    pbmc1_10x_v2_A_AAAGTAGTCATTTGGG  1544  4933  0.0427731603486722   \n",
       "511    pbmc1_10x_v2_A_AAAGTAGTCCGAGCCA   632  1487  0.0477471418964358   \n",
       "...                                ...   ...   ...                 ...   \n",
       "23742    pbmc2_10X_V2_TTTGTCACACGTCTCT  1266  3142  0.0257797581158498   \n",
       "23743    pbmc2_10X_V2_TTTGTCACAGCCAATT  1229  2497  0.0504605526631958   \n",
       "23744    pbmc2_10X_V2_TTTGTCAGTACGCACC    19    20                   0   \n",
       "23745    pbmc2_10X_V2_TTTGTCATCAGTACGT   997  2640  0.0212121212121212   \n",
       "23746    pbmc2_10X_V2_TTTGTCATCGGCCGAT  1502  3460  0.0248554913294798   \n",
       "\n",
       "      Cluster          CellType Experiment               Method  \n",
       "507         5    CD14+ monocyte      pbmc1  10x Chromium (v2) A  \n",
       "508         5    CD14+ monocyte      pbmc1  10x Chromium (v2) A  \n",
       "509         4    CD14+ monocyte      pbmc1  10x Chromium (v2) A  \n",
       "510         5    CD14+ monocyte      pbmc1  10x Chromium (v2) A  \n",
       "511         4    CD14+ monocyte      pbmc1  10x Chromium (v2) A  \n",
       "...       ...               ...        ...                  ...  \n",
       "23742       2            B cell      pbmc2    10x Chromium (v2)  \n",
       "23743       1  Cytotoxic T cell      pbmc2    10x Chromium (v2)  \n",
       "23744       0       CD4+ T cell      pbmc2    10x Chromium (v2)  \n",
       "23745       2            B cell      pbmc2    10x Chromium (v2)  \n",
       "23746       1  Cytotoxic T cell      pbmc2    10x Chromium (v2)  \n",
       "\n",
       "[9806 rows x 8 columns]"
      ]
     },
     "execution_count": 50,
     "metadata": {},
     "output_type": "execute_result"
    }
   ],
   "source": [
    "metadata"
   ]
  },
  {
   "cell_type": "code",
   "execution_count": 62,
   "id": "a8dc55f1",
   "metadata": {},
   "outputs": [],
   "source": [
    "df = pd.read_excel(supplementaryTable, sheet_name=dataset)\n",
    "adata.obs[CellType_ColumnName] = metadata[\"CellType\"].values"
   ]
  },
  {
   "cell_type": "code",
   "execution_count": 64,
   "id": "6da3895c",
   "metadata": {},
   "outputs": [],
   "source": [
    "def add_celltype(adata,celltype_columnname):\n",
    "    adata.obs[celltype_columnname] = adata.obs[celltype_columnname].astype(\"category\")\n",
    "    Transferlist = [np.where(df['origin cell type']==CellTypeList)[0][0] for CellTypeList in adata.obs[celltype_columnname].values.categories]\n",
    "    adata.obs['modelA id'] = df['modelA id'][Transferlist].values[adata.obs[celltype_columnname].values.codes]\n",
    "    adata.obs['modelC id'] = df['modelC id'][Transferlist].values[adata.obs[celltype_columnname].values.codes]\n",
    "    adata.obs['transfer cell type'] = df['transfer cell type'][Transferlist].values[adata.obs[celltype_columnname].values.codes]\n",
    "add_celltype(adata,CellType_ColumnName)"
   ]
  },
  {
   "cell_type": "code",
   "execution_count": null,
   "id": "cace1be6",
   "metadata": {},
   "outputs": [],
   "source": [
    "adata.obs['origin cell type'] = adata.obs['CellType']"
   ]
  },
  {
   "cell_type": "code",
   "execution_count": 65,
   "id": "94049ba3",
   "metadata": {},
   "outputs": [
    {
     "data": {
      "text/html": [
       "<div>\n",
       "<style scoped>\n",
       "    .dataframe tbody tr th:only-of-type {\n",
       "        vertical-align: middle;\n",
       "    }\n",
       "\n",
       "    .dataframe tbody tr th {\n",
       "        vertical-align: top;\n",
       "    }\n",
       "\n",
       "    .dataframe thead th {\n",
       "        text-align: right;\n",
       "    }\n",
       "</style>\n",
       "<table border=\"1\" class=\"dataframe\">\n",
       "  <thead>\n",
       "    <tr style=\"text-align: right;\">\n",
       "      <th></th>\n",
       "      <th>barcode</th>\n",
       "      <th>CellType</th>\n",
       "      <th>modelA id</th>\n",
       "      <th>modelC id</th>\n",
       "      <th>transfer cell type</th>\n",
       "    </tr>\n",
       "  </thead>\n",
       "  <tbody>\n",
       "    <tr>\n",
       "      <th>0</th>\n",
       "      <td>pbmc1_10x_v2_A_AAAGATGCAAAGTCAA</td>\n",
       "      <td>CD14+ monocyte</td>\n",
       "      <td>10</td>\n",
       "      <td>8</td>\n",
       "      <td>monocyte</td>\n",
       "    </tr>\n",
       "    <tr>\n",
       "      <th>1</th>\n",
       "      <td>pbmc1_10x_v2_A_AAAGCAAGTAGGAGTC</td>\n",
       "      <td>CD14+ monocyte</td>\n",
       "      <td>10</td>\n",
       "      <td>8</td>\n",
       "      <td>monocyte</td>\n",
       "    </tr>\n",
       "    <tr>\n",
       "      <th>2</th>\n",
       "      <td>pbmc1_10x_v2_A_AAAGCAATCGGTTCGG</td>\n",
       "      <td>CD14+ monocyte</td>\n",
       "      <td>10</td>\n",
       "      <td>8</td>\n",
       "      <td>monocyte</td>\n",
       "    </tr>\n",
       "    <tr>\n",
       "      <th>3</th>\n",
       "      <td>pbmc1_10x_v2_A_AAAGTAGTCATTTGGG</td>\n",
       "      <td>CD14+ monocyte</td>\n",
       "      <td>10</td>\n",
       "      <td>8</td>\n",
       "      <td>monocyte</td>\n",
       "    </tr>\n",
       "    <tr>\n",
       "      <th>4</th>\n",
       "      <td>pbmc1_10x_v2_A_AAAGTAGTCCGAGCCA</td>\n",
       "      <td>CD14+ monocyte</td>\n",
       "      <td>10</td>\n",
       "      <td>8</td>\n",
       "      <td>monocyte</td>\n",
       "    </tr>\n",
       "    <tr>\n",
       "      <th>...</th>\n",
       "      <td>...</td>\n",
       "      <td>...</td>\n",
       "      <td>...</td>\n",
       "      <td>...</td>\n",
       "      <td>...</td>\n",
       "    </tr>\n",
       "    <tr>\n",
       "      <th>23741</th>\n",
       "      <td>pbmc2_10X_V2_TTTGTCACACGTCTCT</td>\n",
       "      <td>B cell</td>\n",
       "      <td>3</td>\n",
       "      <td>3</td>\n",
       "      <td>naive B cell</td>\n",
       "    </tr>\n",
       "    <tr>\n",
       "      <th>23742</th>\n",
       "      <td>pbmc2_10X_V2_TTTGTCACAGCCAATT</td>\n",
       "      <td>Cytotoxic T cell</td>\n",
       "      <td>1</td>\n",
       "      <td>1</td>\n",
       "      <td>cytotoxic T cell</td>\n",
       "    </tr>\n",
       "    <tr>\n",
       "      <th>23743</th>\n",
       "      <td>pbmc2_10X_V2_TTTGTCAGTACGCACC</td>\n",
       "      <td>CD4+ T cell</td>\n",
       "      <td>0</td>\n",
       "      <td>0</td>\n",
       "      <td>T-helper cell</td>\n",
       "    </tr>\n",
       "    <tr>\n",
       "      <th>23744</th>\n",
       "      <td>pbmc2_10X_V2_TTTGTCATCAGTACGT</td>\n",
       "      <td>B cell</td>\n",
       "      <td>3</td>\n",
       "      <td>3</td>\n",
       "      <td>naive B cell</td>\n",
       "    </tr>\n",
       "    <tr>\n",
       "      <th>23745</th>\n",
       "      <td>pbmc2_10X_V2_TTTGTCATCGGCCGAT</td>\n",
       "      <td>Cytotoxic T cell</td>\n",
       "      <td>1</td>\n",
       "      <td>1</td>\n",
       "      <td>cytotoxic T cell</td>\n",
       "    </tr>\n",
       "  </tbody>\n",
       "</table>\n",
       "<p>9806 rows × 5 columns</p>\n",
       "</div>"
      ],
      "text/plain": [
       "                               barcode          CellType  modelA id  \\\n",
       "0      pbmc1_10x_v2_A_AAAGATGCAAAGTCAA    CD14+ monocyte         10   \n",
       "1      pbmc1_10x_v2_A_AAAGCAAGTAGGAGTC    CD14+ monocyte         10   \n",
       "2      pbmc1_10x_v2_A_AAAGCAATCGGTTCGG    CD14+ monocyte         10   \n",
       "3      pbmc1_10x_v2_A_AAAGTAGTCATTTGGG    CD14+ monocyte         10   \n",
       "4      pbmc1_10x_v2_A_AAAGTAGTCCGAGCCA    CD14+ monocyte         10   \n",
       "...                                ...               ...        ...   \n",
       "23741    pbmc2_10X_V2_TTTGTCACACGTCTCT            B cell          3   \n",
       "23742    pbmc2_10X_V2_TTTGTCACAGCCAATT  Cytotoxic T cell          1   \n",
       "23743    pbmc2_10X_V2_TTTGTCAGTACGCACC       CD4+ T cell          0   \n",
       "23744    pbmc2_10X_V2_TTTGTCATCAGTACGT            B cell          3   \n",
       "23745    pbmc2_10X_V2_TTTGTCATCGGCCGAT  Cytotoxic T cell          1   \n",
       "\n",
       "       modelC id transfer cell type  \n",
       "0              8           monocyte  \n",
       "1              8           monocyte  \n",
       "2              8           monocyte  \n",
       "3              8           monocyte  \n",
       "4              8           monocyte  \n",
       "...          ...                ...  \n",
       "23741          3       naive B cell  \n",
       "23742          1   cytotoxic T cell  \n",
       "23743          0      T-helper cell  \n",
       "23744          3       naive B cell  \n",
       "23745          1   cytotoxic T cell  \n",
       "\n",
       "[9806 rows x 5 columns]"
      ]
     },
     "execution_count": 65,
     "metadata": {},
     "output_type": "execute_result"
    }
   ],
   "source": [
    "adata.obs"
   ]
  },
  {
   "cell_type": "code",
   "execution_count": 66,
   "id": "9886a158",
   "metadata": {},
   "outputs": [
    {
     "name": "stderr",
     "output_type": "stream",
     "text": [
      "/home/shhsu/.local/lib/python3.9/site-packages/anndata/_core/anndata.py:1220: FutureWarning: The `inplace` parameter in pandas.Categorical.reorder_categories is deprecated and will be removed in a future version. Removing unused categories will always return a new Categorical object.\n",
      "  c.reorder_categories(natsorted(c.categories), inplace=True)\n",
      "... storing 'transfer cell type' as categorical\n"
     ]
    }
   ],
   "source": [
    "adata.write_h5ad(f'../{dataset}.h5ad')"
   ]
  },
  {
   "cell_type": "code",
   "execution_count": null,
   "id": "a8daf558",
   "metadata": {},
   "outputs": [],
   "source": [
    "# !rm -r SCP424"
   ]
  }
 ],
 "metadata": {
  "kernelspec": {
   "display_name": "Python 3 (ipykernel)",
   "language": "python",
   "name": "python3"
  },
  "language_info": {
   "codemirror_mode": {
    "name": "ipython",
    "version": 3
   },
   "file_extension": ".py",
   "mimetype": "text/x-python",
   "name": "python",
   "nbconvert_exporter": "python",
   "pygments_lexer": "ipython3",
   "version": "3.9.6"
  }
 },
 "nbformat": 4,
 "nbformat_minor": 5
}
