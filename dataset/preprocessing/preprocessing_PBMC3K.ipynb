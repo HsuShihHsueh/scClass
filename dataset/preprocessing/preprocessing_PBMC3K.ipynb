{
 "cells": [
  {
   "cell_type": "code",
   "execution_count": 1,
   "id": "004c4c97",
   "metadata": {},
   "outputs": [],
   "source": [
    "import scanpy as sc\n",
    "import numpy as np \n",
    "import pandas as pd\n",
    "# openpyxl package to read excel# 'pip install openpyxl' if undownload it"
   ]
  },
  {
   "cell_type": "code",
   "execution_count": 2,
   "id": "ec500dd1",
   "metadata": {},
   "outputs": [],
   "source": [
    "adata = sc.datasets.pbmc3k()\n",
    "adata_processed = sc.datasets.pbmc3k_processed()\n",
    "df = pd.read_excel(\"Supplementary table.xlsx\", sheet_name=\"PBMC3K\")"
   ]
  },
  {
   "cell_type": "code",
   "execution_count": 3,
   "id": "deca5b81",
   "metadata": {},
   "outputs": [
    {
     "name": "stderr",
     "output_type": "stream",
     "text": [
      "Trying to set attribute `.obs` of view, copying.\n"
     ]
    }
   ],
   "source": [
    "adata_filter = adata[np.isin(list(adata.obs_names),list(adata_processed.obs_names)),:]\n",
    "adata_filter.obs[\"cell_type\"]  = adata_processed.obs[\"louvain\"]\n",
    "adata_filter.X = adata_filter.X.tocsr()"
   ]
  },
  {
   "cell_type": "code",
   "execution_count": 4,
   "id": "c096aa11",
   "metadata": {},
   "outputs": [],
   "source": [
    "Transferlist = [np.where(df['origin cell type']==CellTypeList)[0][0] for CellTypeList in adata_filter.obs['cell_type'].values.categories]\n",
    "adata_filter.obs['modelA id'] = df['modelA id'][Transferlist].values[adata_filter.obs['cell_type'].values.codes]\n",
    "adata_filter.obs['modelC id'] = df['modelC id'][Transferlist].values[adata_filter.obs['cell_type'].values.codes]\n",
    "adata_filter.obs['transfer cell type'] = df['transfer cell type'][Transferlist].values[adata_filter.obs['cell_type'].values.codes]"
   ]
  },
  {
   "cell_type": "code",
   "execution_count": null,
   "id": "e7e2f4cc",
   "metadata": {},
   "outputs": [],
   "source": [
    "adata_filter.obs['origin cell type'] = adata_filter.obs['cell_type']"
   ]
  },
  {
   "cell_type": "code",
   "execution_count": 5,
   "id": "8726ba06",
   "metadata": {},
   "outputs": [
    {
     "data": {
      "text/html": [
       "<div>\n",
       "<style scoped>\n",
       "    .dataframe tbody tr th:only-of-type {\n",
       "        vertical-align: middle;\n",
       "    }\n",
       "\n",
       "    .dataframe tbody tr th {\n",
       "        vertical-align: top;\n",
       "    }\n",
       "\n",
       "    .dataframe thead th {\n",
       "        text-align: right;\n",
       "    }\n",
       "</style>\n",
       "<table border=\"1\" class=\"dataframe\">\n",
       "  <thead>\n",
       "    <tr style=\"text-align: right;\">\n",
       "      <th></th>\n",
       "      <th>cell_type</th>\n",
       "      <th>modelA id</th>\n",
       "      <th>modelC id</th>\n",
       "      <th>transfer cell type</th>\n",
       "    </tr>\n",
       "    <tr>\n",
       "      <th>index</th>\n",
       "      <th></th>\n",
       "      <th></th>\n",
       "      <th></th>\n",
       "      <th></th>\n",
       "    </tr>\n",
       "  </thead>\n",
       "  <tbody>\n",
       "    <tr>\n",
       "      <th>AAACATACAACCAC-1</th>\n",
       "      <td>CD4 T cells</td>\n",
       "      <td>0</td>\n",
       "      <td>0</td>\n",
       "      <td>T-helper cell</td>\n",
       "    </tr>\n",
       "    <tr>\n",
       "      <th>AAACATTGAGCTAC-1</th>\n",
       "      <td>B cells</td>\n",
       "      <td>3</td>\n",
       "      <td>3</td>\n",
       "      <td>naive B cell</td>\n",
       "    </tr>\n",
       "    <tr>\n",
       "      <th>AAACATTGATCAGC-1</th>\n",
       "      <td>CD4 T cells</td>\n",
       "      <td>0</td>\n",
       "      <td>0</td>\n",
       "      <td>T-helper cell</td>\n",
       "    </tr>\n",
       "    <tr>\n",
       "      <th>AAACCGTGCTTCCG-1</th>\n",
       "      <td>CD14+ Monocytes</td>\n",
       "      <td>10</td>\n",
       "      <td>8</td>\n",
       "      <td>monocyte</td>\n",
       "    </tr>\n",
       "    <tr>\n",
       "      <th>AAACCGTGTATGCG-1</th>\n",
       "      <td>NK cells</td>\n",
       "      <td>7</td>\n",
       "      <td>5</td>\n",
       "      <td>natural killer cell</td>\n",
       "    </tr>\n",
       "    <tr>\n",
       "      <th>...</th>\n",
       "      <td>...</td>\n",
       "      <td>...</td>\n",
       "      <td>...</td>\n",
       "      <td>...</td>\n",
       "    </tr>\n",
       "    <tr>\n",
       "      <th>TTTCGAACTCTCAT-1</th>\n",
       "      <td>CD14+ Monocytes</td>\n",
       "      <td>10</td>\n",
       "      <td>8</td>\n",
       "      <td>monocyte</td>\n",
       "    </tr>\n",
       "    <tr>\n",
       "      <th>TTTCTACTGAGGCA-1</th>\n",
       "      <td>B cells</td>\n",
       "      <td>3</td>\n",
       "      <td>3</td>\n",
       "      <td>naive B cell</td>\n",
       "    </tr>\n",
       "    <tr>\n",
       "      <th>TTTCTACTTCCTCG-1</th>\n",
       "      <td>B cells</td>\n",
       "      <td>3</td>\n",
       "      <td>3</td>\n",
       "      <td>naive B cell</td>\n",
       "    </tr>\n",
       "    <tr>\n",
       "      <th>TTTGCATGAGAGGC-1</th>\n",
       "      <td>B cells</td>\n",
       "      <td>3</td>\n",
       "      <td>3</td>\n",
       "      <td>naive B cell</td>\n",
       "    </tr>\n",
       "    <tr>\n",
       "      <th>TTTGCATGCCTCAC-1</th>\n",
       "      <td>CD4 T cells</td>\n",
       "      <td>0</td>\n",
       "      <td>0</td>\n",
       "      <td>T-helper cell</td>\n",
       "    </tr>\n",
       "  </tbody>\n",
       "</table>\n",
       "<p>2638 rows × 4 columns</p>\n",
       "</div>"
      ],
      "text/plain": [
       "                        cell_type  modelA id  modelC id   transfer cell type\n",
       "index                                                                       \n",
       "AAACATACAACCAC-1      CD4 T cells          0          0        T-helper cell\n",
       "AAACATTGAGCTAC-1          B cells          3          3         naive B cell\n",
       "AAACATTGATCAGC-1      CD4 T cells          0          0        T-helper cell\n",
       "AAACCGTGCTTCCG-1  CD14+ Monocytes         10          8             monocyte\n",
       "AAACCGTGTATGCG-1         NK cells          7          5  natural killer cell\n",
       "...                           ...        ...        ...                  ...\n",
       "TTTCGAACTCTCAT-1  CD14+ Monocytes         10          8             monocyte\n",
       "TTTCTACTGAGGCA-1          B cells          3          3         naive B cell\n",
       "TTTCTACTTCCTCG-1          B cells          3          3         naive B cell\n",
       "TTTGCATGAGAGGC-1          B cells          3          3         naive B cell\n",
       "TTTGCATGCCTCAC-1      CD4 T cells          0          0        T-helper cell\n",
       "\n",
       "[2638 rows x 4 columns]"
      ]
     },
     "execution_count": 5,
     "metadata": {},
     "output_type": "execute_result"
    }
   ],
   "source": [
    "adata_filter.obs"
   ]
  },
  {
   "cell_type": "code",
   "execution_count": 7,
   "id": "8fcb1168",
   "metadata": {},
   "outputs": [
    {
     "name": "stderr",
     "output_type": "stream",
     "text": [
      "/home/shhsu/.local/lib/python3.9/site-packages/anndata/_core/anndata.py:1220: FutureWarning: The `inplace` parameter in pandas.Categorical.reorder_categories is deprecated and will be removed in a future version. Removing unused categories will always return a new Categorical object.\n",
      "  c.reorder_categories(natsorted(c.categories), inplace=True)\n",
      "... storing 'transfer cell type' as categorical\n"
     ]
    }
   ],
   "source": [
    "adata_filter.write_h5ad('../PBMC3K.h5ad')"
   ]
  },
  {
   "cell_type": "code",
   "execution_count": 11,
   "id": "7ca95fbe",
   "metadata": {},
   "outputs": [],
   "source": [
    "!rm -r data"
   ]
  }
 ],
 "metadata": {
  "kernelspec": {
   "display_name": "Python 3 (ipykernel)",
   "language": "python",
   "name": "python3"
  },
  "language_info": {
   "codemirror_mode": {
    "name": "ipython",
    "version": 3
   },
   "file_extension": ".py",
   "mimetype": "text/x-python",
   "name": "python",
   "nbconvert_exporter": "python",
   "pygments_lexer": "ipython3",
   "version": "3.9.6"
  }
 },
 "nbformat": 4,
 "nbformat_minor": 5
}
