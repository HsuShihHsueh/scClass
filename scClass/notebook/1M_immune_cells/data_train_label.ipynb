{
 "cells": [
  {
   "cell_type": "code",
   "execution_count": null,
   "id": "3ffaaec1",
   "metadata": {},
   "outputs": [],
   "source": [
    "import pandas as pd\n",
    "import numpy as np\n",
    "#  python script\n",
    "import sys; sys.path.append(\"/home/shhsu/download/scClass\")\n",
    "import scClass\n",
    "from scClass.main import Model\n",
    "from scClass import loom"
   ]
  },
  {
   "cell_type": "code",
   "execution_count": null,
   "id": "55c7aafc",
   "metadata": {},
   "outputs": [],
   "source": [
    "def dataset(path):\n",
    "    return \"/home/shhsu/download/scClass_bigdata/data_preprocessing/\"+path\n",
    "# data prepare\n",
    "bm2_loom_norm = loom.read(dataset(\"bm2.loom\"),dataset(\"bm3.npz\"))\n",
    "bm_table = pd.read_csv(dataset(\"label_table/BM_v2.csv\"),keep_default_na=False)\n",
    "cb2_loom_norm = loom.read(dataset(\"cb2.loom\"),dataset(\"cb3.npz\"))\n",
    "cb_table = pd.read_csv(dataset(\"label_table/CB_v2.csv\"),keep_default_na=False)\n",
    "mix_table = pd.read_csv(dataset(\"label_table/type_id.csv\"),keep_default_na=False)"
   ]
  },
  {
   "cell_type": "code",
   "execution_count": null,
   "id": "44c8113b",
   "metadata": {},
   "outputs": [],
   "source": [
    "# get index\n",
    "def get_index(adata,df,save=None):\n",
    "    label_index = np.zeros(adata.obs[\"label\"].shape[0], dtype=np.int8)\n",
    "    for x in range(df[\"identity.text\"].shape[0]):\n",
    "        id_indexs = np.where(adata.obs[\"label\"] == df[\"identity.text\"][x])[0]\n",
    "        for id_index in id_indexs:\n",
    "            label_index[id_index] = df[\"index\"][x]\n",
    "    adata.obs[\"type_id\"] = label_index        \n",
    "    if save != None:\n",
    "        adata.write_loom(save)\n",
    "    return label_index"
   ]
  },
  {
   "cell_type": "code",
   "execution_count": null,
   "id": "a99e5a12",
   "metadata": {},
   "outputs": [],
   "source": [
    "bm_label_index = get_index(bm2_loom_norm,bm_table)\n",
    "cb_label_index = get_index(cb2_loom_norm,cb_table)"
   ]
  },
  {
   "cell_type": "code",
   "execution_count": null,
   "id": "01aac30b",
   "metadata": {},
   "outputs": [],
   "source": [
    "np.random.seed(10)\n",
    "all_label_index = np.append(bm_label_index,cb_label_index)\n",
    "for i in range(all_label_index.max()+1):\n",
    "    k = np.random.permutation((all_label_index==i).nonzero()[0])[50_000:]\n",
    "    all_label_index[k] = -1"
   ]
  },
  {
   "cell_type": "code",
   "execution_count": null,
   "id": "a154a210",
   "metadata": {},
   "outputs": [],
   "source": [
    "import matplotlib.pyplot as plt\n",
    "x,y = np.unique(all_label_index,return_counts=True)\n",
    "plt.bar(x,y)"
   ]
  },
  {
   "cell_type": "code",
   "execution_count": null,
   "id": "e2e18771",
   "metadata": {},
   "outputs": [],
   "source": [
    "mix_label = np.empty((bm2_loom_norm.shape[0]+cb2_loom_norm.shape[0],2),dtype='O')\n",
    "mix_label[:,0] = all_label_index\n",
    "mix_label[:,1] = mix_table[\"level\"][mix_label[:,0]+1]\n",
    "scClass.write_csv(path=\"/home/shhsu/download/scClass_dataset/1M_immune_cells/data_train_v2_v2.csv\",index=[\"index\",\"label\"],array=mix_label)"
   ]
  },
  {
   "cell_type": "code",
   "execution_count": null,
   "id": "295193b1",
   "metadata": {},
   "outputs": [],
   "source": []
  }
 ],
 "metadata": {
  "kernelspec": {
   "display_name": "Python 3 (ipykernel)",
   "language": "python",
   "name": "python3"
  },
  "language_info": {
   "codemirror_mode": {
    "name": "ipython",
    "version": 3
   },
   "file_extension": ".py",
   "mimetype": "text/x-python",
   "name": "python",
   "nbconvert_exporter": "python",
   "pygments_lexer": "ipython3",
   "version": "3.9.6"
  }
 },
 "nbformat": 4,
 "nbformat_minor": 5
}
