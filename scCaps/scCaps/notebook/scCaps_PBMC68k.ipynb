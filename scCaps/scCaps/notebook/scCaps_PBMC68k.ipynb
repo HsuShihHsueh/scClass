{
 "cells": [
  {
   "cell_type": "code",
   "execution_count": 1,
   "id": "cedc1055",
   "metadata": {},
   "outputs": [],
   "source": [
    "import numpy as np\n",
    "import pandas as pd\n",
    "import scanpy as sc\n",
    "import matplotlib.pyplot as plt"
   ]
  },
  {
   "cell_type": "code",
   "execution_count": 2,
   "id": "fafbe198",
   "metadata": {},
   "outputs": [],
   "source": [
    "scClass_path = !cd ../scClass_modelC;pwd\n",
    "scClass_path = str(scClass_path.n)\n",
    "import sys; sys.path.append(scClass_path)\n",
    "import scClass"
   ]
  },
  {
   "cell_type": "code",
   "execution_count": 3,
   "id": "5c26cec4",
   "metadata": {},
   "outputs": [],
   "source": [
    "y = pd.read_csv('scCaps/scClass_data/y_pred_PBMC68k_modelC.csv',header=None)\n",
    "y_true = y.values[:,0]\n",
    "y_pred = y.values[:,1]"
   ]
  },
  {
   "cell_type": "code",
   "execution_count": 4,
   "id": "e318f5e3",
   "metadata": {},
   "outputs": [
    {
     "data": {
      "text/plain": [
       "array([0, 0, 0, ..., 0, 0, 0])"
      ]
     },
     "execution_count": 4,
     "metadata": {},
     "output_type": "execute_result"
    }
   ],
   "source": [
    "y_true"
   ]
  },
  {
   "cell_type": "code",
   "execution_count": 5,
   "id": "107c24fe",
   "metadata": {},
   "outputs": [
    {
     "data": {
      "text/plain": [
       "array([0, 0, 1, ..., 0, 0, 0])"
      ]
     },
     "execution_count": 5,
     "metadata": {},
     "output_type": "execute_result"
    }
   ],
   "source": [
    "y_pred"
   ]
  },
  {
   "cell_type": "code",
   "execution_count": 6,
   "id": "542faa8c",
   "metadata": {},
   "outputs": [
    {
     "name": "stdout",
     "output_type": "stream",
     "text": [
      "total acc: 87.11501378160781 %\n"
     ]
    },
    {
     "data": {
      "text/html": [
       "\n",
       "    <div class=\"flex\" style='display: flex;flex-direction: row;'>\n",
       "      <div>\n",
       "        <img src='data:image/png;base64,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' style=\"width:450px;height:450px;object-fit:none;object-position:-20px -20px;\">\n",
       "      </div> \n",
       "      <div style=\"padding-top:18px;\">\n",
       "        <table border=\"1\" class=\"dataframe\">\n",
       "  <thead>\n",
       "    <tr style=\"text-align: right;\">\n",
       "      <th></th>\n",
       "      <th>label</th>\n",
       "    </tr>\n",
       "  </thead>\n",
       "  <tbody>\n",
       "    <tr>\n",
       "      <th>-1</th>\n",
       "      <td>unknown</td>\n",
       "    </tr>\n",
       "    <tr>\n",
       "      <th>0</th>\n",
       "      <td>T-helper cell</td>\n",
       "    </tr>\n",
       "    <tr>\n",
       "      <th>1</th>\n",
       "      <td>cytotoxic T cell</td>\n",
       "    </tr>\n",
       "    <tr>\n",
       "      <th>2</th>\n",
       "      <td>memory B cell</td>\n",
       "    </tr>\n",
       "    <tr>\n",
       "      <th>3</th>\n",
       "      <td>naive B cell</td>\n",
       "    </tr>\n",
       "    <tr>\n",
       "      <th>4</th>\n",
       "      <td>plasma cell</td>\n",
       "    </tr>\n",
       "    <tr>\n",
       "      <th>5</th>\n",
       "      <td>natural killer cell</td>\n",
       "    </tr>\n",
       "    <tr>\n",
       "      <th>6</th>\n",
       "      <td>erythrocyte</td>\n",
       "    </tr>\n",
       "    <tr>\n",
       "      <th>7</th>\n",
       "      <td>megakaryocyte</td>\n",
       "    </tr>\n",
       "    <tr>\n",
       "      <th>8</th>\n",
       "      <td>monocyte</td>\n",
       "    </tr>\n",
       "    <tr>\n",
       "      <th>9</th>\n",
       "      <td>dendritic cell</td>\n",
       "    </tr>\n",
       "    <tr>\n",
       "      <th>10</th>\n",
       "      <td>BM hematopoietic cell</td>\n",
       "    </tr>\n",
       "  </tbody>\n",
       "</table>\n",
       "      </div>\n",
       "    "
      ],
      "text/plain": [
       "<IPython.core.display.HTML object>"
      ]
     },
     "execution_count": 6,
     "metadata": {},
     "output_type": "execute_result"
    }
   ],
   "source": [
    "fig = scClass.confusion_matrix(y_pred,y_true,filter=True)\n",
    "scClass.figure_html(fig)"
   ]
  },
  {
   "cell_type": "code",
   "execution_count": 7,
   "id": "d522fba7",
   "metadata": {},
   "outputs": [
    {
     "name": "stderr",
     "output_type": "stream",
     "text": [
      "/home/shhsu/.local/lib/python3.9/site-packages/sklearn/metrics/_classification.py:1248: UndefinedMetricWarning: Precision is ill-defined and being set to 0.0 in labels with no predicted samples. Use `zero_division` parameter to control this behavior.\n",
      "  _warn_prf(average, modifier, msg_start, len(result))\n"
     ]
    },
    {
     "data": {
      "text/html": [
       "<div>\n",
       "<style scoped>\n",
       "    .dataframe tbody tr th:only-of-type {\n",
       "        vertical-align: middle;\n",
       "    }\n",
       "\n",
       "    .dataframe tbody tr th {\n",
       "        vertical-align: top;\n",
       "    }\n",
       "\n",
       "    .dataframe thead th {\n",
       "        text-align: right;\n",
       "    }\n",
       "</style>\n",
       "<table border=\"1\" class=\"dataframe\">\n",
       "  <thead>\n",
       "    <tr style=\"text-align: right;\">\n",
       "      <th></th>\n",
       "      <th>Performance</th>\n",
       "      <th>Value</th>\n",
       "    </tr>\n",
       "  </thead>\n",
       "  <tbody>\n",
       "    <tr>\n",
       "      <th>0</th>\n",
       "      <td>accuary</td>\n",
       "      <td>0.904400</td>\n",
       "    </tr>\n",
       "    <tr>\n",
       "      <th>1</th>\n",
       "      <td>precision</td>\n",
       "      <td>0.962767</td>\n",
       "    </tr>\n",
       "    <tr>\n",
       "      <th>2</th>\n",
       "      <td>recall</td>\n",
       "      <td>0.882735</td>\n",
       "    </tr>\n",
       "    <tr>\n",
       "      <th>3</th>\n",
       "      <td>f1-score</td>\n",
       "      <td>0.908455</td>\n",
       "    </tr>\n",
       "  </tbody>\n",
       "</table>\n",
       "</div>"
      ],
      "text/plain": [
       "  Performance     Value\n",
       "0     accuary  0.904400\n",
       "1   precision  0.962767\n",
       "2      recall  0.882735\n",
       "3    f1-score  0.908455"
      ]
     },
     "metadata": {},
     "output_type": "display_data"
    }
   ],
   "source": [
    "y_pred[y_pred==2] = 3\n",
    "scClass.plot_performance(y_pred,y_true)"
   ]
  }
 ],
 "metadata": {
  "kernelspec": {
   "display_name": "Python 3 (ipykernel)",
   "language": "python",
   "name": "python3"
  },
  "language_info": {
   "codemirror_mode": {
    "name": "ipython",
    "version": 3
   },
   "file_extension": ".py",
   "mimetype": "text/x-python",
   "name": "python",
   "nbconvert_exporter": "python",
   "pygments_lexer": "ipython3",
   "version": "3.9.6"
  }
 },
 "nbformat": 4,
 "nbformat_minor": 5
}
