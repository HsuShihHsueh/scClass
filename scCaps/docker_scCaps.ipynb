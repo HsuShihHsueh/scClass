{
 "cells": [
  {
   "cell_type": "code",
   "execution_count": 1,
   "id": "29df8d3b",
   "metadata": {},
   "outputs": [
    {
     "name": "stdout",
     "output_type": "stream",
     "text": [
      "3.6: Pulling from library/python\n",
      "\n",
      "\u001b[1B546d541c: Pulling fs layer \n",
      "\u001b[1B9c73b52b: Pulling fs layer \n",
      "\u001b[1B7ae36172: Pulling fs layer \n",
      "\u001b[1Be4811622: Pulling fs layer \n",
      "\u001b[1B74896dfa: Pulling fs layer \n",
      "\u001b[1B1213efc5: Pulling fs layer \n",
      "\u001b[1Bfdc56334: Pulling fs layer \n",
      "\u001b[1B02044bac: Pulling fs layer \n",
      "\u001b[1B2be2be53: Pull complete 209MB/2.209MBB\u001b[8A\u001b[2K\u001b[8A\u001b[2K\u001b[8A\u001b[2K\u001b[9A\u001b[2K\u001b[7A\u001b[2K\u001b[7A\u001b[2K\u001b[9A\u001b[2K\u001b[9A\u001b[2K\u001b[9A\u001b[2K\u001b[9A\u001b[2K\u001b[9A\u001b[2K\u001b[9A\u001b[2K\u001b[9A\u001b[2K\u001b[9A\u001b[2K\u001b[9A\u001b[2K\u001b[9A\u001b[2K\u001b[5A\u001b[2K\u001b[9A\u001b[2K\u001b[9A\u001b[2K\u001b[6A\u001b[2K\u001b[9A\u001b[2K\u001b[9A\u001b[2K\u001b[5A\u001b[2K\u001b[9A\u001b[2K\u001b[5A\u001b[2K\u001b[9A\u001b[2K\u001b[6A\u001b[2K\u001b[9A\u001b[2K\u001b[5A\u001b[2K\u001b[9A\u001b[2K\u001b[6A\u001b[2K\u001b[6A\u001b[2K\u001b[5A\u001b[2K\u001b[9A\u001b[2K\u001b[5A\u001b[2K\u001b[5A\u001b[2K\u001b[4A\u001b[2K\u001b[5A\u001b[2K\u001b[4A\u001b[2K\u001b[5A\u001b[2K\u001b[4A\u001b[2K\u001b[5A\u001b[2K\u001b[4A\u001b[2K\u001b[5A\u001b[2K\u001b[9A\u001b[2K\u001b[5A\u001b[2K\u001b[5A\u001b[2K\u001b[5A\u001b[2K\u001b[5A\u001b[2K\u001b[9A\u001b[2K\u001b[5A\u001b[2K\u001b[3A\u001b[2K\u001b[5A\u001b[2K\u001b[3A\u001b[2K\u001b[3A\u001b[2K\u001b[9A\u001b[2K\u001b[3A\u001b[2K\u001b[3A\u001b[2K\u001b[2A\u001b[2K\u001b[8A\u001b[2K\u001b[8A\u001b[2K\u001b[8A\u001b[2K\u001b[8A\u001b[2K\u001b[8A\u001b[2K\u001b[7A\u001b[2K\u001b[7A\u001b[2K\u001b[7A\u001b[2K\u001b[7A\u001b[2K\u001b[7A\u001b[2K\u001b[1A\u001b[2K\u001b[6A\u001b[2K\u001b[1A\u001b[2K\u001b[6A\u001b[2K\u001b[1A\u001b[2K\u001b[6A\u001b[2K\u001b[1A\u001b[2K\u001b[1A\u001b[2K\u001b[6A\u001b[2K\u001b[6A\u001b[2K\u001b[6A\u001b[2K\u001b[6A\u001b[2K\u001b[6A\u001b[2K\u001b[6A\u001b[2K\u001b[6A\u001b[2K\u001b[6A\u001b[2K\u001b[6A\u001b[2K\u001b[6A\u001b[2K\u001b[6A\u001b[2K\u001b[6A\u001b[2K\u001b[6A\u001b[2K\u001b[6A\u001b[2K\u001b[6A\u001b[2K\u001b[6A\u001b[2K\u001b[6A\u001b[2K\u001b[6A\u001b[2K\u001b[5A\u001b[2K\u001b[5A\u001b[2K\u001b[5A\u001b[2K\u001b[5A\u001b[2K\u001b[5A\u001b[2K\u001b[5A\u001b[2K\u001b[5A\u001b[2K\u001b[5A\u001b[2K\u001b[5A\u001b[2K\u001b[5A\u001b[2K\u001b[5A\u001b[2K\u001b[5A\u001b[2K\u001b[5A\u001b[2K\u001b[5A\u001b[2K\u001b[5A\u001b[2K\u001b[5A\u001b[2K\u001b[5A\u001b[2K\u001b[5A\u001b[2K\u001b[5A\u001b[2K\u001b[5A\u001b[2K\u001b[5A\u001b[2K\u001b[5A\u001b[2K\u001b[5A\u001b[2K\u001b[5A\u001b[2K\u001b[5A\u001b[2K\u001b[5A\u001b[2K\u001b[5A\u001b[2K\u001b[5A\u001b[2K\u001b[5A\u001b[2K\u001b[5A\u001b[2K\u001b[5A\u001b[2K\u001b[5A\u001b[2K\u001b[5A\u001b[2K\u001b[5A\u001b[2K\u001b[5A\u001b[2K\u001b[5A\u001b[2K\u001b[5A\u001b[2K\u001b[5A\u001b[2K\u001b[5A\u001b[2K\u001b[5A\u001b[2K\u001b[5A\u001b[2K\u001b[5A\u001b[2K\u001b[5A\u001b[2K\u001b[5A\u001b[2K\u001b[5A\u001b[2K\u001b[5A\u001b[2K\u001b[5A\u001b[2K\u001b[5A\u001b[2K\u001b[5A\u001b[2K\u001b[5A\u001b[2K\u001b[5A\u001b[2K\u001b[5A\u001b[2K\u001b[5A\u001b[2K\u001b[5A\u001b[2K\u001b[5A\u001b[2K\u001b[5A\u001b[2K\u001b[5A\u001b[2K\u001b[5A\u001b[2K\u001b[4A\u001b[2K\u001b[4A\u001b[2K\u001b[4A\u001b[2K\u001b[4A\u001b[2K\u001b[4A\u001b[2K\u001b[4A\u001b[2K\u001b[3A\u001b[2K\u001b[3A\u001b[2K\u001b[3A\u001b[2K\u001b[3A\u001b[2K\u001b[3A\u001b[2K\u001b[3A\u001b[2K\u001b[3A\u001b[2K\u001b[2A\u001b[2K\u001b[1A\u001b[2K\u001b[1A\u001b[2K\u001b[1A\u001b[2K\u001b[1A\u001b[2KDigest: sha256:f8652afaf88c25f0d22354d547d892591067aa4026a7fa9a6819df9f300af6fc\n",
      "Status: Downloaded newer image for python:3.6\n",
      "docker.io/library/python:3.6\n"
     ]
    }
   ],
   "source": [
    "!docker pull python:3.6"
   ]
  },
  {
   "cell_type": "code",
   "execution_count": 4,
   "id": "6b000338",
   "metadata": {},
   "outputs": [
    {
     "name": "stdout",
     "output_type": "stream",
     "text": [
      "REPOSITORY                 TAG       IMAGE ID       CREATED          SIZE\r\n",
      "sccaps                     v01       aa226722bfc2   22 seconds ago   6.92GB\r\n",
      "hsushihhsueh/scclass       latest    596f1d556b61   12 hours ago     8.07GB\r\n",
      "scclass                    latest    8de9c64e0d6f   12 hours ago     8.07GB\r\n",
      "jupyter/r-notebook         latest    0fa3f9ec0892   2 days ago       2.63GB\r\n",
      "jupyter/minimal-notebook   latest    3c14367ab251   8 days ago       1.49GB\r\n",
      "sc_class                   latest    1485d0232a0b   10 days ago      7.36GB\r\n",
      "<none>                     <none>    84878048be33   3 weeks ago      2.53GB\r\n",
      "ubuntu                     latest    54c9d81cbb44   5 weeks ago      72.8MB\r\n",
      "python                     3.6       54260638d07c   2 months ago     902MB\r\n",
      "python                     3.9.6     1e76b28bfd4e   6 months ago     911MB\r\n"
     ]
    }
   ],
   "source": [
    "!docker image ls"
   ]
  },
  {
   "cell_type": "code",
   "execution_count": 4,
   "id": "3a5e9931",
   "metadata": {},
   "outputs": [],
   "source": [
    "# copy dataset to scCaps\n",
    "!cp ../dataset/*modelC.h5ad scCaps/scClass_data/"
   ]
  },
  {
   "cell_type": "code",
   "execution_count": 8,
   "id": "77de9e2b",
   "metadata": {
    "scrolled": false
   },
   "outputs": [
    {
     "name": "stdout",
     "output_type": "stream",
     "text": [
      "Sending build context to Docker daemon  4.785GB\n",
      "Step 1/11 : FROM python:3.6\n",
      " ---> 54260638d07c\n",
      "Step 2/11 : RUN apt-get update\n",
      " ---> Using cache\n",
      " ---> 88e88388fdf7\n",
      "Step 3/11 : RUN apt-get install nano\n",
      " ---> Using cache\n",
      " ---> bf5a4a1f489b\n",
      "Step 4/11 : RUN pip3 install numpy\n",
      " ---> Using cache\n",
      " ---> be830ae9038b\n",
      "Step 5/11 : RUN pip3 install sklearn\n",
      " ---> Using cache\n",
      " ---> 256a758473ca\n",
      "Step 6/11 : RUN pip3 install keras==2.2.4\n",
      " ---> Using cache\n",
      " ---> 1457fec5078b\n",
      "Step 7/11 : RUN pip3 install tensorflow==1.11.0\n",
      " ---> Using cache\n",
      " ---> efb2feacb90d\n",
      "Step 8/11 : RUN pip3 install scanpy\n",
      " ---> Using cache\n",
      " ---> 7fab09a71a1b\n",
      "Step 9/11 : RUN pip install 'h5py==2.10.0' --force-reinstall\n",
      " ---> Using cache\n",
      " ---> 5e2f42c99b8a\n",
      "Step 10/11 : COPY ./ /scCaps/\n",
      " ---> a948370385b3\n",
      "Step 11/11 : COPY ./autorun.sh /\n",
      " ---> 11bc477e06b2\n",
      "Successfully built 11bc477e06b2\n",
      "Successfully tagged sccaps:v01\n"
     ]
    }
   ],
   "source": [
    "# build image\n",
    "!cd scCaps;docker  image build -t sccaps:v01 ."
   ]
  },
  {
   "cell_type": "code",
   "execution_count": null,
   "id": "9b55aa23",
   "metadata": {},
   "outputs": [],
   "source": [
    "## on terminal:\n",
    "# shhsu@shhsu-test:~$ docker run --name=sccaps --rm -it sccaps:v01 bash\n",
    "# root@3bfca68fa11b:/# bash autorun.sh\n",
    "## run the code below (copy the data from docker to local)\n",
    "# root@3bfca68fa11b:/# exit"
   ]
  },
  {
   "cell_type": "code",
   "execution_count": 21,
   "id": "be67c728",
   "metadata": {},
   "outputs": [],
   "source": [
    "!docker cp sccaps:/scCaps/scClass_data/Modelweight.weight          scCaps/scClass_data/\n",
    "!docker cp sccaps:/scCaps/scClass_data/y_pred_CordBlood_modelC.csv scCaps/scClass_data/\n",
    "!docker cp sccaps:/scCaps/scClass_data/y_pred_PBMC68k_modelC.csv   scCaps/scClass_data/"
   ]
  },
  {
   "cell_type": "raw",
   "id": "395fd0bf",
   "metadata": {},
   "source": [
    "---------Run time----------\n",
    "7 min, 13 sec (Training)\n",
    "---------Run time----------\n",
    "2 min, 18 sec (Classify CordBlood)\n",
    "---------Run time----------\n",
    "1 min, 3 sec (Classify PBMC68k)"
   ]
  },
  {
   "cell_type": "code",
   "execution_count": 92,
   "id": "0ecffaa5",
   "metadata": {},
   "outputs": [
    {
     "name": "stdout",
     "output_type": "stream",
     "text": [
      "{.Id}\r\n"
     ]
    }
   ],
   "source": [
    "## autorun.sh\n",
    "# docker run --name=sccaps --rm -it sccaps:v01 bash\n",
    "#   cd workfolder\n",
    "#   cat Model_Training_docker.py\n",
    "#   python Model_Training_docker.py\n",
    "#   python Model_Classify_docker.py --inputdata='scClass_data/CordBlood_modelC.h5ad'\n",
    "#   python Model_Classify_docker.py --inputdata='scClass_data/PBMC68k_modelC.h5ad'\n",
    "## open other termainal\n",
    "# docker cp sccaps:/workfolder/Modelweight.weight ./download/scCaps/scCaps/scClass_data/\n",
    "# docker cp sccaps:/workfolder/y_pred_PBMC68k.csv ./download/scCaps/scCaps/scClass_data/"
   ]
  },
  {
   "cell_type": "raw",
   "id": "16cff807",
   "metadata": {},
   "source": [
    "loss=nan => decrease epoch or learning-rate\n",
    "https://www.zhihu.com/question/62441748"
   ]
  },
  {
   "cell_type": "markdown",
   "id": "5b477a7d",
   "metadata": {},
   "source": [
    "## Clear used"
   ]
  },
  {
   "cell_type": "code",
   "execution_count": 4,
   "id": "8990620c",
   "metadata": {},
   "outputs": [
    {
     "name": "stdout",
     "output_type": "stream",
     "text": [
      "CONTAINER ID   IMAGE     COMMAND   CREATED   STATUS    PORTS     NAMES\r\n"
     ]
    }
   ],
   "source": [
    "!docker ps -a"
   ]
  },
  {
   "cell_type": "code",
   "execution_count": 74,
   "id": "541c92d5",
   "metadata": {},
   "outputs": [
    {
     "name": "stdout",
     "output_type": "stream",
     "text": [
      "019989157c2b\r\n"
     ]
    }
   ],
   "source": [
    "# stop container\n",
    "# !docker stop 019989157c2b"
   ]
  },
  {
   "cell_type": "code",
   "execution_count": 35,
   "id": "e5666c68",
   "metadata": {},
   "outputs": [
    {
     "name": "stdout",
     "output_type": "stream",
     "text": [
      "Deleted: sha256:8d222eab4eb591bc77c2c4ec542a5b478d2daabcb82d9ac9851ee1c2e77c71d4\r\n",
      "Deleted: sha256:f6c4afe49d2e242ddc19ebebf59850a475deb7e356d0687c99e2ede853e6ef89\r\n",
      "Deleted: sha256:f336f819ef661c6fb561e281061045347c101a95508e5df73f8f9c34d7d637eb\r\n",
      "Deleted: sha256:686e4cde4906f0703762ff940665a9ccb0b04ba6b4a18f55259f4322088a01f7\r\n",
      "Deleted: sha256:57501a48e69161fa8dafd11ad06686513b75a9ee133dc9f907f4e2a23a98d37a\r\n",
      "Deleted: sha256:ef62593e7c07ee68e77d8e6e4f89426b783eb707e69a6d1ed6a6023eef336273\r\n",
      "Deleted: sha256:5f072a9c1420f887e287b598d0b2ed8df6c04acf68bcbd4f97d8bbcea29000bc\r\n",
      "Deleted: sha256:dd15d4d8eadf335fff41b3dca69855031ec875f163ed45bd52caaf41dfa0b8fa\r\n",
      "Deleted: sha256:4007c5758f3ee0e6dceff4e99392820a481a5c9d63dabf88fc048743f55251c3\r\n",
      "Deleted: sha256:6e7e3073efb8a4bdc5737181a514a0091c73e8fc497a7e988ebe44ef4957faf7\r\n",
      "Deleted: sha256:ec683606f5cb046f124f6eaf38d134dd354718afa2980a59c55e00325745c899\r\n",
      "Deleted: sha256:6fafbfcbb401b03f4e8bed2885653a4b79b9ddc8d92b844f139be350f52e5066\r\n",
      "Deleted: sha256:e9a5c66b3953879f2fc1b2d551efe4ff94bef96d08e51565b45d97bd5ef3e356\r\n",
      "Deleted: sha256:e4319d18e04bf890d66a2ce6280089d732c14b37a19ae81b97f6a32fb70fcdd9\r\n",
      "Deleted: sha256:eaccd17c54e5089c9eb2e9334bf2538da6092013397a89b333b753fa35aedfce\r\n"
     ]
    }
   ],
   "source": [
    "# clear docker\n",
    "# !docker image ls\n",
    "# !docker rmi 8d222eab4eb5"
   ]
  },
  {
   "cell_type": "code",
   "execution_count": 3,
   "id": "554f92fb",
   "metadata": {},
   "outputs": [
    {
     "name": "stdout",
     "output_type": "stream",
     "text": [
      "WARNING! This will remove:\n",
      "  - all stopped containers\n",
      "  - all networks not used by at least one container\n",
      "  - all dangling images\n",
      "  - all dangling build cache\n",
      "\n",
      "Are you sure you want to continue? [y/N] Deleted Containers:\n",
      "c34fbbe6768991a70241a729d7a59a6d4d3187a49945f9ea5a5556afcd6a19b1\n",
      "\n",
      "Deleted Images:\n",
      "deleted: sha256:0e6bf563e9fa22a5f893525614b51f91ba7346debd34eb9a09339ffa0869539d\n",
      "deleted: sha256:8465f00cd4833323b8136f12c017c5c660ce437b892858ba8ff5cad03358d83e\n",
      "deleted: sha256:7ca2be499955ac90be65b37c00e873ce82319875fe9663c5bd035087256dad1b\n",
      "deleted: sha256:60531201aaf3967faac9e680dff985d79baf48c7b30a86a2ea01db8ccf2721fb\n",
      "\n",
      "Total reclaimed space: 4.856GB\n"
     ]
    }
   ],
   "source": [
    "# clear tmp on terminal\n",
    "!echo y |docker system prune"
   ]
  },
  {
   "cell_type": "code",
   "execution_count": null,
   "id": "86348f8b",
   "metadata": {},
   "outputs": [],
   "source": []
  }
 ],
 "metadata": {
  "kernelspec": {
   "display_name": "Python 3 (ipykernel)",
   "language": "python",
   "name": "python3"
  },
  "language_info": {
   "codemirror_mode": {
    "name": "ipython",
    "version": 3
   },
   "file_extension": ".py",
   "mimetype": "text/x-python",
   "name": "python",
   "nbconvert_exporter": "python",
   "pygments_lexer": "ipython3",
   "version": "3.9.6"
  }
 },
 "nbformat": 4,
 "nbformat_minor": 5
}
