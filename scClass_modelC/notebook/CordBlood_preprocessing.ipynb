{
 "cells": [
  {
   "cell_type": "code",
   "execution_count": 1,
   "id": "0c958e6e",
   "metadata": {},
   "outputs": [
    {
     "name": "stdout",
     "output_type": "stream",
     "text": [
      "start time: 2022-03-10 17:44:26.668005\n"
     ]
    }
   ],
   "source": [
    "import datetime\n",
    "time_start = datetime.datetime.now()\n",
    "print('start time:',time_start)"
   ]
  },
  {
   "cell_type": "code",
   "execution_count": 2,
   "id": "34a6f5c9",
   "metadata": {},
   "outputs": [],
   "source": [
    "scClass_path = !cd ..;pwd\n",
    "scClass_path = str(scClass_path.n)\n",
    "import sys; sys.path.append(scClass_path)\n",
    "import scClass"
   ]
  },
  {
   "cell_type": "code",
   "execution_count": 7,
   "id": "2304189e",
   "metadata": {},
   "outputs": [],
   "source": [
    "import scanpy as sc\n",
    "import numpy as np\n",
    "import pandas as pd"
   ]
  },
  {
   "cell_type": "code",
   "execution_count": 57,
   "id": "4480a239",
   "metadata": {},
   "outputs": [
    {
     "name": "stderr",
     "output_type": "stream",
     "text": [
      "Observation names are not unique. To make them unique, call `.obs_names_make_unique`.\n",
      "Variable names are not unique. To make them unique, call `.var_names_make_unique`.\n"
     ]
    },
    {
     "data": {
      "text/plain": [
       "AnnData object with n_obs × n_vars = 263828 × 45468\n",
       "    obs: 'antisense_reads', 'cell_barcode_fraction_bases_above_30_mean', 'cell_barcode_fraction_bases_above_30_variance', 'cell_names', 'duplicate_reads', 'emptydrops_FDR', 'emptydrops_IsCell', 'emptydrops_Limited', 'emptydrops_LogProb', 'emptydrops_PValue', 'emptydrops_Total', 'fragments_per_molecule', 'fragments_with_single_read_evidence', 'genes_detected_multiple_observations', 'genomic_read_quality_mean', 'genomic_read_quality_variance', 'genomic_reads_fraction_bases_quality_above_30_mean', 'genomic_reads_fraction_bases_quality_above_30_variance', 'input_id', 'molecule_barcode_fraction_bases_above_30_mean', 'molecule_barcode_fraction_bases_above_30_variance', 'molecules_with_single_read_evidence', 'n_fragments', 'n_genes', 'n_mitochondrial_genes', 'n_mitochondrial_molecules', 'n_molecules', 'n_reads', 'noise_reads', 'pct_mitochondrial_molecules', 'perfect_cell_barcodes', 'perfect_molecule_barcodes', 'reads_mapped_exonic', 'reads_mapped_intergenic', 'reads_mapped_intronic', 'reads_mapped_multiple', 'reads_mapped_too_many_loci', 'reads_mapped_uniquely', 'reads_mapped_utr', 'reads_per_fragment', 'reads_unmapped', 'spliced_reads', 'label', 'percent_mito', 'n_counts', 'u_CellID', 'modelA id', 'modelC id', 'transfer cell type', 'origin cell type'\n",
       "    var: 'antisense_reads', 'duplicate_reads', 'ensembl_ids', 'fragments_per_molecule', 'fragments_with_single_read_evidence', 'gene_names', 'genomic_read_quality_mean', 'genomic_read_quality_variance', 'genomic_reads_fraction_bases_quality_above_30_mean', 'genomic_reads_fraction_bases_quality_above_30_variance', 'molecule_barcode_fraction_bases_above_30_mean', 'molecule_barcode_fraction_bases_above_30_variance', 'molecules_with_single_read_evidence', 'n_fragments', 'n_molecules', 'n_reads', 'noise_reads', 'number_cells_detected_multiple', 'number_cells_expressing', 'perfect_molecule_barcodes', 'reads_mapped_exonic', 'reads_mapped_intronic', 'reads_mapped_multiple', 'reads_mapped_uniquely', 'reads_mapped_utr', 'reads_per_fragment', 'reads_per_molecule', 'spliced_reads'"
      ]
     },
     "execution_count": 57,
     "metadata": {},
     "output_type": "execute_result"
    }
   ],
   "source": [
    "filename_data = \"../../dataset/CordBlood.h5ad\"\n",
    "adata = sc.read_h5ad(filename_data)\n",
    "adata.obs_names_make_unique()\n",
    "adata.obs.index.name = None\n",
    "adata"
   ]
  },
  {
   "cell_type": "code",
   "execution_count": 5,
   "id": "1cf9eb70",
   "metadata": {},
   "outputs": [
    {
     "name": "stdout",
     "output_type": "stream",
     "text": [
      "filter type_id=-1 cell:  263828  -> 203638  cells\n",
      "shuffling data\n"
     ]
    },
    {
     "name": "stderr",
     "output_type": "stream",
     "text": [
      "Variable names are not unique. To make them unique, call `.var_names_make_unique`.\n"
     ]
    }
   ],
   "source": [
    "adata = scClass.pp.preprocess(adata,normalize=False)"
   ]
  },
  {
   "cell_type": "code",
   "execution_count": 6,
   "id": "13572421",
   "metadata": {},
   "outputs": [
    {
     "name": "stderr",
     "output_type": "stream",
     "text": [
      "/home/shhsu/.local/lib/python3.9/site-packages/anndata/_core/anndata.py:120: ImplicitModificationWarning: Transforming to str index.\n",
      "  warnings.warn(\"Transforming to str index.\", ImplicitModificationWarning)\n"
     ]
    },
    {
     "name": "stdout",
     "output_type": "stream",
     "text": [
      "get gene seq...\n",
      "0% 10% 21% 32% 43% 54% 65% 76% 87% 98% \n",
      "Of 45468 genes in the input file, 20303 were found in the training set of 20729 genes.\n",
      "mapping to model...\n",
      "0% 36% 73% "
     ]
    }
   ],
   "source": [
    "adata = scClass.pp.transmodel(adata,gene='gene_names',gene_ref='Gene')"
   ]
  },
  {
   "cell_type": "code",
   "execution_count": 7,
   "id": "14415834",
   "metadata": {},
   "outputs": [],
   "source": [
    "adata.X = adata.X.tocsr()"
   ]
  },
  {
   "cell_type": "code",
   "execution_count": 16,
   "id": "98b9d3be",
   "metadata": {},
   "outputs": [],
   "source": [
    "adata.write_h5ad('../../dataset/CordBlood_modelC.h5ad')"
   ]
  },
  {
   "cell_type": "code",
   "execution_count": 9,
   "id": "264eccee",
   "metadata": {},
   "outputs": [
    {
     "name": "stdout",
     "output_type": "stream",
     "text": [
      "-------------Time Record---------------\n",
      "start time: 2022-03-10 17:44:26.668005\n",
      "  end time: 2022-03-10 17:49:27.260835\n",
      "---------Run time----------\n",
      "5 min, 0 sec\n"
     ]
    }
   ],
   "source": [
    "time_end = datetime.datetime.now()\n",
    "print('-------------Time Record---------------')\n",
    "print('start time:',time_start)\n",
    "print('  end time:',time_end)\n",
    "print('---------Run time----------')\n",
    "delta = time_end-time_start\n",
    "print(delta.seconds//60,'min,',delta.seconds%60,'sec')"
   ]
  }
 ],
 "metadata": {
  "kernelspec": {
   "display_name": "Python 3 (ipykernel)",
   "language": "python",
   "name": "python3"
  },
  "language_info": {
   "codemirror_mode": {
    "name": "ipython",
    "version": 3
   },
   "file_extension": ".py",
   "mimetype": "text/x-python",
   "name": "python",
   "nbconvert_exporter": "python",
   "pygments_lexer": "ipython3",
   "version": "3.9.6"
  }
 },
 "nbformat": 4,
 "nbformat_minor": 5
}
