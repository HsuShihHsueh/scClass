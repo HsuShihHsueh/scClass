{
 "cells": [
  {
   "cell_type": "code",
   "execution_count": 1,
   "id": "c0036bf2",
   "metadata": {},
   "outputs": [
    {
     "name": "stdout",
     "output_type": "stream",
     "text": [
      "start time: 2022-03-10 16:35:31.853297\n"
     ]
    }
   ],
   "source": [
    "import datetime\n",
    "time_start = datetime.datetime.now()\n",
    "print('start time:',time_start)"
   ]
  },
  {
   "cell_type": "code",
   "execution_count": 2,
   "id": "c1760ee8",
   "metadata": {},
   "outputs": [],
   "source": [
    "scClass_path = !cd ..;pwd\n",
    "scClass_path = str(scClass_path.n)\n",
    "import sys; sys.path.append(scClass_path)\n",
    "import scClass"
   ]
  },
  {
   "cell_type": "code",
   "execution_count": 3,
   "id": "b3f568ea",
   "metadata": {},
   "outputs": [],
   "source": [
    "import scanpy as sc\n",
    "import numpy as np\n",
    "import pandas as pd"
   ]
  },
  {
   "cell_type": "code",
   "execution_count": 4,
   "id": "1e92a232",
   "metadata": {},
   "outputs": [
    {
     "data": {
      "text/plain": [
       "AnnData object with n_obs × n_vars = 91789 × 32643\n",
       "    obs: 'cell_ontology_class', 'cell_ontology_id', 'cell_type1', 'dataset_name', 'latent_1', 'latent_10', 'latent_2', 'latent_3', 'latent_4', 'latent_5', 'latent_6', 'latent_7', 'latent_8', 'latent_9', 'organ', 'organism', 'platform', 'tSNE1', 'tSNE2', 'modelA id', 'modelC id', 'transfer cell type', 'origin cell type'\n",
       "    uns: 'expressed_genes', 'known_markers', 'scmap_genes', 'seurat_genes'"
      ]
     },
     "execution_count": 4,
     "metadata": {},
     "output_type": "execute_result"
    }
   ],
   "source": [
    "filename_data = \"../../dataset/PBMC68k.h5ad\"\n",
    "adata = sc.read_h5ad(filename_data)\n",
    "adata"
   ]
  },
  {
   "cell_type": "code",
   "execution_count": 5,
   "id": "5fb9ed1f",
   "metadata": {},
   "outputs": [
    {
     "name": "stdout",
     "output_type": "stream",
     "text": [
      "filter type_id=-1 cell:  91789  -> 91789  cells\n",
      "shuffling data\n"
     ]
    }
   ],
   "source": [
    "adata = scClass.pp.preprocess(adata,normalize=False)"
   ]
  },
  {
   "cell_type": "code",
   "execution_count": 6,
   "id": "897e3372",
   "metadata": {},
   "outputs": [
    {
     "name": "stderr",
     "output_type": "stream",
     "text": [
      "/home/shhsu/.local/lib/python3.9/site-packages/anndata/_core/anndata.py:120: ImplicitModificationWarning: Transforming to str index.\n",
      "  warnings.warn(\"Transforming to str index.\", ImplicitModificationWarning)\n"
     ]
    },
    {
     "name": "stdout",
     "output_type": "stream",
     "text": [
      "get gene seq...\n",
      "0% 15% 30% 45% 61% 76% 91% \n",
      "Of 32643 genes in the input file, 15391 were found in the training set of 20729 genes.\n",
      "mapping to model...\n",
      "0% "
     ]
    }
   ],
   "source": [
    "adata.var['Gene'] = adata.var_names\n",
    "adata = scClass.pp.transmodel(adata,gene='Gene',gene_ref='Gene')"
   ]
  },
  {
   "cell_type": "code",
   "execution_count": 7,
   "id": "0e6a16ba",
   "metadata": {},
   "outputs": [],
   "source": [
    "adata.X = adata.X.tocsr()"
   ]
  },
  {
   "cell_type": "code",
   "execution_count": 8,
   "id": "7063aeae",
   "metadata": {},
   "outputs": [],
   "source": [
    "adata.write_h5ad('../../dataset/PBMC68k_modelC.h5ad')"
   ]
  },
  {
   "cell_type": "code",
   "execution_count": 9,
   "id": "4b93146d",
   "metadata": {},
   "outputs": [
    {
     "name": "stdout",
     "output_type": "stream",
     "text": [
      "-------------Time Record---------------\n",
      "start time: 2022-03-10 16:35:31.853297\n",
      "  end time: 2022-03-10 16:37:09.880806\n",
      "---------Run time----------\n",
      "1 min, 38 sec\n"
     ]
    }
   ],
   "source": [
    "time_end = datetime.datetime.now()\n",
    "print('-------------Time Record---------------')\n",
    "print('start time:',time_start)\n",
    "print('  end time:',time_end)\n",
    "print('---------Run time----------')\n",
    "delta = time_end-time_start\n",
    "print(delta.seconds//60,'min,',delta.seconds%60,'sec')"
   ]
  }
 ],
 "metadata": {
  "kernelspec": {
   "display_name": "Python 3 (ipykernel)",
   "language": "python",
   "name": "python3"
  },
  "language_info": {
   "codemirror_mode": {
    "name": "ipython",
    "version": 3
   },
   "file_extension": ".py",
   "mimetype": "text/x-python",
   "name": "python",
   "nbconvert_exporter": "python",
   "pygments_lexer": "ipython3",
   "version": "3.9.6"
  }
 },
 "nbformat": 4,
 "nbformat_minor": 5
}
