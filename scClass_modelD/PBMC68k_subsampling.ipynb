{
 "cells": [
  {
   "cell_type": "code",
   "execution_count": 1,
   "id": "9c50cad4",
   "metadata": {},
   "outputs": [],
   "source": [
    "scClass_path = !cd ../scClass_modelC;pwd\n",
    "scClass_path = str(scClass_path.n)\n",
    "import sys; sys.path.append(scClass_path)\n",
    "import scClass\n",
    "from scClass.train import Model"
   ]
  },
  {
   "cell_type": "code",
   "execution_count": 2,
   "id": "20edffd9",
   "metadata": {},
   "outputs": [],
   "source": [
    "import scanpy as sc\n",
    "import numpy as np\n",
    "import pandas as pd"
   ]
  },
  {
   "cell_type": "code",
   "execution_count": 3,
   "id": "a7a80868",
   "metadata": {},
   "outputs": [
    {
     "data": {
      "text/plain": [
       "AnnData object with n_obs × n_vars = 161764 × 20729\n",
       "    obs: 'Phase', 'celltype.l1', 'celltype.l2', 'celltype.l3', 'donor', 'lane', 'nCount_ADT', 'nCount_RNA', 'nCount_SCT', 'nFeature_ADT', 'nFeature_RNA', 'nFeature_SCT', 'orig.ident', 'time', 'modelA id', 'modelC id', 'transfer cell type', 'origin cell type'\n",
       "    var: 'Gene'"
      ]
     },
     "execution_count": 3,
     "metadata": {},
     "output_type": "execute_result"
    }
   ],
   "source": [
    "filename_training = \"../dataset/PBMC_CITE.h5ad\"\n",
    "adata = sc.read_h5ad(filename_training)\n",
    "adata"
   ]
  },
  {
   "cell_type": "code",
   "execution_count": 4,
   "id": "ed17f1d1",
   "metadata": {},
   "outputs": [
    {
     "name": "stdout",
     "output_type": "stream",
     "text": [
      "filter type_id=-1 cell:  161764  -> 154238  cells\n",
      "shuffling data\n"
     ]
    }
   ],
   "source": [
    "adata = scClass.pp.preprocess(adata,normalize=False)"
   ]
  },
  {
   "cell_type": "code",
   "execution_count": 5,
   "id": "5eef636d",
   "metadata": {},
   "outputs": [],
   "source": [
    "# subsmapling\n",
    "label_tmp = np.array([],dtype=int)\n",
    "for i in np.unique(adata.obs['modelC id']):\n",
    "    msum = np.array(adata.X.sum(axis=1)).flatten()\n",
    "    msum[adata.obs['modelC id']!=i] = -1\n",
    "    label_tmp = np.append(label_tmp,np.argsort(msum)[::-1][:min((adata.obs['modelC id']==i).sum(),1000)])\n",
    "adata_sub = adata[label_tmp,:]"
   ]
  },
  {
   "cell_type": "code",
   "execution_count": 6,
   "id": "d27cc5be",
   "metadata": {},
   "outputs": [
    {
     "data": {
      "text/html": [
       "<div>\n",
       "<style scoped>\n",
       "    .dataframe tbody tr th:only-of-type {\n",
       "        vertical-align: middle;\n",
       "    }\n",
       "\n",
       "    .dataframe tbody tr th {\n",
       "        vertical-align: top;\n",
       "    }\n",
       "\n",
       "    .dataframe thead th {\n",
       "        text-align: right;\n",
       "    }\n",
       "</style>\n",
       "<table border=\"1\" class=\"dataframe\">\n",
       "  <thead>\n",
       "    <tr style=\"text-align: right;\">\n",
       "      <th></th>\n",
       "      <th>0</th>\n",
       "      <th>1</th>\n",
       "      <th>2</th>\n",
       "      <th>3</th>\n",
       "      <th>4</th>\n",
       "      <th>5</th>\n",
       "      <th>6</th>\n",
       "      <th>7</th>\n",
       "      <th>8</th>\n",
       "      <th>9</th>\n",
       "      <th>10</th>\n",
       "    </tr>\n",
       "  </thead>\n",
       "  <tbody>\n",
       "    <tr>\n",
       "      <th>0</th>\n",
       "      <td>0</td>\n",
       "      <td>1</td>\n",
       "      <td>2</td>\n",
       "      <td>3</td>\n",
       "      <td>4</td>\n",
       "      <td>5</td>\n",
       "      <td>6</td>\n",
       "      <td>7</td>\n",
       "      <td>8</td>\n",
       "      <td>9</td>\n",
       "      <td>10</td>\n",
       "    </tr>\n",
       "    <tr>\n",
       "      <th>1</th>\n",
       "      <td>1000</td>\n",
       "      <td>1000</td>\n",
       "      <td>1000</td>\n",
       "      <td>1000</td>\n",
       "      <td>366</td>\n",
       "      <td>1000</td>\n",
       "      <td>83</td>\n",
       "      <td>1000</td>\n",
       "      <td>1000</td>\n",
       "      <td>1000</td>\n",
       "      <td>329</td>\n",
       "    </tr>\n",
       "  </tbody>\n",
       "</table>\n",
       "</div>"
      ],
      "text/plain": [
       "     0     1     2     3    4     5   6     7     8     9    10\n",
       "0     0     1     2     3    4     5   6     7     8     9   10\n",
       "1  1000  1000  1000  1000  366  1000  83  1000  1000  1000  329"
      ]
     },
     "execution_count": 6,
     "metadata": {},
     "output_type": "execute_result"
    }
   ],
   "source": [
    "unique = np.unique(adata_sub.obs['modelC id'],return_counts=True)\n",
    "pd.DataFrame(unique)"
   ]
  },
  {
   "cell_type": "code",
   "execution_count": 7,
   "id": "599b7a92",
   "metadata": {},
   "outputs": [
    {
     "name": "stdout",
     "output_type": "stream",
     "text": [
      "filter type_id=-1 cell:  8778  -> 8778  cells\n",
      "shuffling data\n",
      "normalizing data\n"
     ]
    }
   ],
   "source": [
    "adata_sub = scClass.pp.preprocess(adata_sub)"
   ]
  },
  {
   "cell_type": "code",
   "execution_count": 8,
   "id": "6b709e14",
   "metadata": {},
   "outputs": [
    {
     "name": "stdout",
     "output_type": "stream",
     "text": [
      "loading data, it will take time\n"
     ]
    }
   ],
   "source": [
    "dataset = scClass.npz_dataloader(matrix=adata_sub.X,label=adata_sub.obs['modelC id'])"
   ]
  },
  {
   "cell_type": "code",
   "execution_count": 9,
   "id": "3e745d8d",
   "metadata": {},
   "outputs": [],
   "source": [
    "model = scClass.Model()"
   ]
  },
  {
   "cell_type": "code",
   "execution_count": 10,
   "id": "53c57be1",
   "metadata": {},
   "outputs": [
    {
     "name": "stdout",
     "output_type": "stream",
     "text": [
      "0 \n",
      "epoch 0 \t| loss:2.95859385 | training accuracy:0.57900000| loss:3.38240862 | validation accuracy:0.52364672\n",
      "0 \n",
      "epoch 1 \t| loss:1.51005495 | training accuracy:0.62700000| loss:1.55159378 | validation accuracy:0.61310541\n",
      "0 \n",
      "epoch 2 \t| loss:0.76437622 | training accuracy:0.74500000| loss:0.86908561 | validation accuracy:0.68717949\n",
      "0 \n",
      "epoch 3 \t| loss:0.49570343 | training accuracy:0.84000000| loss:0.63971293 | validation accuracy:0.80626781\n",
      "0 \n",
      "epoch 4 \t| loss:0.36230868 | training accuracy:0.87600000| loss:0.52071208 | validation accuracy:0.84330484\n",
      "0 \n",
      "epoch 5 \t| loss:0.39955297 | training accuracy:0.89300000| loss:0.59133637 | validation accuracy:0.84216524\n",
      "0 \n",
      "epoch 6 \t| loss:0.30701095 | training accuracy:0.93400000| loss:0.41789809 | validation accuracy:0.90598291\n",
      "0 \n",
      "epoch 7 \t| loss:0.24746627 | training accuracy:0.94000000| loss:0.35422873 | validation accuracy:0.90883191\n",
      "0 \n",
      "epoch 8 \t| loss:0.25215793 | training accuracy:0.92600000| loss:0.40055686 | validation accuracy:0.88319088\n",
      "0 \n",
      "epoch 9 \t| loss:0.15909778 | training accuracy:0.97000000| loss:0.31445473 | validation accuracy:0.93561254\n"
     ]
    }
   ],
   "source": [
    "scClass.training(dataset,model)"
   ]
  },
  {
   "cell_type": "code",
   "execution_count": 11,
   "id": "eaa0bcc6",
   "metadata": {},
   "outputs": [
    {
     "data": {
      "image/png": "[encoded data removed]",
      "text/plain": [
       "<Figure size 432x288 with 1 Axes>"
      ]
     },
     "metadata": {
      "needs_background": "light"
     },
     "output_type": "display_data"
    }
   ],
   "source": [
    "y_pred = scClass.predict(dataset.test_x,model)"
   ]
  },
  {
   "cell_type": "code",
   "execution_count": 12,
   "id": "41ad484c",
   "metadata": {},
   "outputs": [
    {
     "name": "stdout",
     "output_type": "stream",
     "text": [
      "total acc: 93.5005701254276 %\n"
     ]
    },
    {
     "data": {
      "image/png": "[encoded data removed]",
      "text/plain": [
       "<Figure size 504x504 with 1 Axes>"
      ]
     },
     "execution_count": 12,
     "metadata": {},
     "output_type": "execute_result"
    }
   ],
   "source": [
    "scClass.confusion_matrix(y_pred,np.array(dataset.test_y),filter=True)"
   ]
  },
  {
   "cell_type": "code",
   "execution_count": 13,
   "id": "2608a733",
   "metadata": {},
   "outputs": [
    {
     "data": {
      "text/html": [
       "<div>\n",
       "<style scoped>\n",
       "    .dataframe tbody tr th:only-of-type {\n",
       "        vertical-align: middle;\n",
       "    }\n",
       "\n",
       "    .dataframe tbody tr th {\n",
       "        vertical-align: top;\n",
       "    }\n",
       "\n",
       "    .dataframe thead th {\n",
       "        text-align: right;\n",
       "    }\n",
       "</style>\n",
       "<table border=\"1\" class=\"dataframe\">\n",
       "  <thead>\n",
       "    <tr style=\"text-align: right;\">\n",
       "      <th></th>\n",
       "      <th>Performance</th>\n",
       "      <th>Value</th>\n",
       "    </tr>\n",
       "  </thead>\n",
       "  <tbody>\n",
       "    <tr>\n",
       "      <th>0</th>\n",
       "      <td>accuary</td>\n",
       "      <td>0.935006</td>\n",
       "    </tr>\n",
       "    <tr>\n",
       "      <th>1</th>\n",
       "      <td>precision</td>\n",
       "      <td>0.901002</td>\n",
       "    </tr>\n",
       "    <tr>\n",
       "      <th>2</th>\n",
       "      <td>recall</td>\n",
       "      <td>0.947349</td>\n",
       "    </tr>\n",
       "    <tr>\n",
       "      <th>3</th>\n",
       "      <td>f1-score</td>\n",
       "      <td>0.913713</td>\n",
       "    </tr>\n",
       "  </tbody>\n",
       "</table>\n",
       "</div>"
      ],
      "text/plain": [
       "  Performance     Value\n",
       "0     accuary  0.935006\n",
       "1   precision  0.901002\n",
       "2      recall  0.947349\n",
       "3    f1-score  0.913713"
      ]
     },
     "metadata": {},
     "output_type": "display_data"
    }
   ],
   "source": [
    "scClass.plot_performance(y_pred,np.array(dataset.test_y))"
   ]
  },
  {
   "cell_type": "markdown",
   "id": "691aba3c",
   "metadata": {},
   "source": [
    "## Classify"
   ]
  },
  {
   "cell_type": "raw",
   "id": "1b1b0ca2",
   "metadata": {},
   "source": [
    "go run the code below if file not exist:\n",
    "'scClass/scClass_modelC/notebook/CordBlood_preprocessing.ipynb and PBMC68k_preprocessing.ipynb'"
   ]
  },
  {
   "cell_type": "code",
   "execution_count": 14,
   "id": "19395812",
   "metadata": {},
   "outputs": [
    {
     "name": "stdout",
     "output_type": "stream",
     "text": [
      "filter type_id=-1 cell:  91789  -> 91789  cells\n",
      "normalizing data\n"
     ]
    },
    {
     "data": {
      "image/png": "[encoded data removed]",
      "text/plain": [
       "<Figure size 432x288 with 1 Axes>"
      ]
     },
     "metadata": {
      "needs_background": "light"
     },
     "output_type": "display_data"
    }
   ],
   "source": [
    "adata = sc.read_h5ad(\"../dataset/PBMC68k_modelC.h5ad\")\n",
    "adata = scClass.pp.preprocess(adata,filter=True,random=False,normalize=True)\n",
    "y_pred = scClass.predict(adata,model)"
   ]
  },
  {
   "cell_type": "code",
   "execution_count": 15,
   "id": "7ae40ebb",
   "metadata": {},
   "outputs": [
    {
     "name": "stdout",
     "output_type": "stream",
     "text": [
      "total acc: 64.51644532569262 %\n"
     ]
    },
    {
     "data": {
      "image/png": "[encoded data removed]",
      "text/plain": [
       "<Figure size 504x504 with 1 Axes>"
      ]
     },
     "execution_count": 15,
     "metadata": {},
     "output_type": "execute_result"
    }
   ],
   "source": [
    "y_true = adata.obs['modelC id'].values \n",
    "scClass.confusion_matrix(y_pred=y_pred,y_true=y_true)"
   ]
  },
  {
   "cell_type": "code",
   "execution_count": 16,
   "id": "af84ff35",
   "metadata": {},
   "outputs": [
    {
     "name": "stderr",
     "output_type": "stream",
     "text": [
      "/home/shhsu/.local/lib/python3.9/site-packages/sklearn/metrics/_classification.py:1248: UndefinedMetricWarning: Precision is ill-defined and being set to 0.0 in labels with no predicted samples. Use `zero_division` parameter to control this behavior.\n",
      "  _warn_prf(average, modifier, msg_start, len(result))\n"
     ]
    },
    {
     "data": {
      "text/html": [
       "<div>\n",
       "<style scoped>\n",
       "    .dataframe tbody tr th:only-of-type {\n",
       "        vertical-align: middle;\n",
       "    }\n",
       "\n",
       "    .dataframe tbody tr th {\n",
       "        vertical-align: top;\n",
       "    }\n",
       "\n",
       "    .dataframe thead th {\n",
       "        text-align: right;\n",
       "    }\n",
       "</style>\n",
       "<table border=\"1\" class=\"dataframe\">\n",
       "  <thead>\n",
       "    <tr style=\"text-align: right;\">\n",
       "      <th></th>\n",
       "      <th>Performance</th>\n",
       "      <th>Value</th>\n",
       "    </tr>\n",
       "  </thead>\n",
       "  <tbody>\n",
       "    <tr>\n",
       "      <th>0</th>\n",
       "      <td>accuary</td>\n",
       "      <td>0.659763</td>\n",
       "    </tr>\n",
       "    <tr>\n",
       "      <th>1</th>\n",
       "      <td>precision</td>\n",
       "      <td>0.646849</td>\n",
       "    </tr>\n",
       "    <tr>\n",
       "      <th>2</th>\n",
       "      <td>recall</td>\n",
       "      <td>0.867201</td>\n",
       "    </tr>\n",
       "    <tr>\n",
       "      <th>3</th>\n",
       "      <td>f1-score</td>\n",
       "      <td>0.644396</td>\n",
       "    </tr>\n",
       "  </tbody>\n",
       "</table>\n",
       "</div>"
      ],
      "text/plain": [
       "  Performance     Value\n",
       "0     accuary  0.659763\n",
       "1   precision  0.646849\n",
       "2      recall  0.867201\n",
       "3    f1-score  0.644396"
      ]
     },
     "metadata": {},
     "output_type": "display_data"
    }
   ],
   "source": [
    "y_pred[y_pred==2] = 3 #B cell\n",
    "scClass.plot_performance(y_pred,y_true)"
   ]
  },
  {
   "cell_type": "code",
   "execution_count": null,
   "id": "47cd924c",
   "metadata": {},
   "outputs": [],
   "source": []
  }
 ],
 "metadata": {
  "kernelspec": {
   "display_name": "Python 3 (ipykernel)",
   "language": "python",
   "name": "python3"
  },
  "language_info": {
   "codemirror_mode": {
    "name": "ipython",
    "version": 3
   },
   "file_extension": ".py",
   "mimetype": "text/x-python",
   "name": "python",
   "nbconvert_exporter": "python",
   "pygments_lexer": "ipython3",
   "version": "3.9.6"
  }
 },
 "nbformat": 4,
 "nbformat_minor": 5
}
