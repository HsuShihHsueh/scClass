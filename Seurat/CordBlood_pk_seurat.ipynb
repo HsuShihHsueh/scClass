{
 "cells": [
  {
   "cell_type": "raw",
   "id": "5a38c716",
   "metadata": {},
   "source": [
    "go run the code below if file not exist:\n",
    "'scClass/scClass_modelC/notebook/CordBlood_preprocessing.ipynb and PBMC68k_preprocessing.ipynb'"
   ]
  },
  {
   "cell_type": "code",
   "execution_count": null,
   "id": "f746661e",
   "metadata": {},
   "outputs": [],
   "source": [
    "if (!requireNamespace(\"Seurat\", quietly = TRUE)){\n",
    "    install.packages(\"MLmetrics\") \n",
    "    install.packages('Seurat')\n",
    "    install.packages(\"remotes\")\n",
    "    remotes::install_github(\"mojaveazure/seurat-disk\")\n",
    "}"
   ]
  },
  {
   "cell_type": "code",
   "execution_count": 1,
   "id": "7551845b",
   "metadata": {},
   "outputs": [
    {
     "name": "stdout",
     "output_type": "stream",
     "text": [
      "[1] \"start time: 2022-03-11 09:24:01\"\n"
     ]
    }
   ],
   "source": [
    "# run time record\n",
    "time.start <- Sys.time()\n",
    "print(paste('start time:',time.start))"
   ]
  },
  {
   "cell_type": "code",
   "execution_count": 2,
   "id": "d5fe8986",
   "metadata": {},
   "outputs": [
    {
     "name": "stderr",
     "output_type": "stream",
     "text": [
      "\n",
      "Attaching package: ‘MLmetrics’\n",
      "\n",
      "\n",
      "The following object is masked from ‘package:base’:\n",
      "\n",
      "    Recall\n",
      "\n",
      "\n",
      "Attaching SeuratObject\n",
      "\n",
      "Registered S3 method overwritten by 'cli':\n",
      "  method     from         \n",
      "  print.boxx spatstat.geom\n",
      "\n",
      "Registered S3 method overwritten by 'SeuratDisk':\n",
      "  method            from  \n",
      "  as.sparse.H5Group Seurat\n",
      "\n",
      "Loading required package: ggplot2\n",
      "\n",
      "Loading required package: lattice\n",
      "\n",
      "\n",
      "Attaching package: ‘caret’\n",
      "\n",
      "\n",
      "The following objects are masked from ‘package:MLmetrics’:\n",
      "\n",
      "    MAE, RMSE\n",
      "\n",
      "\n"
     ]
    }
   ],
   "source": [
    "library(MLmetrics)\n",
    "library(Seurat)\n",
    "library(SeuratDisk)\n",
    "library(caret)"
   ]
  },
  {
   "cell_type": "code",
   "execution_count": 3,
   "id": "f8fb8a59",
   "metadata": {},
   "outputs": [],
   "source": [
    "##h5ad data -> h5seurat data\n",
    "#overwrite: if the file exist, then not  overwrite\n",
    "if (!file.exists(\"../dataset/PBMC_CITE_modelC.h5seurat\")){\n",
    "    Convert ( \"../dataset/PBMC_CITE_modelC.h5ad\" , dest  =  \"h5seurat\" , overwrite  =  FALSE )\n",
    "}\n",
    "if (!file.exists(\"../dataset/CordBlood_modelC.h5seurat\")){\n",
    "    Convert ( \"../dataset/CordBlood_modelC.h5ad\" , dest  =  \"h5seurat\" , overwrite  =  FALSE )\n",
    "}"
   ]
  },
  {
   "cell_type": "code",
   "execution_count": 4,
   "id": "b63ba337",
   "metadata": {},
   "outputs": [],
   "source": [
    "ref.file <- \"../dataset/PBMC_CITE_modelC.h5seurat\"\n",
    "test.file <- \"../dataset/CordBlood_modelC.h5seurat\""
   ]
  },
  {
   "cell_type": "code",
   "execution_count": 5,
   "id": "e58388e3",
   "metadata": {},
   "outputs": [
    {
     "name": "stderr",
     "output_type": "stream",
     "text": [
      "Validating h5Seurat file\n",
      "\n",
      "Initializing RNA with data\n",
      "\n",
      "Adding counts for RNA\n",
      "\n",
      "Adding feature-level metadata for RNA\n",
      "\n",
      "Adding command information\n",
      "\n",
      "Adding cell-level metadata\n",
      "\n",
      "Warning message:\n",
      "“Invalid name supplied, making object name syntactically valid. New object name is Phasecelltype.l1celltype.l2celltype.l3donorlanenCount_ADTnCount_RNAnCount_SCTnFeature_ADTnFeature_RNAnFeature_SCTorig.identtimemodelA.idmodelC.idtransfer.cell.typeorigin.cell.type; see ?make.names for more details on syntax validity”\n",
      "Adding miscellaneous information\n",
      "\n",
      "Adding tool-specific results\n",
      "\n"
     ]
    }
   ],
   "source": [
    "ref <- LoadH5Seurat(ref.file)"
   ]
  },
  {
   "cell_type": "code",
   "execution_count": 6,
   "id": "3a0ee306",
   "metadata": {},
   "outputs": [],
   "source": [
    "ref <- NormalizeData(ref, verbose = FALSE)\n",
    "ref <- FindVariableFeatures(ref, selection.method = \"vst\", nfeatures = 2000,verbose = FALSE)"
   ]
  },
  {
   "cell_type": "code",
   "execution_count": 7,
   "id": "dbde8b7e",
   "metadata": {},
   "outputs": [
    {
     "name": "stderr",
     "output_type": "stream",
     "text": [
      "Warning message:\n",
      "“The default method for RunUMAP has changed from calling Python UMAP via reticulate to the R-native UWOT using the cosine metric\n",
      "To use Python UMAP via reticulate, set umap.method to 'umap-learn' and metric to 'correlation'\n",
      "This message will be shown once per session”\n"
     ]
    }
   ],
   "source": [
    "ref <- ScaleData(ref, verbose = FALSE)\n",
    "ref <- RunPCA(ref, npcs = 30, verbose = FALSE)\n",
    "ref <- RunUMAP(ref, reduction = \"pca\", dims = 1:30, verbose = FALSE)"
   ]
  },
  {
   "cell_type": "markdown",
   "id": "dea0e187",
   "metadata": {},
   "source": [
    "## Cell type classification"
   ]
  },
  {
   "cell_type": "code",
   "execution_count": 8,
   "id": "c9db364b",
   "metadata": {},
   "outputs": [
    {
     "name": "stderr",
     "output_type": "stream",
     "text": [
      "Validating h5Seurat file\n",
      "\n",
      "Initializing RNA with data\n",
      "\n",
      "Adding counts for RNA\n",
      "\n",
      "Adding feature-level metadata for RNA\n",
      "\n",
      "Adding command information\n",
      "\n",
      "Adding cell-level metadata\n",
      "\n",
      "Warning message:\n",
      "“Invalid name supplied, making object name syntactically valid. New object name is antisense_readscell_barcode_fraction_bases_above_30_meancell_barcode_fraction_bases_above_30_variancecell_namesduplicate_readsemptydrops_FDRemptydrops_IsCellemptydrops_Limitedemptydrops_LogProbemptydrops_PValueemptydrops_Totalfragments_per_moleculefragments_with_single_read_evidencegenes_detected_multiple_observationsgenomic_read_quality_meangenomic_read_quality_variancegenomic_reads_fraction_bases_quality_above_30_meangenomic_reads_fraction_bases_quality_above_30_varianceinput_idmolecule_barcode_fraction_bases_above_30_meanmolecule_barcode_fraction_bases_above_30_variancemolecules_with_single_read_evidencen_fragmentsn_genesn_mitochondrial_genesn_mitochondrial_moleculesn_moleculesn_readsnoise_readspct_mitochondrial_moleculesperfect_cell_barcodesperfect_molecule_barcodesreads_mapped_exonicreads_mapped_intergenicreads_mapped_intronicreads_mapped_multiplereads_mapped_too_many_locireads_mapped_uniquelyreads_mapped_utrreads_per_fragmentreads_unmappedspliced_readslabelpercent_miton_countsu_CellIDmodelA.idmodelC.idtransfer.cell.typeorigin.cell.type; see ?make.names for more details on syntax validity”\n",
      "Adding miscellaneous information\n",
      "\n",
      "Adding tool-specific results\n",
      "\n"
     ]
    }
   ],
   "source": [
    "test <- LoadH5Seurat(test.file)"
   ]
  },
  {
   "cell_type": "code",
   "execution_count": 9,
   "id": "3e0b50e4",
   "metadata": {},
   "outputs": [],
   "source": [
    "# test <- NormalizeData(test, verbose = FALSE)"
   ]
  },
  {
   "cell_type": "code",
   "execution_count": 10,
   "id": "c55cc9c6",
   "metadata": {},
   "outputs": [
    {
     "name": "stderr",
     "output_type": "stream",
     "text": [
      "Projecting cell embeddings\n",
      "\n",
      "Finding neighborhoods\n",
      "\n",
      "Finding anchors\n",
      "\n",
      "\tFound 18155 anchors\n",
      "\n",
      "Filtering anchors\n",
      "\n",
      "\tRetained 325 anchors\n",
      "\n"
     ]
    }
   ],
   "source": [
    "ref.anchors <- FindTransferAnchors(reference = ref, query =test, dims = 1:30, reference.reduction = \"pca\")"
   ]
  },
  {
   "cell_type": "code",
   "execution_count": 11,
   "id": "63818572",
   "metadata": {},
   "outputs": [
    {
     "name": "stderr",
     "output_type": "stream",
     "text": [
      "Finding integration vectors\n",
      "\n",
      "Finding integration vector weights\n",
      "\n",
      "Predicting cell labels\n",
      "\n"
     ]
    }
   ],
   "source": [
    "ref$transfer_cell_type <- as.character(ref$modelC.id) # celltype = transfer_id (int to char)\n",
    "predictions <- TransferData(anchorset = ref.anchors, refdata = ref$transfer_cell_type,dims = 1:30)\n",
    "test <- AddMetaData(test, metadata = predictions)"
   ]
  },
  {
   "cell_type": "markdown",
   "id": "7747921e",
   "metadata": {},
   "source": [
    "## Make Confusion Matrix and evaluate accuracy"
   ]
  },
  {
   "cell_type": "code",
   "execution_count": 12,
   "id": "3072f5c7",
   "metadata": {},
   "outputs": [],
   "source": [
    "label <- c('helper T cell','cytotoxic T cell','memory B cell','naive B cell',\n",
    "           'plasma cell','natural killer cell','erythrocyte',\n",
    "           'megakaryocyte','monocyte','dendritic cell','HSPC')"
   ]
  },
  {
   "cell_type": "code",
   "execution_count": 13,
   "id": "58e7a26f",
   "metadata": {},
   "outputs": [],
   "source": [
    "y.pred <- factor(label[as.integer(test$predicted.id)+1],levels=label)\n",
    "y.true <- factor(test$transfer.cell.type,levels=label)"
   ]
  },
  {
   "cell_type": "code",
   "execution_count": 14,
   "id": "1c40baa0",
   "metadata": {},
   "outputs": [],
   "source": [
    "y.pred <- y.pred[!is.na(y.true)]\n",
    "y.true <- y.true[!is.na(y.true)]"
   ]
  },
  {
   "cell_type": "code",
   "execution_count": 15,
   "id": "5c25c995",
   "metadata": {},
   "outputs": [
    {
     "data": {
      "text/html": [
       "<table class=\"dataframe\">\n",
       "<caption>A data.frame: 11 × 11</caption>\n",
       "<thead>\n",
       "\t<tr><th></th><th scope=col>0</th><th scope=col>1</th><th scope=col>2</th><th scope=col>3</th><th scope=col>4</th><th scope=col>5</th><th scope=col>6</th><th scope=col>7</th><th scope=col>8</th><th scope=col>9</th><th scope=col>10</th></tr>\n",
       "\t<tr><th></th><th scope=col>&lt;int&gt;</th><th scope=col>&lt;int&gt;</th><th scope=col>&lt;int&gt;</th><th scope=col>&lt;int&gt;</th><th scope=col>&lt;int&gt;</th><th scope=col>&lt;int&gt;</th><th scope=col>&lt;int&gt;</th><th scope=col>&lt;int&gt;</th><th scope=col>&lt;int&gt;</th><th scope=col>&lt;int&gt;</th><th scope=col>&lt;int&gt;</th></tr>\n",
       "</thead>\n",
       "<tbody>\n",
       "\t<tr><th scope=row>helper T cell</th><td>0</td><td>    0</td><td> 0</td><td>   0</td><td>0</td><td>   0</td><td>   0</td><td>  0</td><td>    0</td><td>  0</td><td>   0</td></tr>\n",
       "\t<tr><th scope=row>cytotoxic T cell</th><td>0</td><td>33559</td><td> 0</td><td>   0</td><td>0</td><td>  30</td><td>   0</td><td>  0</td><td>    4</td><td>  0</td><td>   0</td></tr>\n",
       "\t<tr><th scope=row>memory B cell</th><td>0</td><td>  572</td><td> 0</td><td> 366</td><td>0</td><td>   4</td><td>   0</td><td>  0</td><td>  747</td><td>  3</td><td>   0</td></tr>\n",
       "\t<tr><th scope=row>naive B cell</th><td>0</td><td> 7675</td><td>29</td><td>9896</td><td>0</td><td>   6</td><td> 131</td><td>  0</td><td>18684</td><td> 20</td><td>   0</td></tr>\n",
       "\t<tr><th scope=row>plasma cell</th><td>0</td><td>    0</td><td> 0</td><td>   0</td><td>0</td><td>   0</td><td>   0</td><td>  0</td><td>    0</td><td>  0</td><td>   0</td></tr>\n",
       "\t<tr><th scope=row>natural killer cell</th><td>0</td><td> 5295</td><td> 0</td><td>  17</td><td>0</td><td>9293</td><td>   7</td><td>  0</td><td>   46</td><td>  0</td><td>   0</td></tr>\n",
       "\t<tr><th scope=row>erythrocyte</th><td>0</td><td>  683</td><td> 0</td><td>  15</td><td>0</td><td> 853</td><td>1324</td><td>  7</td><td>  325</td><td>  1</td><td>1638</td></tr>\n",
       "\t<tr><th scope=row>megakaryocyte</th><td>0</td><td> 1341</td><td> 0</td><td>  33</td><td>0</td><td>  82</td><td>  90</td><td>738</td><td>  229</td><td>  1</td><td>   2</td></tr>\n",
       "\t<tr><th scope=row>monocyte</th><td>0</td><td>  154</td><td> 0</td><td>   0</td><td>0</td><td>   1</td><td>   1</td><td> 10</td><td>28687</td><td>  1</td><td>   0</td></tr>\n",
       "\t<tr><th scope=row>dendritic cell</th><td>0</td><td>    3</td><td> 0</td><td>   0</td><td>0</td><td>   1</td><td>   0</td><td>  0</td><td> 1386</td><td>275</td><td>   0</td></tr>\n",
       "\t<tr><th scope=row>HSPC</th><td>0</td><td>    0</td><td> 0</td><td>   0</td><td>0</td><td>   0</td><td>   0</td><td>  0</td><td>    0</td><td>  0</td><td>   0</td></tr>\n",
       "</tbody>\n",
       "</table>\n"
      ],
      "text/latex": [
       "A data.frame: 11 × 11\n",
       "\\begin{tabular}{r|lllllllllll}\n",
       "  & 0 & 1 & 2 & 3 & 4 & 5 & 6 & 7 & 8 & 9 & 10\\\\\n",
       "  & <int> & <int> & <int> & <int> & <int> & <int> & <int> & <int> & <int> & <int> & <int>\\\\\n",
       "\\hline\n",
       "\thelper T cell & 0 &     0 &  0 &    0 & 0 &    0 &    0 &   0 &     0 &   0 &    0\\\\\n",
       "\tcytotoxic T cell & 0 & 33559 &  0 &    0 & 0 &   30 &    0 &   0 &     4 &   0 &    0\\\\\n",
       "\tmemory B cell & 0 &   572 &  0 &  366 & 0 &    4 &    0 &   0 &   747 &   3 &    0\\\\\n",
       "\tnaive B cell & 0 &  7675 & 29 & 9896 & 0 &    6 &  131 &   0 & 18684 &  20 &    0\\\\\n",
       "\tplasma cell & 0 &     0 &  0 &    0 & 0 &    0 &    0 &   0 &     0 &   0 &    0\\\\\n",
       "\tnatural killer cell & 0 &  5295 &  0 &   17 & 0 & 9293 &    7 &   0 &    46 &   0 &    0\\\\\n",
       "\terythrocyte & 0 &   683 &  0 &   15 & 0 &  853 & 1324 &   7 &   325 &   1 & 1638\\\\\n",
       "\tmegakaryocyte & 0 &  1341 &  0 &   33 & 0 &   82 &   90 & 738 &   229 &   1 &    2\\\\\n",
       "\tmonocyte & 0 &   154 &  0 &    0 & 0 &    1 &    1 &  10 & 28687 &   1 &    0\\\\\n",
       "\tdendritic cell & 0 &     3 &  0 &    0 & 0 &    1 &    0 &   0 &  1386 & 275 &    0\\\\\n",
       "\tHSPC & 0 &     0 &  0 &    0 & 0 &    0 &    0 &   0 &     0 &   0 &    0\\\\\n",
       "\\end{tabular}\n"
      ],
      "text/markdown": [
       "\n",
       "A data.frame: 11 × 11\n",
       "\n",
       "| <!--/--> | 0 &lt;int&gt; | 1 &lt;int&gt; | 2 &lt;int&gt; | 3 &lt;int&gt; | 4 &lt;int&gt; | 5 &lt;int&gt; | 6 &lt;int&gt; | 7 &lt;int&gt; | 8 &lt;int&gt; | 9 &lt;int&gt; | 10 &lt;int&gt; |\n",
       "|---|---|---|---|---|---|---|---|---|---|---|---|\n",
       "| helper T cell | 0 |     0 |  0 |    0 | 0 |    0 |    0 |   0 |     0 |   0 |    0 |\n",
       "| cytotoxic T cell | 0 | 33559 |  0 |    0 | 0 |   30 |    0 |   0 |     4 |   0 |    0 |\n",
       "| memory B cell | 0 |   572 |  0 |  366 | 0 |    4 |    0 |   0 |   747 |   3 |    0 |\n",
       "| naive B cell | 0 |  7675 | 29 | 9896 | 0 |    6 |  131 |   0 | 18684 |  20 |    0 |\n",
       "| plasma cell | 0 |     0 |  0 |    0 | 0 |    0 |    0 |   0 |     0 |   0 |    0 |\n",
       "| natural killer cell | 0 |  5295 |  0 |   17 | 0 | 9293 |    7 |   0 |    46 |   0 |    0 |\n",
       "| erythrocyte | 0 |   683 |  0 |   15 | 0 |  853 | 1324 |   7 |   325 |   1 | 1638 |\n",
       "| megakaryocyte | 0 |  1341 |  0 |   33 | 0 |   82 |   90 | 738 |   229 |   1 |    2 |\n",
       "| monocyte | 0 |   154 |  0 |    0 | 0 |    1 |    1 |  10 | 28687 |   1 |    0 |\n",
       "| dendritic cell | 0 |     3 |  0 |    0 | 0 |    1 |    0 |   0 |  1386 | 275 |    0 |\n",
       "| HSPC | 0 |     0 |  0 |    0 | 0 |    0 |    0 |   0 |     0 |   0 |    0 |\n",
       "\n"
      ],
      "text/plain": [
       "                    0 1     2  3    4 5    6    7   8     9   10  \n",
       "helper T cell       0     0  0    0 0    0    0   0     0   0    0\n",
       "cytotoxic T cell    0 33559  0    0 0   30    0   0     4   0    0\n",
       "memory B cell       0   572  0  366 0    4    0   0   747   3    0\n",
       "naive B cell        0  7675 29 9896 0    6  131   0 18684  20    0\n",
       "plasma cell         0     0  0    0 0    0    0   0     0   0    0\n",
       "natural killer cell 0  5295  0   17 0 9293    7   0    46   0    0\n",
       "erythrocyte         0   683  0   15 0  853 1324   7   325   1 1638\n",
       "megakaryocyte       0  1341  0   33 0   82   90 738   229   1    2\n",
       "monocyte            0   154  0    0 0    1    1  10 28687   1    0\n",
       "dendritic cell      0     3  0    0 0    1    0   0  1386 275    0\n",
       "HSPC                0     0  0    0 0    0    0   0     0   0    0"
      ]
     },
     "metadata": {},
     "output_type": "display_data"
    }
   ],
   "source": [
    "mat.table <- confusionMatrix(y.true,y.pred)\n",
    "mat.df <- as.data.frame.matrix(mat.table$table) \n",
    "colnames(mat.df) = 0:10\n",
    "mat.df"
   ]
  },
  {
   "cell_type": "code",
   "execution_count": 16,
   "id": "7f0d1a51",
   "metadata": {},
   "outputs": [
    {
     "data": {
      "text/html": [
       "<table class=\"dataframe\">\n",
       "<caption>A data.frame: 11 × 11</caption>\n",
       "<thead>\n",
       "\t<tr><th></th><th scope=col>0</th><th scope=col>1</th><th scope=col>2</th><th scope=col>3</th><th scope=col>4</th><th scope=col>5</th><th scope=col>6</th><th scope=col>7</th><th scope=col>8</th><th scope=col>9</th><th scope=col>10</th></tr>\n",
       "\t<tr><th></th><th scope=col>&lt;dbl&gt;</th><th scope=col>&lt;dbl&gt;</th><th scope=col>&lt;dbl&gt;</th><th scope=col>&lt;dbl&gt;</th><th scope=col>&lt;dbl&gt;</th><th scope=col>&lt;dbl&gt;</th><th scope=col>&lt;dbl&gt;</th><th scope=col>&lt;dbl&gt;</th><th scope=col>&lt;dbl&gt;</th><th scope=col>&lt;dbl&gt;</th><th scope=col>&lt;dbl&gt;</th></tr>\n",
       "</thead>\n",
       "<tbody>\n",
       "\t<tr><th scope=row>helper T cell</th><td>0</td><td> 0.0</td><td>0.0</td><td> 0.0</td><td>0</td><td> 0.0</td><td> 0.0</td><td> 0.0</td><td> 0.0</td><td> 0.0</td><td> 0.0</td></tr>\n",
       "\t<tr><th scope=row>cytotoxic T cell</th><td>0</td><td>99.9</td><td>0.0</td><td> 0.0</td><td>0</td><td> 0.1</td><td> 0.0</td><td> 0.0</td><td> 0.0</td><td> 0.0</td><td> 0.0</td></tr>\n",
       "\t<tr><th scope=row>memory B cell</th><td>0</td><td>33.8</td><td>0.0</td><td>21.6</td><td>0</td><td> 0.2</td><td> 0.0</td><td> 0.0</td><td>44.1</td><td> 0.2</td><td> 0.0</td></tr>\n",
       "\t<tr><th scope=row>naive B cell</th><td>0</td><td>21.1</td><td>0.1</td><td>27.2</td><td>0</td><td> 0.0</td><td> 0.4</td><td> 0.0</td><td>51.3</td><td> 0.1</td><td> 0.0</td></tr>\n",
       "\t<tr><th scope=row>plasma cell</th><td>0</td><td> 0.0</td><td>0.0</td><td> 0.0</td><td>0</td><td> 0.0</td><td> 0.0</td><td> 0.0</td><td> 0.0</td><td> 0.0</td><td> 0.0</td></tr>\n",
       "\t<tr><th scope=row>natural killer cell</th><td>0</td><td>36.1</td><td>0.0</td><td> 0.1</td><td>0</td><td>63.4</td><td> 0.0</td><td> 0.0</td><td> 0.3</td><td> 0.0</td><td> 0.0</td></tr>\n",
       "\t<tr><th scope=row>erythrocyte</th><td>0</td><td>14.1</td><td>0.0</td><td> 0.3</td><td>0</td><td>17.6</td><td>27.3</td><td> 0.1</td><td> 6.7</td><td> 0.0</td><td>33.8</td></tr>\n",
       "\t<tr><th scope=row>megakaryocyte</th><td>0</td><td>53.3</td><td>0.0</td><td> 1.3</td><td>0</td><td> 3.3</td><td> 3.6</td><td>29.3</td><td> 9.1</td><td> 0.0</td><td> 0.1</td></tr>\n",
       "\t<tr><th scope=row>monocyte</th><td>0</td><td> 0.5</td><td>0.0</td><td> 0.0</td><td>0</td><td> 0.0</td><td> 0.0</td><td> 0.0</td><td>99.4</td><td> 0.0</td><td> 0.0</td></tr>\n",
       "\t<tr><th scope=row>dendritic cell</th><td>0</td><td> 0.2</td><td>0.0</td><td> 0.0</td><td>0</td><td> 0.1</td><td> 0.0</td><td> 0.0</td><td>83.2</td><td>16.5</td><td> 0.0</td></tr>\n",
       "\t<tr><th scope=row>HSPC</th><td>0</td><td> 0.0</td><td>0.0</td><td> 0.0</td><td>0</td><td> 0.0</td><td> 0.0</td><td> 0.0</td><td> 0.0</td><td> 0.0</td><td> 0.0</td></tr>\n",
       "</tbody>\n",
       "</table>\n"
      ],
      "text/latex": [
       "A data.frame: 11 × 11\n",
       "\\begin{tabular}{r|lllllllllll}\n",
       "  & 0 & 1 & 2 & 3 & 4 & 5 & 6 & 7 & 8 & 9 & 10\\\\\n",
       "  & <dbl> & <dbl> & <dbl> & <dbl> & <dbl> & <dbl> & <dbl> & <dbl> & <dbl> & <dbl> & <dbl>\\\\\n",
       "\\hline\n",
       "\thelper T cell & 0 &  0.0 & 0.0 &  0.0 & 0 &  0.0 &  0.0 &  0.0 &  0.0 &  0.0 &  0.0\\\\\n",
       "\tcytotoxic T cell & 0 & 99.9 & 0.0 &  0.0 & 0 &  0.1 &  0.0 &  0.0 &  0.0 &  0.0 &  0.0\\\\\n",
       "\tmemory B cell & 0 & 33.8 & 0.0 & 21.6 & 0 &  0.2 &  0.0 &  0.0 & 44.1 &  0.2 &  0.0\\\\\n",
       "\tnaive B cell & 0 & 21.1 & 0.1 & 27.2 & 0 &  0.0 &  0.4 &  0.0 & 51.3 &  0.1 &  0.0\\\\\n",
       "\tplasma cell & 0 &  0.0 & 0.0 &  0.0 & 0 &  0.0 &  0.0 &  0.0 &  0.0 &  0.0 &  0.0\\\\\n",
       "\tnatural killer cell & 0 & 36.1 & 0.0 &  0.1 & 0 & 63.4 &  0.0 &  0.0 &  0.3 &  0.0 &  0.0\\\\\n",
       "\terythrocyte & 0 & 14.1 & 0.0 &  0.3 & 0 & 17.6 & 27.3 &  0.1 &  6.7 &  0.0 & 33.8\\\\\n",
       "\tmegakaryocyte & 0 & 53.3 & 0.0 &  1.3 & 0 &  3.3 &  3.6 & 29.3 &  9.1 &  0.0 &  0.1\\\\\n",
       "\tmonocyte & 0 &  0.5 & 0.0 &  0.0 & 0 &  0.0 &  0.0 &  0.0 & 99.4 &  0.0 &  0.0\\\\\n",
       "\tdendritic cell & 0 &  0.2 & 0.0 &  0.0 & 0 &  0.1 &  0.0 &  0.0 & 83.2 & 16.5 &  0.0\\\\\n",
       "\tHSPC & 0 &  0.0 & 0.0 &  0.0 & 0 &  0.0 &  0.0 &  0.0 &  0.0 &  0.0 &  0.0\\\\\n",
       "\\end{tabular}\n"
      ],
      "text/markdown": [
       "\n",
       "A data.frame: 11 × 11\n",
       "\n",
       "| <!--/--> | 0 &lt;dbl&gt; | 1 &lt;dbl&gt; | 2 &lt;dbl&gt; | 3 &lt;dbl&gt; | 4 &lt;dbl&gt; | 5 &lt;dbl&gt; | 6 &lt;dbl&gt; | 7 &lt;dbl&gt; | 8 &lt;dbl&gt; | 9 &lt;dbl&gt; | 10 &lt;dbl&gt; |\n",
       "|---|---|---|---|---|---|---|---|---|---|---|---|\n",
       "| helper T cell | 0 |  0.0 | 0.0 |  0.0 | 0 |  0.0 |  0.0 |  0.0 |  0.0 |  0.0 |  0.0 |\n",
       "| cytotoxic T cell | 0 | 99.9 | 0.0 |  0.0 | 0 |  0.1 |  0.0 |  0.0 |  0.0 |  0.0 |  0.0 |\n",
       "| memory B cell | 0 | 33.8 | 0.0 | 21.6 | 0 |  0.2 |  0.0 |  0.0 | 44.1 |  0.2 |  0.0 |\n",
       "| naive B cell | 0 | 21.1 | 0.1 | 27.2 | 0 |  0.0 |  0.4 |  0.0 | 51.3 |  0.1 |  0.0 |\n",
       "| plasma cell | 0 |  0.0 | 0.0 |  0.0 | 0 |  0.0 |  0.0 |  0.0 |  0.0 |  0.0 |  0.0 |\n",
       "| natural killer cell | 0 | 36.1 | 0.0 |  0.1 | 0 | 63.4 |  0.0 |  0.0 |  0.3 |  0.0 |  0.0 |\n",
       "| erythrocyte | 0 | 14.1 | 0.0 |  0.3 | 0 | 17.6 | 27.3 |  0.1 |  6.7 |  0.0 | 33.8 |\n",
       "| megakaryocyte | 0 | 53.3 | 0.0 |  1.3 | 0 |  3.3 |  3.6 | 29.3 |  9.1 |  0.0 |  0.1 |\n",
       "| monocyte | 0 |  0.5 | 0.0 |  0.0 | 0 |  0.0 |  0.0 |  0.0 | 99.4 |  0.0 |  0.0 |\n",
       "| dendritic cell | 0 |  0.2 | 0.0 |  0.0 | 0 |  0.1 |  0.0 |  0.0 | 83.2 | 16.5 |  0.0 |\n",
       "| HSPC | 0 |  0.0 | 0.0 |  0.0 | 0 |  0.0 |  0.0 |  0.0 |  0.0 |  0.0 |  0.0 |\n",
       "\n"
      ],
      "text/plain": [
       "                    0 1    2   3    4 5    6    7    8    9    10  \n",
       "helper T cell       0  0.0 0.0  0.0 0  0.0  0.0  0.0  0.0  0.0  0.0\n",
       "cytotoxic T cell    0 99.9 0.0  0.0 0  0.1  0.0  0.0  0.0  0.0  0.0\n",
       "memory B cell       0 33.8 0.0 21.6 0  0.2  0.0  0.0 44.1  0.2  0.0\n",
       "naive B cell        0 21.1 0.1 27.2 0  0.0  0.4  0.0 51.3  0.1  0.0\n",
       "plasma cell         0  0.0 0.0  0.0 0  0.0  0.0  0.0  0.0  0.0  0.0\n",
       "natural killer cell 0 36.1 0.0  0.1 0 63.4  0.0  0.0  0.3  0.0  0.0\n",
       "erythrocyte         0 14.1 0.0  0.3 0 17.6 27.3  0.1  6.7  0.0 33.8\n",
       "megakaryocyte       0 53.3 0.0  1.3 0  3.3  3.6 29.3  9.1  0.0  0.1\n",
       "monocyte            0  0.5 0.0  0.0 0  0.0  0.0  0.0 99.4  0.0  0.0\n",
       "dendritic cell      0  0.2 0.0  0.0 0  0.1  0.0  0.0 83.2 16.5  0.0\n",
       "HSPC                0  0.0 0.0  0.0 0  0.0  0.0  0.0  0.0  0.0  0.0"
      ]
     },
     "metadata": {},
     "output_type": "display_data"
    },
    {
     "name": "stdout",
     "output_type": "stream",
     "text": [
      "[1] \"acc: 67.4139942864041 %\"\n"
     ]
    }
   ],
   "source": [
    "mat.df.percent <- round(mat.df/(rowSums(mat.df)+0.001)*100, digits=1)\n",
    "mat.df.percent\n",
    "print(paste('acc:',sum(y.true==y.pred)/length(y.true)*100,'%'))"
   ]
  },
  {
   "cell_type": "code",
   "execution_count": 17,
   "id": "97dac9a1",
   "metadata": {},
   "outputs": [],
   "source": [
    "evaluation_metrics<-function(performance){\n",
    "    eva.list <- c()\n",
    "    performance.name <- as.character(substitute(performance))\n",
    "    for (i in label)\n",
    "    {\n",
    "        eva <- performance(y.true,y.pred, positive = i)\n",
    "        if (!is.nan(eva))\n",
    "        {\n",
    "            eva.list <- c(eva.list,eva)\n",
    "        }\n",
    "    }\n",
    "    print(paste(c(paste(performance.name,':'),eva.list)))\n",
    "    print('-----------------------------------------------------------------')\n",
    "    print(paste(performance.name,'(average):',mean(eva.list)))\n",
    "}"
   ]
  },
  {
   "cell_type": "code",
   "execution_count": 18,
   "id": "53099d4a",
   "metadata": {},
   "outputs": [
    {
     "name": "stdout",
     "output_type": "stream",
     "text": [
      " [1] \"Precision :\"       \"0.680958564993304\" \"0\"                \n",
      " [4] \"0.958264742906943\" \"0.904868549172347\" \"0.852543464262717\"\n",
      " [7] \"0.977483443708609\" \"0.572503392671829\" \"0.913621262458472\"\n",
      "[10] \"0\"                \n",
      "[1] \"-----------------------------------------------------------------\"\n",
      "[1] \"Precision (average): 0.651138157797136\"\n"
     ]
    }
   ],
   "source": [
    "evaluation_metrics(Precision)"
   ]
  },
  {
   "cell_type": "code",
   "execution_count": 19,
   "id": "4203a4fd",
   "metadata": {},
   "outputs": [
    {
     "name": "stdout",
     "output_type": "stream",
     "text": [
      "[1] \"Recall :\"          \"0.998987884380675\" \"0\"                \n",
      "[4] \"0.271562251310337\" \"0.633988265793423\" \"0.273215022699133\"\n",
      "[7] \"0.293322734499205\" \"0.994212240937132\" \"0.165165165165165\"\n",
      "[1] \"-----------------------------------------------------------------\"\n",
      "[1] \"Recall (average): 0.453806695598134\"\n"
     ]
    }
   ],
   "source": [
    "evaluation_metrics(Recall)"
   ]
  },
  {
   "cell_type": "code",
   "execution_count": 20,
   "id": "007bdf62",
   "metadata": {},
   "outputs": [
    {
     "name": "stdout",
     "output_type": "stream",
     "text": [
      "[1] \"F1_Score :\"        \"0.809870286576169\" \"0.42319534724598\" \n",
      "[4] \"0.74558729139923\"  \"0.413814658540397\" \"0.451238153469887\"\n",
      "[7] \"0.72660266963856\"  \"0.279755849440488\"\n",
      "[1] \"-----------------------------------------------------------------\"\n",
      "[1] \"F1_Score (average): 0.550009179472959\"\n"
     ]
    }
   ],
   "source": [
    "evaluation_metrics(F1_Score)"
   ]
  },
  {
   "cell_type": "code",
   "execution_count": 21,
   "id": "18cec639",
   "metadata": {},
   "outputs": [
    {
     "name": "stdout",
     "output_type": "stream",
     "text": [
      "[1] \"start time: 2022-03-11 09:24:01\"\n",
      "[1] \"end   time: 2022-03-11 10:52:13\"\n"
     ]
    },
    {
     "data": {
      "text/plain": [
       "Time difference of 1.470056 hours"
      ]
     },
     "metadata": {},
     "output_type": "display_data"
    }
   ],
   "source": [
    "# run time record\n",
    "time.end <- Sys.time()\n",
    "print(paste('start time:',time.start))\n",
    "print(paste('end   time:',time.end))\n",
    "time.end - time.start "
   ]
  },
  {
   "cell_type": "code",
   "execution_count": 22,
   "id": "62247cbe",
   "metadata": {},
   "outputs": [],
   "source": [
    "# !rm ../dataset/PBMC_CITE_modelC.h5ad\n",
    "# !rm ../dataset/CordBlood_modelC.h5ad"
   ]
  }
 ],
 "metadata": {
  "kernelspec": {
   "display_name": "R",
   "language": "R",
   "name": "ir"
  },
  "language_info": {
   "codemirror_mode": "r",
   "file_extension": ".r",
   "mimetype": "text/x-r-source",
   "name": "R",
   "pygments_lexer": "r",
   "version": "4.1.0"
  }
 },
 "nbformat": 4,
 "nbformat_minor": 5
}
