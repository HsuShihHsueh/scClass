{
 "cells": [
  {
   "cell_type": "raw",
   "id": "91e2fbf8",
   "metadata": {},
   "source": [
    "go run the code below if file not exist:\n",
    "'scClass/scClass_modelC/notebook/CordBlood_preprocessing.ipynb and PBMC68k_preprocessing.ipynb'"
   ]
  },
  {
   "cell_type": "code",
   "execution_count": null,
   "id": "c29a4906",
   "metadata": {},
   "outputs": [],
   "source": [
    "if (!requireNamespace(\"Seurat\", quietly = TRUE)){\n",
    "    install.packages(\"MLmetrics\") \n",
    "    install.packages('Seurat')\n",
    "    install.packages(\"remotes\")\n",
    "    remotes::install_github(\"mojaveazure/seurat-disk\")\n",
    "}"
   ]
  },
  {
   "cell_type": "code",
   "execution_count": 1,
   "id": "dd005ab6",
   "metadata": {},
   "outputs": [
    {
     "name": "stdout",
     "output_type": "stream",
     "text": [
      "[1] \"start time: 2022-03-11 11:12:59\"\n"
     ]
    }
   ],
   "source": [
    "# run time record\n",
    "time.start <- Sys.time()\n",
    "print(paste('start time:',time.start))"
   ]
  },
  {
   "cell_type": "code",
   "execution_count": 2,
   "id": "bd216801",
   "metadata": {},
   "outputs": [
    {
     "name": "stderr",
     "output_type": "stream",
     "text": [
      "\n",
      "Attaching package: ‘MLmetrics’\n",
      "\n",
      "\n",
      "The following object is masked from ‘package:base’:\n",
      "\n",
      "    Recall\n",
      "\n",
      "\n",
      "Attaching SeuratObject\n",
      "\n",
      "Registered S3 method overwritten by 'cli':\n",
      "  method     from         \n",
      "  print.boxx spatstat.geom\n",
      "\n",
      "Registered S3 method overwritten by 'SeuratDisk':\n",
      "  method            from  \n",
      "  as.sparse.H5Group Seurat\n",
      "\n",
      "Loading required package: ggplot2\n",
      "\n",
      "Loading required package: lattice\n",
      "\n",
      "\n",
      "Attaching package: ‘caret’\n",
      "\n",
      "\n",
      "The following objects are masked from ‘package:MLmetrics’:\n",
      "\n",
      "    MAE, RMSE\n",
      "\n",
      "\n"
     ]
    }
   ],
   "source": [
    "library(MLmetrics)\n",
    "library(Seurat)\n",
    "library(SeuratDisk)\n",
    "library(caret)"
   ]
  },
  {
   "cell_type": "code",
   "execution_count": 3,
   "id": "5b9ef273",
   "metadata": {},
   "outputs": [],
   "source": [
    "##h5ad data -> h5seurat data\n",
    "#overwrite: if the file exist, then not  overwrite\n",
    "if (!file.exists(\"../dataset/PBMC_CITE_modelC.h5seurat\")){\n",
    "    Convert ( \"../dataset/PBMC_CITE_modelC.h5ad\" , dest  =  \"h5seurat\" , overwrite  =  FALSE )\n",
    "}\n",
    "if (!file.exists(\"../dataset/PBMC68k_modelC.h5seurat\")){\n",
    "    Convert ( \"../dataset/PBMC68k_modelC.h5ad\" , dest  =  \"h5seurat\" , overwrite  =  FALSE )\n",
    "}"
   ]
  },
  {
   "cell_type": "code",
   "execution_count": 4,
   "id": "31ae0428",
   "metadata": {},
   "outputs": [],
   "source": [
    "ref_file <- \"../dataset/PBMC_CITE_modelC.h5seurat\"\n",
    "test.file <- \"../dataset/PBMC68k_modelC.h5seurat\""
   ]
  },
  {
   "cell_type": "markdown",
   "id": "d2839f16",
   "metadata": {},
   "source": [
    "## Reference Data Preprocessing"
   ]
  },
  {
   "cell_type": "code",
   "execution_count": 5,
   "id": "b316b2d6",
   "metadata": {},
   "outputs": [
    {
     "name": "stderr",
     "output_type": "stream",
     "text": [
      "Validating h5Seurat file\n",
      "\n",
      "Initializing RNA with data\n",
      "\n",
      "Adding counts for RNA\n",
      "\n",
      "Adding feature-level metadata for RNA\n",
      "\n",
      "Adding command information\n",
      "\n",
      "Adding cell-level metadata\n",
      "\n",
      "Warning message:\n",
      "“Invalid name supplied, making object name syntactically valid. New object name is Phasecelltype.l1celltype.l2celltype.l3donorlanenCount_ADTnCount_RNAnCount_SCTnFeature_ADTnFeature_RNAnFeature_SCTorig.identtimemodelA.idmodelC.idtransfer.cell.typeorigin.cell.type; see ?make.names for more details on syntax validity”\n",
      "Adding miscellaneous information\n",
      "\n",
      "Adding tool-specific results\n",
      "\n"
     ]
    }
   ],
   "source": [
    "ref <- LoadH5Seurat(ref_file)"
   ]
  },
  {
   "cell_type": "code",
   "execution_count": 6,
   "id": "af84e3bf",
   "metadata": {},
   "outputs": [],
   "source": [
    "ref <- NormalizeData(ref, verbose = FALSE)\n",
    "ref <- FindVariableFeatures(ref, selection.method = \"vst\", nfeatures = 2000,verbose = FALSE)"
   ]
  },
  {
   "cell_type": "code",
   "execution_count": 7,
   "id": "be00ab4e",
   "metadata": {},
   "outputs": [
    {
     "name": "stderr",
     "output_type": "stream",
     "text": [
      "Warning message:\n",
      "“The default method for RunUMAP has changed from calling Python UMAP via reticulate to the R-native UWOT using the cosine metric\n",
      "To use Python UMAP via reticulate, set umap.method to 'umap-learn' and metric to 'correlation'\n",
      "This message will be shown once per session”\n"
     ]
    }
   ],
   "source": [
    "ref <- ScaleData(ref, verbose = FALSE)\n",
    "ref <- RunPCA(ref, npcs = 30, verbose = FALSE)\n",
    "ref <- RunUMAP(ref, reduction = \"pca\", dims = 1:30, verbose = FALSE)"
   ]
  },
  {
   "cell_type": "markdown",
   "id": "b3f0785a",
   "metadata": {},
   "source": [
    "## Cell type classification"
   ]
  },
  {
   "cell_type": "code",
   "execution_count": 8,
   "id": "d910750b",
   "metadata": {},
   "outputs": [
    {
     "name": "stderr",
     "output_type": "stream",
     "text": [
      "Validating h5Seurat file\n",
      "\n",
      "Initializing RNA with data\n",
      "\n",
      "Adding counts for RNA\n",
      "\n",
      "Adding feature-level metadata for RNA\n",
      "\n",
      "Adding command information\n",
      "\n",
      "Adding cell-level metadata\n",
      "\n",
      "Warning message:\n",
      "“Invalid name supplied, making object name syntactically valid. New object name is cell_ontology_classcell_ontology_idcell_type1dataset_namelatent_1latent_10latent_2latent_3latent_4latent_5latent_6latent_7latent_8latent_9organorganismplatformtSNE1tSNE2modelA.idmodelC.idtransfer.cell.typeorigin.cell.type; see ?make.names for more details on syntax validity”\n",
      "Adding miscellaneous information\n",
      "\n",
      "Adding tool-specific results\n",
      "\n"
     ]
    }
   ],
   "source": [
    "test <- LoadH5Seurat(test.file)"
   ]
  },
  {
   "cell_type": "code",
   "execution_count": 9,
   "id": "2791fcab",
   "metadata": {},
   "outputs": [
    {
     "name": "stderr",
     "output_type": "stream",
     "text": [
      "Projecting cell embeddings\n",
      "\n",
      "Finding neighborhoods\n",
      "\n",
      "Finding anchors\n",
      "\n",
      "\tFound 5685 anchors\n",
      "\n",
      "Filtering anchors\n",
      "\n",
      "\tRetained 214 anchors\n",
      "\n"
     ]
    }
   ],
   "source": [
    "ref.anchors <- FindTransferAnchors(reference = ref, query =test, dims = 1:30, reference.reduction = \"pca\")"
   ]
  },
  {
   "cell_type": "code",
   "execution_count": 10,
   "id": "5d95f3d8",
   "metadata": {},
   "outputs": [
    {
     "name": "stderr",
     "output_type": "stream",
     "text": [
      "Finding integration vectors\n",
      "\n",
      "Finding integration vector weights\n",
      "\n",
      "Predicting cell labels\n",
      "\n"
     ]
    }
   ],
   "source": [
    "ref$transfer_cell_type <- as.character(ref$modelC.id) # celltype = modelC.id (int to char)\n",
    "predictions <- TransferData(anchorset = ref.anchors, refdata = ref$transfer_cell_type,dims = 1:30)\n",
    "test <- AddMetaData(test, metadata = predictions)"
   ]
  },
  {
   "cell_type": "markdown",
   "id": "747ff665",
   "metadata": {},
   "source": [
    "## Make Confusion Matrix and evaluate accuracy"
   ]
  },
  {
   "cell_type": "code",
   "execution_count": 11,
   "id": "e1036335",
   "metadata": {},
   "outputs": [],
   "source": [
    "label <- c('T-helper cell','cytotoxic T cell','memory B cell','naive B cell',\n",
    "           'plasma cell','natural killer cell','erythrocyte',\n",
    "           'megakaryocyte','monocyte','dendritic cell','bone marrow hematopoietic cell')"
   ]
  },
  {
   "cell_type": "code",
   "execution_count": 12,
   "id": "34583b47",
   "metadata": {},
   "outputs": [],
   "source": [
    "y.pred <- factor(label[as.integer(test$predicted.id)+1],levels=label)\n",
    "y.true <- factor(test$transfer.cell.type,levels=label)\n",
    "y.pred <- y.pred[!is.na(y.true)]\n",
    "y.true <- y.true[!is.na(y.true)]"
   ]
  },
  {
   "cell_type": "code",
   "execution_count": 13,
   "id": "15d8a76b",
   "metadata": {},
   "outputs": [
    {
     "data": {
      "text/html": [
       "<table class=\"dataframe\">\n",
       "<caption>A data.frame: 11 × 11</caption>\n",
       "<thead>\n",
       "\t<tr><th></th><th scope=col>0</th><th scope=col>1</th><th scope=col>2</th><th scope=col>3</th><th scope=col>4</th><th scope=col>5</th><th scope=col>6</th><th scope=col>7</th><th scope=col>8</th><th scope=col>9</th><th scope=col>10</th></tr>\n",
       "\t<tr><th></th><th scope=col>&lt;int&gt;</th><th scope=col>&lt;int&gt;</th><th scope=col>&lt;int&gt;</th><th scope=col>&lt;int&gt;</th><th scope=col>&lt;int&gt;</th><th scope=col>&lt;int&gt;</th><th scope=col>&lt;int&gt;</th><th scope=col>&lt;int&gt;</th><th scope=col>&lt;int&gt;</th><th scope=col>&lt;int&gt;</th><th scope=col>&lt;int&gt;</th></tr>\n",
       "</thead>\n",
       "<tbody>\n",
       "\t<tr><th scope=row>T-helper cell</th><td>41934</td><td>0</td><td>0</td><td>0</td><td>9</td><td>0</td><td>0</td><td>0</td><td> 173</td><td> 16</td><td>  47</td></tr>\n",
       "\t<tr><th scope=row>cytotoxic T cell</th><td>22139</td><td>0</td><td>0</td><td>0</td><td>1</td><td>0</td><td>0</td><td>0</td><td>  19</td><td>  0</td><td>   3</td></tr>\n",
       "\t<tr><th scope=row>memory B cell</th><td>    0</td><td>0</td><td>0</td><td>0</td><td>0</td><td>0</td><td>0</td><td>0</td><td>   0</td><td>  0</td><td>   0</td></tr>\n",
       "\t<tr><th scope=row>naive B cell</th><td> 8929</td><td>0</td><td>0</td><td>0</td><td>1</td><td>0</td><td>0</td><td>0</td><td>1005</td><td>150</td><td>   0</td></tr>\n",
       "\t<tr><th scope=row>plasma cell</th><td>    0</td><td>0</td><td>0</td><td>0</td><td>0</td><td>0</td><td>0</td><td>0</td><td>   0</td><td>  0</td><td>   0</td></tr>\n",
       "\t<tr><th scope=row>natural killer cell</th><td> 7661</td><td>0</td><td>0</td><td>0</td><td>0</td><td>0</td><td>0</td><td>0</td><td> 704</td><td>  0</td><td>  20</td></tr>\n",
       "\t<tr><th scope=row>erythrocyte</th><td>    0</td><td>0</td><td>0</td><td>0</td><td>0</td><td>0</td><td>0</td><td>0</td><td>   0</td><td>  0</td><td>   0</td></tr>\n",
       "\t<tr><th scope=row>megakaryocyte</th><td>    0</td><td>0</td><td>0</td><td>0</td><td>0</td><td>0</td><td>0</td><td>0</td><td>   0</td><td>  0</td><td>   0</td></tr>\n",
       "\t<tr><th scope=row>monocyte</th><td>   44</td><td>0</td><td>0</td><td>0</td><td>1</td><td>0</td><td>0</td><td>0</td><td>2378</td><td> 44</td><td>   0</td></tr>\n",
       "\t<tr><th scope=row>dendritic cell</th><td>    3</td><td>0</td><td>0</td><td>0</td><td>0</td><td>0</td><td>0</td><td>0</td><td>   5</td><td> 91</td><td>   0</td></tr>\n",
       "\t<tr><th scope=row>bone marrow hematopoietic cell</th><td> 1714</td><td>0</td><td>0</td><td>0</td><td>1</td><td>0</td><td>0</td><td>0</td><td>1118</td><td> 29</td><td>3550</td></tr>\n",
       "</tbody>\n",
       "</table>\n"
      ],
      "text/latex": [
       "A data.frame: 11 × 11\n",
       "\\begin{tabular}{r|lllllllllll}\n",
       "  & 0 & 1 & 2 & 3 & 4 & 5 & 6 & 7 & 8 & 9 & 10\\\\\n",
       "  & <int> & <int> & <int> & <int> & <int> & <int> & <int> & <int> & <int> & <int> & <int>\\\\\n",
       "\\hline\n",
       "\tT-helper cell & 41934 & 0 & 0 & 0 & 9 & 0 & 0 & 0 &  173 &  16 &   47\\\\\n",
       "\tcytotoxic T cell & 22139 & 0 & 0 & 0 & 1 & 0 & 0 & 0 &   19 &   0 &    3\\\\\n",
       "\tmemory B cell &     0 & 0 & 0 & 0 & 0 & 0 & 0 & 0 &    0 &   0 &    0\\\\\n",
       "\tnaive B cell &  8929 & 0 & 0 & 0 & 1 & 0 & 0 & 0 & 1005 & 150 &    0\\\\\n",
       "\tplasma cell &     0 & 0 & 0 & 0 & 0 & 0 & 0 & 0 &    0 &   0 &    0\\\\\n",
       "\tnatural killer cell &  7661 & 0 & 0 & 0 & 0 & 0 & 0 & 0 &  704 &   0 &   20\\\\\n",
       "\terythrocyte &     0 & 0 & 0 & 0 & 0 & 0 & 0 & 0 &    0 &   0 &    0\\\\\n",
       "\tmegakaryocyte &     0 & 0 & 0 & 0 & 0 & 0 & 0 & 0 &    0 &   0 &    0\\\\\n",
       "\tmonocyte &    44 & 0 & 0 & 0 & 1 & 0 & 0 & 0 & 2378 &  44 &    0\\\\\n",
       "\tdendritic cell &     3 & 0 & 0 & 0 & 0 & 0 & 0 & 0 &    5 &  91 &    0\\\\\n",
       "\tbone marrow hematopoietic cell &  1714 & 0 & 0 & 0 & 1 & 0 & 0 & 0 & 1118 &  29 & 3550\\\\\n",
       "\\end{tabular}\n"
      ],
      "text/markdown": [
       "\n",
       "A data.frame: 11 × 11\n",
       "\n",
       "| <!--/--> | 0 &lt;int&gt; | 1 &lt;int&gt; | 2 &lt;int&gt; | 3 &lt;int&gt; | 4 &lt;int&gt; | 5 &lt;int&gt; | 6 &lt;int&gt; | 7 &lt;int&gt; | 8 &lt;int&gt; | 9 &lt;int&gt; | 10 &lt;int&gt; |\n",
       "|---|---|---|---|---|---|---|---|---|---|---|---|\n",
       "| T-helper cell | 41934 | 0 | 0 | 0 | 9 | 0 | 0 | 0 |  173 |  16 |   47 |\n",
       "| cytotoxic T cell | 22139 | 0 | 0 | 0 | 1 | 0 | 0 | 0 |   19 |   0 |    3 |\n",
       "| memory B cell |     0 | 0 | 0 | 0 | 0 | 0 | 0 | 0 |    0 |   0 |    0 |\n",
       "| naive B cell |  8929 | 0 | 0 | 0 | 1 | 0 | 0 | 0 | 1005 | 150 |    0 |\n",
       "| plasma cell |     0 | 0 | 0 | 0 | 0 | 0 | 0 | 0 |    0 |   0 |    0 |\n",
       "| natural killer cell |  7661 | 0 | 0 | 0 | 0 | 0 | 0 | 0 |  704 |   0 |   20 |\n",
       "| erythrocyte |     0 | 0 | 0 | 0 | 0 | 0 | 0 | 0 |    0 |   0 |    0 |\n",
       "| megakaryocyte |     0 | 0 | 0 | 0 | 0 | 0 | 0 | 0 |    0 |   0 |    0 |\n",
       "| monocyte |    44 | 0 | 0 | 0 | 1 | 0 | 0 | 0 | 2378 |  44 |    0 |\n",
       "| dendritic cell |     3 | 0 | 0 | 0 | 0 | 0 | 0 | 0 |    5 |  91 |    0 |\n",
       "| bone marrow hematopoietic cell |  1714 | 0 | 0 | 0 | 1 | 0 | 0 | 0 | 1118 |  29 | 3550 |\n",
       "\n"
      ],
      "text/plain": [
       "                               0     1 2 3 4 5 6 7 8    9   10  \n",
       "T-helper cell                  41934 0 0 0 9 0 0 0  173  16   47\n",
       "cytotoxic T cell               22139 0 0 0 1 0 0 0   19   0    3\n",
       "memory B cell                      0 0 0 0 0 0 0 0    0   0    0\n",
       "naive B cell                    8929 0 0 0 1 0 0 0 1005 150    0\n",
       "plasma cell                        0 0 0 0 0 0 0 0    0   0    0\n",
       "natural killer cell             7661 0 0 0 0 0 0 0  704   0   20\n",
       "erythrocyte                        0 0 0 0 0 0 0 0    0   0    0\n",
       "megakaryocyte                      0 0 0 0 0 0 0 0    0   0    0\n",
       "monocyte                          44 0 0 0 1 0 0 0 2378  44    0\n",
       "dendritic cell                     3 0 0 0 0 0 0 0    5  91    0\n",
       "bone marrow hematopoietic cell  1714 0 0 0 1 0 0 0 1118  29 3550"
      ]
     },
     "metadata": {},
     "output_type": "display_data"
    }
   ],
   "source": [
    "mat.table <- confusionMatrix(y.true,y.pred)\n",
    "mat.df <- as.data.frame.matrix(mat.table$table) \n",
    "colnames(mat.df) = 0:10\n",
    "mat.df"
   ]
  },
  {
   "cell_type": "code",
   "execution_count": 14,
   "id": "051fa7fd",
   "metadata": {},
   "outputs": [
    {
     "data": {
      "text/html": [
       "<table class=\"dataframe\">\n",
       "<caption>A data.frame: 11 × 11</caption>\n",
       "<thead>\n",
       "\t<tr><th></th><th scope=col>0</th><th scope=col>1</th><th scope=col>2</th><th scope=col>3</th><th scope=col>4</th><th scope=col>5</th><th scope=col>6</th><th scope=col>7</th><th scope=col>8</th><th scope=col>9</th><th scope=col>10</th></tr>\n",
       "\t<tr><th></th><th scope=col>&lt;dbl&gt;</th><th scope=col>&lt;dbl&gt;</th><th scope=col>&lt;dbl&gt;</th><th scope=col>&lt;dbl&gt;</th><th scope=col>&lt;dbl&gt;</th><th scope=col>&lt;dbl&gt;</th><th scope=col>&lt;dbl&gt;</th><th scope=col>&lt;dbl&gt;</th><th scope=col>&lt;dbl&gt;</th><th scope=col>&lt;dbl&gt;</th><th scope=col>&lt;dbl&gt;</th></tr>\n",
       "</thead>\n",
       "<tbody>\n",
       "\t<tr><th scope=row>T-helper cell</th><td>99.4</td><td>0</td><td>0</td><td>0</td><td>0</td><td>0</td><td>0</td><td>0</td><td> 0.4</td><td> 0.0</td><td> 0.1</td></tr>\n",
       "\t<tr><th scope=row>cytotoxic T cell</th><td>99.9</td><td>0</td><td>0</td><td>0</td><td>0</td><td>0</td><td>0</td><td>0</td><td> 0.1</td><td> 0.0</td><td> 0.0</td></tr>\n",
       "\t<tr><th scope=row>memory B cell</th><td> 0.0</td><td>0</td><td>0</td><td>0</td><td>0</td><td>0</td><td>0</td><td>0</td><td> 0.0</td><td> 0.0</td><td> 0.0</td></tr>\n",
       "\t<tr><th scope=row>naive B cell</th><td>88.5</td><td>0</td><td>0</td><td>0</td><td>0</td><td>0</td><td>0</td><td>0</td><td>10.0</td><td> 1.5</td><td> 0.0</td></tr>\n",
       "\t<tr><th scope=row>plasma cell</th><td> 0.0</td><td>0</td><td>0</td><td>0</td><td>0</td><td>0</td><td>0</td><td>0</td><td> 0.0</td><td> 0.0</td><td> 0.0</td></tr>\n",
       "\t<tr><th scope=row>natural killer cell</th><td>91.4</td><td>0</td><td>0</td><td>0</td><td>0</td><td>0</td><td>0</td><td>0</td><td> 8.4</td><td> 0.0</td><td> 0.2</td></tr>\n",
       "\t<tr><th scope=row>erythrocyte</th><td> 0.0</td><td>0</td><td>0</td><td>0</td><td>0</td><td>0</td><td>0</td><td>0</td><td> 0.0</td><td> 0.0</td><td> 0.0</td></tr>\n",
       "\t<tr><th scope=row>megakaryocyte</th><td> 0.0</td><td>0</td><td>0</td><td>0</td><td>0</td><td>0</td><td>0</td><td>0</td><td> 0.0</td><td> 0.0</td><td> 0.0</td></tr>\n",
       "\t<tr><th scope=row>monocyte</th><td> 1.8</td><td>0</td><td>0</td><td>0</td><td>0</td><td>0</td><td>0</td><td>0</td><td>96.4</td><td> 1.8</td><td> 0.0</td></tr>\n",
       "\t<tr><th scope=row>dendritic cell</th><td> 3.0</td><td>0</td><td>0</td><td>0</td><td>0</td><td>0</td><td>0</td><td>0</td><td> 5.1</td><td>91.9</td><td> 0.0</td></tr>\n",
       "\t<tr><th scope=row>bone marrow hematopoietic cell</th><td>26.7</td><td>0</td><td>0</td><td>0</td><td>0</td><td>0</td><td>0</td><td>0</td><td>17.4</td><td> 0.5</td><td>55.4</td></tr>\n",
       "</tbody>\n",
       "</table>\n"
      ],
      "text/latex": [
       "A data.frame: 11 × 11\n",
       "\\begin{tabular}{r|lllllllllll}\n",
       "  & 0 & 1 & 2 & 3 & 4 & 5 & 6 & 7 & 8 & 9 & 10\\\\\n",
       "  & <dbl> & <dbl> & <dbl> & <dbl> & <dbl> & <dbl> & <dbl> & <dbl> & <dbl> & <dbl> & <dbl>\\\\\n",
       "\\hline\n",
       "\tT-helper cell & 99.4 & 0 & 0 & 0 & 0 & 0 & 0 & 0 &  0.4 &  0.0 &  0.1\\\\\n",
       "\tcytotoxic T cell & 99.9 & 0 & 0 & 0 & 0 & 0 & 0 & 0 &  0.1 &  0.0 &  0.0\\\\\n",
       "\tmemory B cell &  0.0 & 0 & 0 & 0 & 0 & 0 & 0 & 0 &  0.0 &  0.0 &  0.0\\\\\n",
       "\tnaive B cell & 88.5 & 0 & 0 & 0 & 0 & 0 & 0 & 0 & 10.0 &  1.5 &  0.0\\\\\n",
       "\tplasma cell &  0.0 & 0 & 0 & 0 & 0 & 0 & 0 & 0 &  0.0 &  0.0 &  0.0\\\\\n",
       "\tnatural killer cell & 91.4 & 0 & 0 & 0 & 0 & 0 & 0 & 0 &  8.4 &  0.0 &  0.2\\\\\n",
       "\terythrocyte &  0.0 & 0 & 0 & 0 & 0 & 0 & 0 & 0 &  0.0 &  0.0 &  0.0\\\\\n",
       "\tmegakaryocyte &  0.0 & 0 & 0 & 0 & 0 & 0 & 0 & 0 &  0.0 &  0.0 &  0.0\\\\\n",
       "\tmonocyte &  1.8 & 0 & 0 & 0 & 0 & 0 & 0 & 0 & 96.4 &  1.8 &  0.0\\\\\n",
       "\tdendritic cell &  3.0 & 0 & 0 & 0 & 0 & 0 & 0 & 0 &  5.1 & 91.9 &  0.0\\\\\n",
       "\tbone marrow hematopoietic cell & 26.7 & 0 & 0 & 0 & 0 & 0 & 0 & 0 & 17.4 &  0.5 & 55.4\\\\\n",
       "\\end{tabular}\n"
      ],
      "text/markdown": [
       "\n",
       "A data.frame: 11 × 11\n",
       "\n",
       "| <!--/--> | 0 &lt;dbl&gt; | 1 &lt;dbl&gt; | 2 &lt;dbl&gt; | 3 &lt;dbl&gt; | 4 &lt;dbl&gt; | 5 &lt;dbl&gt; | 6 &lt;dbl&gt; | 7 &lt;dbl&gt; | 8 &lt;dbl&gt; | 9 &lt;dbl&gt; | 10 &lt;dbl&gt; |\n",
       "|---|---|---|---|---|---|---|---|---|---|---|---|\n",
       "| T-helper cell | 99.4 | 0 | 0 | 0 | 0 | 0 | 0 | 0 |  0.4 |  0.0 |  0.1 |\n",
       "| cytotoxic T cell | 99.9 | 0 | 0 | 0 | 0 | 0 | 0 | 0 |  0.1 |  0.0 |  0.0 |\n",
       "| memory B cell |  0.0 | 0 | 0 | 0 | 0 | 0 | 0 | 0 |  0.0 |  0.0 |  0.0 |\n",
       "| naive B cell | 88.5 | 0 | 0 | 0 | 0 | 0 | 0 | 0 | 10.0 |  1.5 |  0.0 |\n",
       "| plasma cell |  0.0 | 0 | 0 | 0 | 0 | 0 | 0 | 0 |  0.0 |  0.0 |  0.0 |\n",
       "| natural killer cell | 91.4 | 0 | 0 | 0 | 0 | 0 | 0 | 0 |  8.4 |  0.0 |  0.2 |\n",
       "| erythrocyte |  0.0 | 0 | 0 | 0 | 0 | 0 | 0 | 0 |  0.0 |  0.0 |  0.0 |\n",
       "| megakaryocyte |  0.0 | 0 | 0 | 0 | 0 | 0 | 0 | 0 |  0.0 |  0.0 |  0.0 |\n",
       "| monocyte |  1.8 | 0 | 0 | 0 | 0 | 0 | 0 | 0 | 96.4 |  1.8 |  0.0 |\n",
       "| dendritic cell |  3.0 | 0 | 0 | 0 | 0 | 0 | 0 | 0 |  5.1 | 91.9 |  0.0 |\n",
       "| bone marrow hematopoietic cell | 26.7 | 0 | 0 | 0 | 0 | 0 | 0 | 0 | 17.4 |  0.5 | 55.4 |\n",
       "\n"
      ],
      "text/plain": [
       "                               0    1 2 3 4 5 6 7 8    9    10  \n",
       "T-helper cell                  99.4 0 0 0 0 0 0 0  0.4  0.0  0.1\n",
       "cytotoxic T cell               99.9 0 0 0 0 0 0 0  0.1  0.0  0.0\n",
       "memory B cell                   0.0 0 0 0 0 0 0 0  0.0  0.0  0.0\n",
       "naive B cell                   88.5 0 0 0 0 0 0 0 10.0  1.5  0.0\n",
       "plasma cell                     0.0 0 0 0 0 0 0 0  0.0  0.0  0.0\n",
       "natural killer cell            91.4 0 0 0 0 0 0 0  8.4  0.0  0.2\n",
       "erythrocyte                     0.0 0 0 0 0 0 0 0  0.0  0.0  0.0\n",
       "megakaryocyte                   0.0 0 0 0 0 0 0 0  0.0  0.0  0.0\n",
       "monocyte                        1.8 0 0 0 0 0 0 0 96.4  1.8  0.0\n",
       "dendritic cell                  3.0 0 0 0 0 0 0 0  5.1 91.9  0.0\n",
       "bone marrow hematopoietic cell 26.7 0 0 0 0 0 0 0 17.4  0.5 55.4"
      ]
     },
     "metadata": {},
     "output_type": "display_data"
    },
    {
     "name": "stdout",
     "output_type": "stream",
     "text": [
      "[1] \"acc: 52.2426434540087 %\"\n"
     ]
    }
   ],
   "source": [
    "mat.df.percent <- round(mat.df/(rowSums(mat.df)+0.001)*100, digits=1)\n",
    "mat.df.percent\n",
    "print(paste('acc:',sum(y.true==y.pred)/length(y.true)*100,'%'))"
   ]
  },
  {
   "cell_type": "code",
   "execution_count": 15,
   "id": "55ee9034",
   "metadata": {},
   "outputs": [],
   "source": [
    "evaluation_metrics<-function(performance){\n",
    "    eva.list <- c()\n",
    "    performance.name <- as.character(substitute(performance))\n",
    "    for (i in label)\n",
    "    {\n",
    "        eva <- performance(y.true,y.pred, positive = i)\n",
    "        if (!is.nan(eva))\n",
    "        {\n",
    "            eva.list <- c(eva.list,eva)\n",
    "        }\n",
    "    }\n",
    "    print(paste(c(paste(performance.name,':'),eva.list)))\n",
    "    print('-----------------------------------------------------------------')\n",
    "    print(paste(performance.name,'(average):',mean(eva.list)))\n",
    "}"
   ]
  },
  {
   "cell_type": "code",
   "execution_count": 16,
   "id": "8cac0dd2",
   "metadata": {},
   "outputs": [
    {
     "name": "stdout",
     "output_type": "stream",
     "text": [
      "[1] \"Precision :\"       \"0.508759584587014\" \"0\"                \n",
      "[4] \"0.44020733061829\"  \"0.275757575757576\" \"0.980662983425414\"\n",
      "[1] \"-----------------------------------------------------------------\"\n",
      "[1] \"Precision (average): 0.441077494877659\"\n"
     ]
    }
   ],
   "source": [
    "evaluation_metrics(Precision)"
   ]
  },
  {
   "cell_type": "code",
   "execution_count": 17,
   "id": "5bc2d994",
   "metadata": {},
   "outputs": [
    {
     "name": "stdout",
     "output_type": "stream",
     "text": [
      "[1] \"Recall :\"          \"0.994191422271747\" \"0\"                \n",
      "[4] \"0\"                 \"0\"                 \"0.963923794081881\"\n",
      "[7] \"0.919191919191919\" \"0.553649407361198\"\n",
      "[1] \"-----------------------------------------------------------------\"\n",
      "[1] \"Recall (average): 0.490136648986678\"\n"
     ]
    }
   ],
   "source": [
    "evaluation_metrics(Recall)"
   ]
  },
  {
   "cell_type": "code",
   "execution_count": 18,
   "id": "dc688418",
   "metadata": {},
   "outputs": [
    {
     "name": "stdout",
     "output_type": "stream",
     "text": [
      "[1] \"F1_Score :\"        \"0.67308170750303\"  \"0.604397000889567\"\n",
      "[4] \"0.424242424242424\" \"0.707735247208931\"\n",
      "[1] \"-----------------------------------------------------------------\"\n",
      "[1] \"F1_Score (average): 0.602364094960988\"\n"
     ]
    }
   ],
   "source": [
    "evaluation_metrics(F1_Score)"
   ]
  },
  {
   "cell_type": "code",
   "execution_count": 19,
   "id": "744c3141",
   "metadata": {},
   "outputs": [
    {
     "name": "stdout",
     "output_type": "stream",
     "text": [
      "[1] \"start time: 2022-03-11 11:12:59\"\n",
      "[1] \"end   time: 2022-03-11 11:56:16\"\n"
     ]
    },
    {
     "data": {
      "text/plain": [
       "Time difference of 43.29046 mins"
      ]
     },
     "metadata": {},
     "output_type": "display_data"
    }
   ],
   "source": [
    "# run time record\n",
    "time.end <- Sys.time()\n",
    "print(paste('start time:',time.start))\n",
    "print(paste('end   time:',time.end))\n",
    "time.end - time.start "
   ]
  },
  {
   "cell_type": "code",
   "execution_count": 20,
   "id": "b544aabe",
   "metadata": {},
   "outputs": [],
   "source": [
    "# !rm ../dataset/PBMC_CITE_modelC.h5ad\n",
    "# !rm ../dataset/CordBlood_modelC.h5ad"
   ]
  }
 ],
 "metadata": {
  "kernelspec": {
   "display_name": "R",
   "language": "R",
   "name": "ir"
  },
  "language_info": {
   "codemirror_mode": "r",
   "file_extension": ".r",
   "mimetype": "text/x-r-source",
   "name": "R",
   "pygments_lexer": "r",
   "version": "4.1.0"
  }
 },
 "nbformat": 4,
 "nbformat_minor": 5
}
