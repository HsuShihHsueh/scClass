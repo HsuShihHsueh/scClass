{
 "cells": [
  {
   "cell_type": "code",
   "execution_count": 1,
   "id": "c353504e",
   "metadata": {},
   "outputs": [
    {
     "name": "stdout",
     "output_type": "stream",
     "text": [
      "[1] \"start time: 2022-02-09 13:27:16\"\n"
     ]
    }
   ],
   "source": [
    "# run time record\n",
    "time.start <- Sys.time()\n",
    "print(paste('start time:',time.start))"
   ]
  },
  {
   "cell_type": "code",
   "execution_count": 2,
   "id": "bd216801",
   "metadata": {},
   "outputs": [
    {
     "name": "stderr",
     "output_type": "stream",
     "text": [
      "\n",
      "Attaching package: ‘MLmetrics’\n",
      "\n",
      "\n",
      "The following object is masked from ‘package:base’:\n",
      "\n",
      "    Recall\n",
      "\n",
      "\n",
      "Attaching SeuratObject\n",
      "\n",
      "Registered S3 method overwritten by 'cli':\n",
      "  method     from         \n",
      "  print.boxx spatstat.geom\n",
      "\n",
      "Registered S3 method overwritten by 'SeuratDisk':\n",
      "  method            from  \n",
      "  as.sparse.H5Group Seurat\n",
      "\n",
      "Loading required package: ggplot2\n",
      "\n",
      "Loading required package: lattice\n",
      "\n",
      "\n",
      "Attaching package: ‘caret’\n",
      "\n",
      "\n",
      "The following objects are masked from ‘package:MLmetrics’:\n",
      "\n",
      "    MAE, RMSE\n",
      "\n",
      "\n"
     ]
    }
   ],
   "source": [
    "library(MLmetrics)\n",
    "library(Seurat)\n",
    "library(SeuratDisk)\n",
    "library(caret)"
   ]
  },
  {
   "cell_type": "code",
   "execution_count": 3,
   "id": "5b9ef273",
   "metadata": {},
   "outputs": [],
   "source": [
    "# library(SeuratDisk)\n",
    "# Convert ( \"../scClass_data/pbmcmm_pp_subsample.h5ad\" , dest  =  \"h5seurat\" , overwrite  =  FALSE )\n",
    "# Convert (\"../scClass_data/pbmc68k_v2.h5ad\", dest=\"h5seurat\", overwrite=TRUE) #if the file exist, then overwrite"
   ]
  },
  {
   "cell_type": "code",
   "execution_count": 4,
   "id": "31ae0428",
   "metadata": {},
   "outputs": [],
   "source": [
    "ref_file <- \"../scClass_data/pbmcmm_pp_subsample.h5seurat\"\n",
    "test.file <- \"../scClass_data/pbmc68k(csr).h5seurat\""
   ]
  },
  {
   "cell_type": "markdown",
   "id": "d2839f16",
   "metadata": {},
   "source": [
    "## Reference Data Preprocessing"
   ]
  },
  {
   "cell_type": "code",
   "execution_count": 5,
   "id": "b316b2d6",
   "metadata": {},
   "outputs": [
    {
     "name": "stderr",
     "output_type": "stream",
     "text": [
      "Validating h5Seurat file\n",
      "\n",
      "Initializing RNA with data\n",
      "\n",
      "Adding counts for RNA\n",
      "\n",
      "Adding feature-level metadata for RNA\n",
      "\n",
      "Adding command information\n",
      "\n",
      "Adding cell-level metadata\n",
      "\n",
      "Adding miscellaneous information\n",
      "\n",
      "Adding tool-specific results\n",
      "\n"
     ]
    }
   ],
   "source": [
    "ref <- LoadH5Seurat(ref_file)"
   ]
  },
  {
   "cell_type": "code",
   "execution_count": 6,
   "id": "af84e3bf",
   "metadata": {},
   "outputs": [],
   "source": [
    "ref <- NormalizeData(ref, verbose = FALSE)\n",
    "ref <- FindVariableFeatures(ref, selection.method = \"vst\", nfeatures = 2000,verbose = FALSE)"
   ]
  },
  {
   "cell_type": "code",
   "execution_count": 7,
   "id": "be00ab4e",
   "metadata": {},
   "outputs": [
    {
     "name": "stderr",
     "output_type": "stream",
     "text": [
      "Warning message:\n",
      "“The default method for RunUMAP has changed from calling Python UMAP via reticulate to the R-native UWOT using the cosine metric\n",
      "To use Python UMAP via reticulate, set umap.method to 'umap-learn' and metric to 'correlation'\n",
      "This message will be shown once per session”\n"
     ]
    }
   ],
   "source": [
    "ref <- ScaleData(ref, verbose = FALSE)\n",
    "ref <- RunPCA(ref, npcs = 30, verbose = FALSE)\n",
    "ref <- RunUMAP(ref, reduction = \"pca\", dims = 1:30, verbose = FALSE)"
   ]
  },
  {
   "cell_type": "markdown",
   "id": "b3f0785a",
   "metadata": {},
   "source": [
    "## Cell type classification"
   ]
  },
  {
   "cell_type": "code",
   "execution_count": 8,
   "id": "d910750b",
   "metadata": {},
   "outputs": [
    {
     "name": "stderr",
     "output_type": "stream",
     "text": [
      "Validating h5Seurat file\n",
      "\n",
      "Initializing RNA with data\n",
      "\n",
      "Adding counts for RNA\n",
      "\n",
      "Adding feature-level metadata for RNA\n",
      "\n",
      "Adding command information\n",
      "\n",
      "Adding cell-level metadata\n",
      "\n",
      "Adding miscellaneous information\n",
      "\n",
      "Adding tool-specific results\n",
      "\n"
     ]
    }
   ],
   "source": [
    "test <- LoadH5Seurat(test.file)"
   ]
  },
  {
   "cell_type": "code",
   "execution_count": 9,
   "id": "2791fcab",
   "metadata": {},
   "outputs": [
    {
     "name": "stderr",
     "output_type": "stream",
     "text": [
      "Projecting cell embeddings\n",
      "\n",
      "Finding neighborhoods\n",
      "\n",
      "Finding anchors\n",
      "\n",
      "\tFound 3101 anchors\n",
      "\n",
      "Filtering anchors\n",
      "\n",
      "\tRetained 210 anchors\n",
      "\n"
     ]
    }
   ],
   "source": [
    "ref.anchors <- FindTransferAnchors(reference = ref, query =test, dims = 1:30, reference.reduction = \"pca\")"
   ]
  },
  {
   "cell_type": "code",
   "execution_count": 10,
   "id": "5d95f3d8",
   "metadata": {},
   "outputs": [
    {
     "name": "stderr",
     "output_type": "stream",
     "text": [
      "Finding integration vectors\n",
      "\n",
      "Finding integration vector weights\n",
      "\n",
      "Predicting cell labels\n",
      "\n"
     ]
    }
   ],
   "source": [
    "ref$transfer_cell_type <- as.character(ref$transfer_id) # celltype = transfer_id (int to char)\n",
    "predictions <- TransferData(anchorset = ref.anchors, refdata = ref$transfer_cell_type,dims = 1:30)\n",
    "test <- AddMetaData(test, metadata = predictions)"
   ]
  },
  {
   "cell_type": "markdown",
   "id": "747ff665",
   "metadata": {},
   "source": [
    "## Make Confusion Matrix and evaluate accuracy"
   ]
  },
  {
   "cell_type": "code",
   "execution_count": 11,
   "id": "e1036335",
   "metadata": {},
   "outputs": [],
   "source": [
    "label <- c('T-helper cell','cytotoxic T cell','memory B cell','naive B cell',\n",
    "           'plasma cell','natural killer cell','erythrocyte',\n",
    "           'megakaryocyte','monocyte','dendritic cell','bone marrow hematopoietic cell')"
   ]
  },
  {
   "cell_type": "code",
   "execution_count": 12,
   "id": "34583b47",
   "metadata": {},
   "outputs": [],
   "source": [
    "y.pred <- factor(label[as.integer(test$predicted.id)+1],levels=label)\n",
    "y.true <- factor(test$transfer_cell_type,levels=label)\n",
    "y.pred <- y.pred[!is.na(y.true)]\n",
    "y.true <- y.true[!is.na(y.true)]"
   ]
  },
  {
   "cell_type": "code",
   "execution_count": 13,
   "id": "15d8a76b",
   "metadata": {},
   "outputs": [
    {
     "data": {
      "text/html": [
       "<table class=\"dataframe\">\n",
       "<caption>A data.frame: 11 × 11</caption>\n",
       "<thead>\n",
       "\t<tr><th></th><th scope=col>0</th><th scope=col>1</th><th scope=col>2</th><th scope=col>3</th><th scope=col>4</th><th scope=col>5</th><th scope=col>6</th><th scope=col>7</th><th scope=col>8</th><th scope=col>9</th><th scope=col>10</th></tr>\n",
       "\t<tr><th></th><th scope=col>&lt;int&gt;</th><th scope=col>&lt;int&gt;</th><th scope=col>&lt;int&gt;</th><th scope=col>&lt;int&gt;</th><th scope=col>&lt;int&gt;</th><th scope=col>&lt;int&gt;</th><th scope=col>&lt;int&gt;</th><th scope=col>&lt;int&gt;</th><th scope=col>&lt;int&gt;</th><th scope=col>&lt;int&gt;</th><th scope=col>&lt;int&gt;</th></tr>\n",
       "</thead>\n",
       "<tbody>\n",
       "\t<tr><th scope=row>T-helper cell</th><td>24376</td><td>17620</td><td>0</td><td>   0</td><td>9</td><td>  9</td><td>0</td><td>0</td><td> 131</td><td> 19</td><td>  15</td></tr>\n",
       "\t<tr><th scope=row>cytotoxic T cell</th><td> 1032</td><td>21126</td><td>0</td><td>   0</td><td>1</td><td>  3</td><td>0</td><td>0</td><td>   0</td><td>  0</td><td>   0</td></tr>\n",
       "\t<tr><th scope=row>memory B cell</th><td>    0</td><td>    0</td><td>0</td><td>   0</td><td>0</td><td>  0</td><td>0</td><td>0</td><td>   0</td><td>  0</td><td>   0</td></tr>\n",
       "\t<tr><th scope=row>naive B cell</th><td> 8122</td><td>  121</td><td>0</td><td>1126</td><td>1</td><td>  0</td><td>0</td><td>0</td><td>   2</td><td>713</td><td>   0</td></tr>\n",
       "\t<tr><th scope=row>plasma cell</th><td>    0</td><td>    0</td><td>0</td><td>   0</td><td>0</td><td>  0</td><td>0</td><td>0</td><td>   0</td><td>  0</td><td>   0</td></tr>\n",
       "\t<tr><th scope=row>natural killer cell</th><td>   15</td><td> 7571</td><td>0</td><td>   0</td><td>0</td><td>798</td><td>0</td><td>0</td><td>   1</td><td>  0</td><td>   0</td></tr>\n",
       "\t<tr><th scope=row>erythrocyte</th><td>    0</td><td>    0</td><td>0</td><td>   0</td><td>0</td><td>  0</td><td>0</td><td>0</td><td>   0</td><td>  0</td><td>   0</td></tr>\n",
       "\t<tr><th scope=row>megakaryocyte</th><td>    0</td><td>    0</td><td>0</td><td>   0</td><td>0</td><td>  0</td><td>0</td><td>0</td><td>   0</td><td>  0</td><td>   0</td></tr>\n",
       "\t<tr><th scope=row>monocyte</th><td>   48</td><td>    2</td><td>0</td><td>   0</td><td>1</td><td>  0</td><td>0</td><td>0</td><td>2121</td><td>295</td><td>   0</td></tr>\n",
       "\t<tr><th scope=row>dendritic cell</th><td>    3</td><td>    0</td><td>0</td><td>   0</td><td>0</td><td>  0</td><td>0</td><td>0</td><td>   0</td><td> 96</td><td>   0</td></tr>\n",
       "\t<tr><th scope=row>bone marrow hematopoietic cell</th><td> 1322</td><td>  312</td><td>0</td><td>   1</td><td>6</td><td>  5</td><td>0</td><td>0</td><td>1065</td><td>162</td><td>3539</td></tr>\n",
       "</tbody>\n",
       "</table>\n"
      ],
      "text/latex": [
       "A data.frame: 11 × 11\n",
       "\\begin{tabular}{r|lllllllllll}\n",
       "  & 0 & 1 & 2 & 3 & 4 & 5 & 6 & 7 & 8 & 9 & 10\\\\\n",
       "  & <int> & <int> & <int> & <int> & <int> & <int> & <int> & <int> & <int> & <int> & <int>\\\\\n",
       "\\hline\n",
       "\tT-helper cell & 24376 & 17620 & 0 &    0 & 9 &   9 & 0 & 0 &  131 &  19 &   15\\\\\n",
       "\tcytotoxic T cell &  1032 & 21126 & 0 &    0 & 1 &   3 & 0 & 0 &    0 &   0 &    0\\\\\n",
       "\tmemory B cell &     0 &     0 & 0 &    0 & 0 &   0 & 0 & 0 &    0 &   0 &    0\\\\\n",
       "\tnaive B cell &  8122 &   121 & 0 & 1126 & 1 &   0 & 0 & 0 &    2 & 713 &    0\\\\\n",
       "\tplasma cell &     0 &     0 & 0 &    0 & 0 &   0 & 0 & 0 &    0 &   0 &    0\\\\\n",
       "\tnatural killer cell &    15 &  7571 & 0 &    0 & 0 & 798 & 0 & 0 &    1 &   0 &    0\\\\\n",
       "\terythrocyte &     0 &     0 & 0 &    0 & 0 &   0 & 0 & 0 &    0 &   0 &    0\\\\\n",
       "\tmegakaryocyte &     0 &     0 & 0 &    0 & 0 &   0 & 0 & 0 &    0 &   0 &    0\\\\\n",
       "\tmonocyte &    48 &     2 & 0 &    0 & 1 &   0 & 0 & 0 & 2121 & 295 &    0\\\\\n",
       "\tdendritic cell &     3 &     0 & 0 &    0 & 0 &   0 & 0 & 0 &    0 &  96 &    0\\\\\n",
       "\tbone marrow hematopoietic cell &  1322 &   312 & 0 &    1 & 6 &   5 & 0 & 0 & 1065 & 162 & 3539\\\\\n",
       "\\end{tabular}\n"
      ],
      "text/markdown": [
       "\n",
       "A data.frame: 11 × 11\n",
       "\n",
       "| <!--/--> | 0 &lt;int&gt; | 1 &lt;int&gt; | 2 &lt;int&gt; | 3 &lt;int&gt; | 4 &lt;int&gt; | 5 &lt;int&gt; | 6 &lt;int&gt; | 7 &lt;int&gt; | 8 &lt;int&gt; | 9 &lt;int&gt; | 10 &lt;int&gt; |\n",
       "|---|---|---|---|---|---|---|---|---|---|---|---|\n",
       "| T-helper cell | 24376 | 17620 | 0 |    0 | 9 |   9 | 0 | 0 |  131 |  19 |   15 |\n",
       "| cytotoxic T cell |  1032 | 21126 | 0 |    0 | 1 |   3 | 0 | 0 |    0 |   0 |    0 |\n",
       "| memory B cell |     0 |     0 | 0 |    0 | 0 |   0 | 0 | 0 |    0 |   0 |    0 |\n",
       "| naive B cell |  8122 |   121 | 0 | 1126 | 1 |   0 | 0 | 0 |    2 | 713 |    0 |\n",
       "| plasma cell |     0 |     0 | 0 |    0 | 0 |   0 | 0 | 0 |    0 |   0 |    0 |\n",
       "| natural killer cell |    15 |  7571 | 0 |    0 | 0 | 798 | 0 | 0 |    1 |   0 |    0 |\n",
       "| erythrocyte |     0 |     0 | 0 |    0 | 0 |   0 | 0 | 0 |    0 |   0 |    0 |\n",
       "| megakaryocyte |     0 |     0 | 0 |    0 | 0 |   0 | 0 | 0 |    0 |   0 |    0 |\n",
       "| monocyte |    48 |     2 | 0 |    0 | 1 |   0 | 0 | 0 | 2121 | 295 |    0 |\n",
       "| dendritic cell |     3 |     0 | 0 |    0 | 0 |   0 | 0 | 0 |    0 |  96 |    0 |\n",
       "| bone marrow hematopoietic cell |  1322 |   312 | 0 |    1 | 6 |   5 | 0 | 0 | 1065 | 162 | 3539 |\n",
       "\n"
      ],
      "text/plain": [
       "                               0     1     2 3    4 5   6 7 8    9   10  \n",
       "T-helper cell                  24376 17620 0    0 9   9 0 0  131  19   15\n",
       "cytotoxic T cell                1032 21126 0    0 1   3 0 0    0   0    0\n",
       "memory B cell                      0     0 0    0 0   0 0 0    0   0    0\n",
       "naive B cell                    8122   121 0 1126 1   0 0 0    2 713    0\n",
       "plasma cell                        0     0 0    0 0   0 0 0    0   0    0\n",
       "natural killer cell               15  7571 0    0 0 798 0 0    1   0    0\n",
       "erythrocyte                        0     0 0    0 0   0 0 0    0   0    0\n",
       "megakaryocyte                      0     0 0    0 0   0 0 0    0   0    0\n",
       "monocyte                          48     2 0    0 1   0 0 0 2121 295    0\n",
       "dendritic cell                     3     0 0    0 0   0 0 0    0  96    0\n",
       "bone marrow hematopoietic cell  1322   312 0    1 6   5 0 0 1065 162 3539"
      ]
     },
     "metadata": {},
     "output_type": "display_data"
    }
   ],
   "source": [
    "mat.table <- confusionMatrix(y.true,y.pred)\n",
    "mat.df <- as.data.frame.matrix(mat.table$table) \n",
    "colnames(mat.df) = 0:10\n",
    "mat.df"
   ]
  },
  {
   "cell_type": "code",
   "execution_count": 14,
   "id": "051fa7fd",
   "metadata": {},
   "outputs": [
    {
     "data": {
      "text/html": [
       "<table class=\"dataframe\">\n",
       "<caption>A data.frame: 11 × 11</caption>\n",
       "<thead>\n",
       "\t<tr><th></th><th scope=col>0</th><th scope=col>1</th><th scope=col>2</th><th scope=col>3</th><th scope=col>4</th><th scope=col>5</th><th scope=col>6</th><th scope=col>7</th><th scope=col>8</th><th scope=col>9</th><th scope=col>10</th></tr>\n",
       "\t<tr><th></th><th scope=col>&lt;dbl&gt;</th><th scope=col>&lt;dbl&gt;</th><th scope=col>&lt;dbl&gt;</th><th scope=col>&lt;dbl&gt;</th><th scope=col>&lt;dbl&gt;</th><th scope=col>&lt;dbl&gt;</th><th scope=col>&lt;dbl&gt;</th><th scope=col>&lt;dbl&gt;</th><th scope=col>&lt;dbl&gt;</th><th scope=col>&lt;dbl&gt;</th><th scope=col>&lt;dbl&gt;</th></tr>\n",
       "</thead>\n",
       "<tbody>\n",
       "\t<tr><th scope=row>T-helper cell</th><td>57.8</td><td>41.8</td><td>0</td><td> 0.0</td><td>0.0</td><td>0.0</td><td>0</td><td>0</td><td> 0.3</td><td> 0.0</td><td> 0.0</td></tr>\n",
       "\t<tr><th scope=row>cytotoxic T cell</th><td> 4.7</td><td>95.3</td><td>0</td><td> 0.0</td><td>0.0</td><td>0.0</td><td>0</td><td>0</td><td> 0.0</td><td> 0.0</td><td> 0.0</td></tr>\n",
       "\t<tr><th scope=row>memory B cell</th><td> 0.0</td><td> 0.0</td><td>0</td><td> 0.0</td><td>0.0</td><td>0.0</td><td>0</td><td>0</td><td> 0.0</td><td> 0.0</td><td> 0.0</td></tr>\n",
       "\t<tr><th scope=row>naive B cell</th><td>80.5</td><td> 1.2</td><td>0</td><td>11.2</td><td>0.0</td><td>0.0</td><td>0</td><td>0</td><td> 0.0</td><td> 7.1</td><td> 0.0</td></tr>\n",
       "\t<tr><th scope=row>plasma cell</th><td> 0.0</td><td> 0.0</td><td>0</td><td> 0.0</td><td>0.0</td><td>0.0</td><td>0</td><td>0</td><td> 0.0</td><td> 0.0</td><td> 0.0</td></tr>\n",
       "\t<tr><th scope=row>natural killer cell</th><td> 0.2</td><td>90.3</td><td>0</td><td> 0.0</td><td>0.0</td><td>9.5</td><td>0</td><td>0</td><td> 0.0</td><td> 0.0</td><td> 0.0</td></tr>\n",
       "\t<tr><th scope=row>erythrocyte</th><td> 0.0</td><td> 0.0</td><td>0</td><td> 0.0</td><td>0.0</td><td>0.0</td><td>0</td><td>0</td><td> 0.0</td><td> 0.0</td><td> 0.0</td></tr>\n",
       "\t<tr><th scope=row>megakaryocyte</th><td> 0.0</td><td> 0.0</td><td>0</td><td> 0.0</td><td>0.0</td><td>0.0</td><td>0</td><td>0</td><td> 0.0</td><td> 0.0</td><td> 0.0</td></tr>\n",
       "\t<tr><th scope=row>monocyte</th><td> 1.9</td><td> 0.1</td><td>0</td><td> 0.0</td><td>0.0</td><td>0.0</td><td>0</td><td>0</td><td>86.0</td><td>12.0</td><td> 0.0</td></tr>\n",
       "\t<tr><th scope=row>dendritic cell</th><td> 3.0</td><td> 0.0</td><td>0</td><td> 0.0</td><td>0.0</td><td>0.0</td><td>0</td><td>0</td><td> 0.0</td><td>97.0</td><td> 0.0</td></tr>\n",
       "\t<tr><th scope=row>bone marrow hematopoietic cell</th><td>20.6</td><td> 4.9</td><td>0</td><td> 0.0</td><td>0.1</td><td>0.1</td><td>0</td><td>0</td><td>16.6</td><td> 2.5</td><td>55.2</td></tr>\n",
       "</tbody>\n",
       "</table>\n"
      ],
      "text/latex": [
       "A data.frame: 11 × 11\n",
       "\\begin{tabular}{r|lllllllllll}\n",
       "  & 0 & 1 & 2 & 3 & 4 & 5 & 6 & 7 & 8 & 9 & 10\\\\\n",
       "  & <dbl> & <dbl> & <dbl> & <dbl> & <dbl> & <dbl> & <dbl> & <dbl> & <dbl> & <dbl> & <dbl>\\\\\n",
       "\\hline\n",
       "\tT-helper cell & 57.8 & 41.8 & 0 &  0.0 & 0.0 & 0.0 & 0 & 0 &  0.3 &  0.0 &  0.0\\\\\n",
       "\tcytotoxic T cell &  4.7 & 95.3 & 0 &  0.0 & 0.0 & 0.0 & 0 & 0 &  0.0 &  0.0 &  0.0\\\\\n",
       "\tmemory B cell &  0.0 &  0.0 & 0 &  0.0 & 0.0 & 0.0 & 0 & 0 &  0.0 &  0.0 &  0.0\\\\\n",
       "\tnaive B cell & 80.5 &  1.2 & 0 & 11.2 & 0.0 & 0.0 & 0 & 0 &  0.0 &  7.1 &  0.0\\\\\n",
       "\tplasma cell &  0.0 &  0.0 & 0 &  0.0 & 0.0 & 0.0 & 0 & 0 &  0.0 &  0.0 &  0.0\\\\\n",
       "\tnatural killer cell &  0.2 & 90.3 & 0 &  0.0 & 0.0 & 9.5 & 0 & 0 &  0.0 &  0.0 &  0.0\\\\\n",
       "\terythrocyte &  0.0 &  0.0 & 0 &  0.0 & 0.0 & 0.0 & 0 & 0 &  0.0 &  0.0 &  0.0\\\\\n",
       "\tmegakaryocyte &  0.0 &  0.0 & 0 &  0.0 & 0.0 & 0.0 & 0 & 0 &  0.0 &  0.0 &  0.0\\\\\n",
       "\tmonocyte &  1.9 &  0.1 & 0 &  0.0 & 0.0 & 0.0 & 0 & 0 & 86.0 & 12.0 &  0.0\\\\\n",
       "\tdendritic cell &  3.0 &  0.0 & 0 &  0.0 & 0.0 & 0.0 & 0 & 0 &  0.0 & 97.0 &  0.0\\\\\n",
       "\tbone marrow hematopoietic cell & 20.6 &  4.9 & 0 &  0.0 & 0.1 & 0.1 & 0 & 0 & 16.6 &  2.5 & 55.2\\\\\n",
       "\\end{tabular}\n"
      ],
      "text/markdown": [
       "\n",
       "A data.frame: 11 × 11\n",
       "\n",
       "| <!--/--> | 0 &lt;dbl&gt; | 1 &lt;dbl&gt; | 2 &lt;dbl&gt; | 3 &lt;dbl&gt; | 4 &lt;dbl&gt; | 5 &lt;dbl&gt; | 6 &lt;dbl&gt; | 7 &lt;dbl&gt; | 8 &lt;dbl&gt; | 9 &lt;dbl&gt; | 10 &lt;dbl&gt; |\n",
       "|---|---|---|---|---|---|---|---|---|---|---|---|\n",
       "| T-helper cell | 57.8 | 41.8 | 0 |  0.0 | 0.0 | 0.0 | 0 | 0 |  0.3 |  0.0 |  0.0 |\n",
       "| cytotoxic T cell |  4.7 | 95.3 | 0 |  0.0 | 0.0 | 0.0 | 0 | 0 |  0.0 |  0.0 |  0.0 |\n",
       "| memory B cell |  0.0 |  0.0 | 0 |  0.0 | 0.0 | 0.0 | 0 | 0 |  0.0 |  0.0 |  0.0 |\n",
       "| naive B cell | 80.5 |  1.2 | 0 | 11.2 | 0.0 | 0.0 | 0 | 0 |  0.0 |  7.1 |  0.0 |\n",
       "| plasma cell |  0.0 |  0.0 | 0 |  0.0 | 0.0 | 0.0 | 0 | 0 |  0.0 |  0.0 |  0.0 |\n",
       "| natural killer cell |  0.2 | 90.3 | 0 |  0.0 | 0.0 | 9.5 | 0 | 0 |  0.0 |  0.0 |  0.0 |\n",
       "| erythrocyte |  0.0 |  0.0 | 0 |  0.0 | 0.0 | 0.0 | 0 | 0 |  0.0 |  0.0 |  0.0 |\n",
       "| megakaryocyte |  0.0 |  0.0 | 0 |  0.0 | 0.0 | 0.0 | 0 | 0 |  0.0 |  0.0 |  0.0 |\n",
       "| monocyte |  1.9 |  0.1 | 0 |  0.0 | 0.0 | 0.0 | 0 | 0 | 86.0 | 12.0 |  0.0 |\n",
       "| dendritic cell |  3.0 |  0.0 | 0 |  0.0 | 0.0 | 0.0 | 0 | 0 |  0.0 | 97.0 |  0.0 |\n",
       "| bone marrow hematopoietic cell | 20.6 |  4.9 | 0 |  0.0 | 0.1 | 0.1 | 0 | 0 | 16.6 |  2.5 | 55.2 |\n",
       "\n"
      ],
      "text/plain": [
       "                               0    1    2 3    4   5   6 7 8    9    10  \n",
       "T-helper cell                  57.8 41.8 0  0.0 0.0 0.0 0 0  0.3  0.0  0.0\n",
       "cytotoxic T cell                4.7 95.3 0  0.0 0.0 0.0 0 0  0.0  0.0  0.0\n",
       "memory B cell                   0.0  0.0 0  0.0 0.0 0.0 0 0  0.0  0.0  0.0\n",
       "naive B cell                   80.5  1.2 0 11.2 0.0 0.0 0 0  0.0  7.1  0.0\n",
       "plasma cell                     0.0  0.0 0  0.0 0.0 0.0 0 0  0.0  0.0  0.0\n",
       "natural killer cell             0.2 90.3 0  0.0 0.0 9.5 0 0  0.0  0.0  0.0\n",
       "erythrocyte                     0.0  0.0 0  0.0 0.0 0.0 0 0  0.0  0.0  0.0\n",
       "megakaryocyte                   0.0  0.0 0  0.0 0.0 0.0 0 0  0.0  0.0  0.0\n",
       "monocyte                        1.9  0.1 0  0.0 0.0 0.0 0 0 86.0 12.0  0.0\n",
       "dendritic cell                  3.0  0.0 0  0.0 0.0 0.0 0 0  0.0 97.0  0.0\n",
       "bone marrow hematopoietic cell 20.6  4.9 0  0.0 0.1 0.1 0 0 16.6  2.5 55.2"
      ]
     },
     "metadata": {},
     "output_type": "display_data"
    },
    {
     "name": "stdout",
     "output_type": "stream",
     "text": [
      "[1] \"acc: 57.9394045038076 %\"\n"
     ]
    }
   ],
   "source": [
    "mat.df.percent <- round(mat.df/(rowSums(mat.df)+0.001)*100, digits=1)\n",
    "mat.df.percent\n",
    "print(paste('acc:',sum(y.true==y.pred)/length(y.true)*100,'%'))"
   ]
  },
  {
   "cell_type": "code",
   "execution_count": 15,
   "id": "55ee9034",
   "metadata": {},
   "outputs": [],
   "source": [
    "evaluation_metrics<-function(performance){\n",
    "    eva.list <- c()\n",
    "    performance.name <- as.character(substitute(performance))\n",
    "    for (i in label)\n",
    "    {\n",
    "        eva <- performance(y.true,y.pred, positive = i)\n",
    "        if (!is.nan(eva))\n",
    "        {\n",
    "            eva.list <- c(eva.list,eva)\n",
    "        }\n",
    "    }\n",
    "    print(paste(c(paste(performance.name,':'),eva.list)))\n",
    "    print('-----------------------------------------------------------------')\n",
    "    print(paste(performance.name,'(average):',mean(eva.list)))\n",
    "}"
   ]
  },
  {
   "cell_type": "code",
   "execution_count": 16,
   "id": "8cac0dd2",
   "metadata": {},
   "outputs": [
    {
     "name": "stdout",
     "output_type": "stream",
     "text": [
      "[1] \"Precision :\"        \"0.698092674265422\"  \"0.451873716632444\" \n",
      "[4] \"0.999112688553682\"  \"0\"                  \"0.979141104294479\" \n",
      "[7] \"0.638855421686747\"  \"0.0747081712062257\" \"0.995779403489026\" \n",
      "[1] \"-----------------------------------------------------------------\"\n",
      "[1] \"Precision (average): 0.604695397516003\"\n"
     ]
    }
   ],
   "source": [
    "evaluation_metrics(Precision)"
   ]
  },
  {
   "cell_type": "code",
   "execution_count": 17,
   "id": "5bc2d994",
   "metadata": {},
   "outputs": [
    {
     "name": "stdout",
     "output_type": "stream",
     "text": [
      "[1] \"Recall :\"          \"0.577917921240428\" \"0.953253316487682\"\n",
      "[4] \"0.11165096678235\"  \"0.095169946332737\" \"0.859748682610458\"\n",
      "[7] \"0.96969696969697\"  \"0.551933873986276\"\n",
      "[1] \"-----------------------------------------------------------------\"\n",
      "[1] \"Recall (average): 0.588481668162414\"\n"
     ]
    }
   ],
   "source": [
    "evaluation_metrics(Recall)"
   ]
  },
  {
   "cell_type": "code",
   "execution_count": 18,
   "id": "dc688418",
   "metadata": {},
   "outputs": [
    {
     "name": "stdout",
     "output_type": "stream",
     "text": [
      "[1] \"F1_Score :\"        \"0.632346265094621\" \"0.613111994660011\"\n",
      "[4] \"0.200856225472708\" \"0.173478260869565\" \"0.733022291342665\"\n",
      "[7] \"0.138728323699422\" \"0.71021473008228\" \n",
      "[1] \"-----------------------------------------------------------------\"\n",
      "[1] \"F1_Score (average): 0.45739401303161\"\n"
     ]
    }
   ],
   "source": [
    "evaluation_metrics(F1_Score)"
   ]
  },
  {
   "cell_type": "code",
   "execution_count": 19,
   "id": "744c3141",
   "metadata": {},
   "outputs": [
    {
     "name": "stdout",
     "output_type": "stream",
     "text": [
      "[1] \"start time: 2022-02-09 13:27:16\"\n",
      "[1] \"end   time: 2022-02-09 13:32:32\"\n"
     ]
    },
    {
     "data": {
      "text/plain": [
       "Time difference of 5.256886 mins"
      ]
     },
     "metadata": {},
     "output_type": "display_data"
    }
   ],
   "source": [
    "# run time record\n",
    "time.end <- Sys.time()\n",
    "print(paste('start time:',time.start))\n",
    "print(paste('end   time:',time.end))\n",
    "time.end - time.start "
   ]
  }
 ],
 "metadata": {
  "kernelspec": {
   "display_name": "R",
   "language": "R",
   "name": "ir"
  },
  "language_info": {
   "codemirror_mode": "r",
   "file_extension": ".r",
   "mimetype": "text/x-r-source",
   "name": "R",
   "pygments_lexer": "r",
   "version": "4.1.0"
  }
 },
 "nbformat": 4,
 "nbformat_minor": 5
}
