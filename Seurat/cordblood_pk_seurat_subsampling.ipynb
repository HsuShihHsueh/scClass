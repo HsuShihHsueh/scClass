{
 "cells": [
  {
   "cell_type": "code",
   "execution_count": 1,
   "id": "7551845b",
   "metadata": {},
   "outputs": [
    {
     "name": "stdout",
     "output_type": "stream",
     "text": [
      "[1] \"start time: 2022-02-09 13:16:08\"\n"
     ]
    }
   ],
   "source": [
    "# run time record\n",
    "time.start <- Sys.time()\n",
    "print(paste('start time:',time.start))"
   ]
  },
  {
   "cell_type": "code",
   "execution_count": 2,
   "id": "d5fe8986",
   "metadata": {},
   "outputs": [
    {
     "name": "stderr",
     "output_type": "stream",
     "text": [
      "\n",
      "Attaching package: ‘MLmetrics’\n",
      "\n",
      "\n",
      "The following object is masked from ‘package:base’:\n",
      "\n",
      "    Recall\n",
      "\n",
      "\n",
      "Attaching SeuratObject\n",
      "\n",
      "Registered S3 method overwritten by 'cli':\n",
      "  method     from         \n",
      "  print.boxx spatstat.geom\n",
      "\n",
      "Registered S3 method overwritten by 'SeuratDisk':\n",
      "  method            from  \n",
      "  as.sparse.H5Group Seurat\n",
      "\n",
      "Loading required package: ggplot2\n",
      "\n",
      "Loading required package: lattice\n",
      "\n",
      "\n",
      "Attaching package: ‘caret’\n",
      "\n",
      "\n",
      "The following objects are masked from ‘package:MLmetrics’:\n",
      "\n",
      "    MAE, RMSE\n",
      "\n",
      "\n"
     ]
    }
   ],
   "source": [
    "library(MLmetrics)\n",
    "library(Seurat)\n",
    "library(SeuratDisk)\n",
    "library(caret)"
   ]
  },
  {
   "cell_type": "code",
   "execution_count": 3,
   "id": "37320153",
   "metadata": {},
   "outputs": [],
   "source": [
    "##h5ad data -> h5seurat data\n",
    "# library(SeuratDisk)\n",
    "# Convert ( \"../scClass_data/cordblood_pp_match.h5ad\" , dest  =  \"h5seurat\" , overwrite  =  FALSE )\n",
    "# Convert (\"../scClass_data/pbmc68k_v2.h5ad\", dest=\"h5seurat\", overwrite=TRUE) #if the file exist, then overwrite"
   ]
  },
  {
   "cell_type": "code",
   "execution_count": 4,
   "id": "b63ba337",
   "metadata": {},
   "outputs": [],
   "source": [
    "ref.file <- \"../scClass_data/pbmcmm_pp_subsample.h5seurat\"\n",
    "test.file <- \"../scClass_data/cordblood_pp_match.h5seurat\""
   ]
  },
  {
   "cell_type": "code",
   "execution_count": 5,
   "id": "e58388e3",
   "metadata": {},
   "outputs": [
    {
     "name": "stderr",
     "output_type": "stream",
     "text": [
      "Validating h5Seurat file\n",
      "\n",
      "Initializing RNA with data\n",
      "\n",
      "Adding counts for RNA\n",
      "\n",
      "Adding feature-level metadata for RNA\n",
      "\n",
      "Adding command information\n",
      "\n",
      "Adding cell-level metadata\n",
      "\n",
      "Adding miscellaneous information\n",
      "\n",
      "Adding tool-specific results\n",
      "\n"
     ]
    }
   ],
   "source": [
    "ref <- LoadH5Seurat(ref.file)"
   ]
  },
  {
   "cell_type": "code",
   "execution_count": 6,
   "id": "3a0ee306",
   "metadata": {},
   "outputs": [],
   "source": [
    "ref <- NormalizeData(ref, verbose = FALSE)\n",
    "ref <- FindVariableFeatures(ref, selection.method = \"vst\", nfeatures = 2000,verbose = FALSE)"
   ]
  },
  {
   "cell_type": "code",
   "execution_count": 7,
   "id": "dbde8b7e",
   "metadata": {},
   "outputs": [
    {
     "name": "stderr",
     "output_type": "stream",
     "text": [
      "Warning message:\n",
      "“The default method for RunUMAP has changed from calling Python UMAP via reticulate to the R-native UWOT using the cosine metric\n",
      "To use Python UMAP via reticulate, set umap.method to 'umap-learn' and metric to 'correlation'\n",
      "This message will be shown once per session”\n"
     ]
    }
   ],
   "source": [
    "ref <- ScaleData(ref, verbose = FALSE)\n",
    "ref <- RunPCA(ref, npcs = 30, verbose = FALSE)\n",
    "ref <- RunUMAP(ref, reduction = \"pca\", dims = 1:30, verbose = FALSE)"
   ]
  },
  {
   "cell_type": "markdown",
   "id": "dea0e187",
   "metadata": {},
   "source": [
    "## Cell type classification"
   ]
  },
  {
   "cell_type": "code",
   "execution_count": 8,
   "id": "c9db364b",
   "metadata": {},
   "outputs": [
    {
     "name": "stderr",
     "output_type": "stream",
     "text": [
      "Validating h5Seurat file\n",
      "\n",
      "Initializing RNA with data\n",
      "\n",
      "Adding counts for RNA\n",
      "\n",
      "Adding feature-level metadata for RNA\n",
      "\n",
      "Adding command information\n",
      "\n",
      "Adding cell-level metadata\n",
      "\n",
      "Adding miscellaneous information\n",
      "\n",
      "Adding tool-specific results\n",
      "\n"
     ]
    }
   ],
   "source": [
    "test <- LoadH5Seurat(test.file)"
   ]
  },
  {
   "cell_type": "code",
   "execution_count": 9,
   "id": "c55cc9c6",
   "metadata": {},
   "outputs": [
    {
     "name": "stderr",
     "output_type": "stream",
     "text": [
      "Projecting cell embeddings\n",
      "\n",
      "Finding neighborhoods\n",
      "\n",
      "Finding anchors\n",
      "\n",
      "\tFound 6094 anchors\n",
      "\n",
      "Filtering anchors\n",
      "\n",
      "\tRetained 517 anchors\n",
      "\n"
     ]
    }
   ],
   "source": [
    "ref.anchors <- FindTransferAnchors(reference = ref, query =test, dims = 1:30, reference.reduction = \"pca\")"
   ]
  },
  {
   "cell_type": "code",
   "execution_count": 10,
   "id": "63818572",
   "metadata": {},
   "outputs": [
    {
     "name": "stderr",
     "output_type": "stream",
     "text": [
      "Finding integration vectors\n",
      "\n",
      "Finding integration vector weights\n",
      "\n",
      "Predicting cell labels\n",
      "\n"
     ]
    }
   ],
   "source": [
    "ref$transfer_cell_type <- as.character(ref$transfer_id) # celltype = transfer_id (int to char)\n",
    "predictions <- TransferData(anchorset = ref.anchors, refdata = ref$transfer_cell_type,dims = 1:30)\n",
    "test <- AddMetaData(test, metadata = predictions)"
   ]
  },
  {
   "cell_type": "markdown",
   "id": "7747921e",
   "metadata": {},
   "source": [
    "## Make Confusion Matrix and evaluate accuracy"
   ]
  },
  {
   "cell_type": "code",
   "execution_count": 11,
   "id": "3072f5c7",
   "metadata": {},
   "outputs": [],
   "source": [
    "label <- c('helper T cell','cytotoxic T cell','memory B cell','naive B cell',\n",
    "           'plasma cell','natural killer cell','erythrocyte',\n",
    "           'megakaryocyte','monocyte','dendritic cell','HSPC')"
   ]
  },
  {
   "cell_type": "code",
   "execution_count": 12,
   "id": "58e7a26f",
   "metadata": {},
   "outputs": [],
   "source": [
    "y.pred <- factor(label[as.integer(test$predicted.id)+1],levels=label)\n",
    "y.true <- factor(test$transfer_cell_type,levels=label)"
   ]
  },
  {
   "cell_type": "code",
   "execution_count": 13,
   "id": "1c40baa0",
   "metadata": {},
   "outputs": [],
   "source": [
    "y.pred <- y.pred[!is.na(y.true)]\n",
    "y.true <- y.true[!is.na(y.true)]"
   ]
  },
  {
   "cell_type": "code",
   "execution_count": 14,
   "id": "5c25c995",
   "metadata": {},
   "outputs": [
    {
     "data": {
      "text/html": [
       "<table class=\"dataframe\">\n",
       "<caption>A data.frame: 11 × 11</caption>\n",
       "<thead>\n",
       "\t<tr><th></th><th scope=col>0</th><th scope=col>1</th><th scope=col>2</th><th scope=col>3</th><th scope=col>4</th><th scope=col>5</th><th scope=col>6</th><th scope=col>7</th><th scope=col>8</th><th scope=col>9</th><th scope=col>10</th></tr>\n",
       "\t<tr><th></th><th scope=col>&lt;int&gt;</th><th scope=col>&lt;int&gt;</th><th scope=col>&lt;int&gt;</th><th scope=col>&lt;int&gt;</th><th scope=col>&lt;int&gt;</th><th scope=col>&lt;int&gt;</th><th scope=col>&lt;int&gt;</th><th scope=col>&lt;int&gt;</th><th scope=col>&lt;int&gt;</th><th scope=col>&lt;int&gt;</th><th scope=col>&lt;int&gt;</th></tr>\n",
       "</thead>\n",
       "<tbody>\n",
       "\t<tr><th scope=row>helper T cell</th><td>0</td><td>26165</td><td>0</td><td> 3021</td><td>0</td><td>  54</td><td>1080</td><td>  0</td><td>  18</td><td>   0</td><td> 10</td></tr>\n",
       "\t<tr><th scope=row>cytotoxic T cell</th><td>0</td><td>12467</td><td>0</td><td>  333</td><td>0</td><td>   6</td><td> 192</td><td>  0</td><td>   0</td><td>   0</td><td>  4</td></tr>\n",
       "\t<tr><th scope=row>memory B cell</th><td>0</td><td>   26</td><td>0</td><td>  708</td><td>0</td><td>   2</td><td>   2</td><td>  0</td><td>   0</td><td>   2</td><td>  0</td></tr>\n",
       "\t<tr><th scope=row>naive B cell</th><td>0</td><td>    0</td><td>0</td><td>14488</td><td>0</td><td>   0</td><td>  10</td><td>  0</td><td>   0</td><td>   0</td><td>  0</td></tr>\n",
       "\t<tr><th scope=row>plasma cell</th><td>0</td><td>    0</td><td>0</td><td>    0</td><td>0</td><td>   0</td><td>   0</td><td>  0</td><td>   0</td><td>   0</td><td>  0</td></tr>\n",
       "\t<tr><th scope=row>natural killer cell</th><td>0</td><td>  980</td><td>0</td><td>  439</td><td>0</td><td>3923</td><td> 258</td><td>  0</td><td>   3</td><td>   0</td><td>  3</td></tr>\n",
       "\t<tr><th scope=row>erythrocyte</th><td>0</td><td>   22</td><td>0</td><td>   99</td><td>0</td><td>   7</td><td>1177</td><td> 11</td><td>   1</td><td>   4</td><td>928</td></tr>\n",
       "\t<tr><th scope=row>megakaryocyte</th><td>0</td><td>  411</td><td>0</td><td>  107</td><td>0</td><td>   8</td><td>  13</td><td>304</td><td>  10</td><td>   3</td><td> 40</td></tr>\n",
       "\t<tr><th scope=row>monocyte</th><td>0</td><td>   79</td><td>0</td><td>   83</td><td>0</td><td>   0</td><td> 130</td><td>  4</td><td>5283</td><td>3347</td><td>  1</td></tr>\n",
       "\t<tr><th scope=row>dendritic cell</th><td>0</td><td>    1</td><td>0</td><td>   27</td><td>0</td><td>   0</td><td>   0</td><td>  0</td><td>   1</td><td> 582</td><td>  0</td></tr>\n",
       "\t<tr><th scope=row>HSPC</th><td>0</td><td>    0</td><td>0</td><td>    0</td><td>0</td><td>   0</td><td>   0</td><td>  0</td><td>   0</td><td>   0</td><td>  0</td></tr>\n",
       "</tbody>\n",
       "</table>\n"
      ],
      "text/latex": [
       "A data.frame: 11 × 11\n",
       "\\begin{tabular}{r|lllllllllll}\n",
       "  & 0 & 1 & 2 & 3 & 4 & 5 & 6 & 7 & 8 & 9 & 10\\\\\n",
       "  & <int> & <int> & <int> & <int> & <int> & <int> & <int> & <int> & <int> & <int> & <int>\\\\\n",
       "\\hline\n",
       "\thelper T cell & 0 & 26165 & 0 &  3021 & 0 &   54 & 1080 &   0 &   18 &    0 &  10\\\\\n",
       "\tcytotoxic T cell & 0 & 12467 & 0 &   333 & 0 &    6 &  192 &   0 &    0 &    0 &   4\\\\\n",
       "\tmemory B cell & 0 &    26 & 0 &   708 & 0 &    2 &    2 &   0 &    0 &    2 &   0\\\\\n",
       "\tnaive B cell & 0 &     0 & 0 & 14488 & 0 &    0 &   10 &   0 &    0 &    0 &   0\\\\\n",
       "\tplasma cell & 0 &     0 & 0 &     0 & 0 &    0 &    0 &   0 &    0 &    0 &   0\\\\\n",
       "\tnatural killer cell & 0 &   980 & 0 &   439 & 0 & 3923 &  258 &   0 &    3 &    0 &   3\\\\\n",
       "\terythrocyte & 0 &    22 & 0 &    99 & 0 &    7 & 1177 &  11 &    1 &    4 & 928\\\\\n",
       "\tmegakaryocyte & 0 &   411 & 0 &   107 & 0 &    8 &   13 & 304 &   10 &    3 &  40\\\\\n",
       "\tmonocyte & 0 &    79 & 0 &    83 & 0 &    0 &  130 &   4 & 5283 & 3347 &   1\\\\\n",
       "\tdendritic cell & 0 &     1 & 0 &    27 & 0 &    0 &    0 &   0 &    1 &  582 &   0\\\\\n",
       "\tHSPC & 0 &     0 & 0 &     0 & 0 &    0 &    0 &   0 &    0 &    0 &   0\\\\\n",
       "\\end{tabular}\n"
      ],
      "text/markdown": [
       "\n",
       "A data.frame: 11 × 11\n",
       "\n",
       "| <!--/--> | 0 &lt;int&gt; | 1 &lt;int&gt; | 2 &lt;int&gt; | 3 &lt;int&gt; | 4 &lt;int&gt; | 5 &lt;int&gt; | 6 &lt;int&gt; | 7 &lt;int&gt; | 8 &lt;int&gt; | 9 &lt;int&gt; | 10 &lt;int&gt; |\n",
       "|---|---|---|---|---|---|---|---|---|---|---|---|\n",
       "| helper T cell | 0 | 26165 | 0 |  3021 | 0 |   54 | 1080 |   0 |   18 |    0 |  10 |\n",
       "| cytotoxic T cell | 0 | 12467 | 0 |   333 | 0 |    6 |  192 |   0 |    0 |    0 |   4 |\n",
       "| memory B cell | 0 |    26 | 0 |   708 | 0 |    2 |    2 |   0 |    0 |    2 |   0 |\n",
       "| naive B cell | 0 |     0 | 0 | 14488 | 0 |    0 |   10 |   0 |    0 |    0 |   0 |\n",
       "| plasma cell | 0 |     0 | 0 |     0 | 0 |    0 |    0 |   0 |    0 |    0 |   0 |\n",
       "| natural killer cell | 0 |   980 | 0 |   439 | 0 | 3923 |  258 |   0 |    3 |    0 |   3 |\n",
       "| erythrocyte | 0 |    22 | 0 |    99 | 0 |    7 | 1177 |  11 |    1 |    4 | 928 |\n",
       "| megakaryocyte | 0 |   411 | 0 |   107 | 0 |    8 |   13 | 304 |   10 |    3 |  40 |\n",
       "| monocyte | 0 |    79 | 0 |    83 | 0 |    0 |  130 |   4 | 5283 | 3347 |   1 |\n",
       "| dendritic cell | 0 |     1 | 0 |    27 | 0 |    0 |    0 |   0 |    1 |  582 |   0 |\n",
       "| HSPC | 0 |     0 | 0 |     0 | 0 |    0 |    0 |   0 |    0 |    0 |   0 |\n",
       "\n"
      ],
      "text/plain": [
       "                    0 1     2 3     4 5    6    7   8    9    10 \n",
       "helper T cell       0 26165 0  3021 0   54 1080   0   18    0  10\n",
       "cytotoxic T cell    0 12467 0   333 0    6  192   0    0    0   4\n",
       "memory B cell       0    26 0   708 0    2    2   0    0    2   0\n",
       "naive B cell        0     0 0 14488 0    0   10   0    0    0   0\n",
       "plasma cell         0     0 0     0 0    0    0   0    0    0   0\n",
       "natural killer cell 0   980 0   439 0 3923  258   0    3    0   3\n",
       "erythrocyte         0    22 0    99 0    7 1177  11    1    4 928\n",
       "megakaryocyte       0   411 0   107 0    8   13 304   10    3  40\n",
       "monocyte            0    79 0    83 0    0  130   4 5283 3347   1\n",
       "dendritic cell      0     1 0    27 0    0    0   0    1  582   0\n",
       "HSPC                0     0 0     0 0    0    0   0    0    0   0"
      ]
     },
     "metadata": {},
     "output_type": "display_data"
    }
   ],
   "source": [
    "mat.table <- confusionMatrix(y.true,y.pred)\n",
    "mat.df <- as.data.frame.matrix(mat.table$table) \n",
    "colnames(mat.df) = 0:10\n",
    "mat.df"
   ]
  },
  {
   "cell_type": "code",
   "execution_count": 15,
   "id": "7f0d1a51",
   "metadata": {},
   "outputs": [
    {
     "data": {
      "text/html": [
       "<table class=\"dataframe\">\n",
       "<caption>A data.frame: 11 × 11</caption>\n",
       "<thead>\n",
       "\t<tr><th></th><th scope=col>0</th><th scope=col>1</th><th scope=col>2</th><th scope=col>3</th><th scope=col>4</th><th scope=col>5</th><th scope=col>6</th><th scope=col>7</th><th scope=col>8</th><th scope=col>9</th><th scope=col>10</th></tr>\n",
       "\t<tr><th></th><th scope=col>&lt;dbl&gt;</th><th scope=col>&lt;dbl&gt;</th><th scope=col>&lt;dbl&gt;</th><th scope=col>&lt;dbl&gt;</th><th scope=col>&lt;dbl&gt;</th><th scope=col>&lt;dbl&gt;</th><th scope=col>&lt;dbl&gt;</th><th scope=col>&lt;dbl&gt;</th><th scope=col>&lt;dbl&gt;</th><th scope=col>&lt;dbl&gt;</th><th scope=col>&lt;dbl&gt;</th></tr>\n",
       "</thead>\n",
       "<tbody>\n",
       "\t<tr><th scope=row>helper T cell</th><td>0</td><td>86.2</td><td>0</td><td>10.0</td><td>0</td><td> 0.2</td><td> 3.6</td><td> 0.0</td><td> 0.1</td><td> 0.0</td><td> 0.0</td></tr>\n",
       "\t<tr><th scope=row>cytotoxic T cell</th><td>0</td><td>95.9</td><td>0</td><td> 2.6</td><td>0</td><td> 0.0</td><td> 1.5</td><td> 0.0</td><td> 0.0</td><td> 0.0</td><td> 0.0</td></tr>\n",
       "\t<tr><th scope=row>memory B cell</th><td>0</td><td> 3.5</td><td>0</td><td>95.7</td><td>0</td><td> 0.3</td><td> 0.3</td><td> 0.0</td><td> 0.0</td><td> 0.3</td><td> 0.0</td></tr>\n",
       "\t<tr><th scope=row>naive B cell</th><td>0</td><td> 0.0</td><td>0</td><td>99.9</td><td>0</td><td> 0.0</td><td> 0.1</td><td> 0.0</td><td> 0.0</td><td> 0.0</td><td> 0.0</td></tr>\n",
       "\t<tr><th scope=row>plasma cell</th><td>0</td><td> 0.0</td><td>0</td><td> 0.0</td><td>0</td><td> 0.0</td><td> 0.0</td><td> 0.0</td><td> 0.0</td><td> 0.0</td><td> 0.0</td></tr>\n",
       "\t<tr><th scope=row>natural killer cell</th><td>0</td><td>17.5</td><td>0</td><td> 7.8</td><td>0</td><td>70.0</td><td> 4.6</td><td> 0.0</td><td> 0.1</td><td> 0.0</td><td> 0.1</td></tr>\n",
       "\t<tr><th scope=row>erythrocyte</th><td>0</td><td> 1.0</td><td>0</td><td> 4.4</td><td>0</td><td> 0.3</td><td>52.3</td><td> 0.5</td><td> 0.0</td><td> 0.2</td><td>41.3</td></tr>\n",
       "\t<tr><th scope=row>megakaryocyte</th><td>0</td><td>45.9</td><td>0</td><td>11.9</td><td>0</td><td> 0.9</td><td> 1.5</td><td>33.9</td><td> 1.1</td><td> 0.3</td><td> 4.5</td></tr>\n",
       "\t<tr><th scope=row>monocyte</th><td>0</td><td> 0.9</td><td>0</td><td> 0.9</td><td>0</td><td> 0.0</td><td> 1.5</td><td> 0.0</td><td>59.2</td><td>37.5</td><td> 0.0</td></tr>\n",
       "\t<tr><th scope=row>dendritic cell</th><td>0</td><td> 0.2</td><td>0</td><td> 4.4</td><td>0</td><td> 0.0</td><td> 0.0</td><td> 0.0</td><td> 0.2</td><td>95.3</td><td> 0.0</td></tr>\n",
       "\t<tr><th scope=row>HSPC</th><td>0</td><td> 0.0</td><td>0</td><td> 0.0</td><td>0</td><td> 0.0</td><td> 0.0</td><td> 0.0</td><td> 0.0</td><td> 0.0</td><td> 0.0</td></tr>\n",
       "</tbody>\n",
       "</table>\n"
      ],
      "text/latex": [
       "A data.frame: 11 × 11\n",
       "\\begin{tabular}{r|lllllllllll}\n",
       "  & 0 & 1 & 2 & 3 & 4 & 5 & 6 & 7 & 8 & 9 & 10\\\\\n",
       "  & <dbl> & <dbl> & <dbl> & <dbl> & <dbl> & <dbl> & <dbl> & <dbl> & <dbl> & <dbl> & <dbl>\\\\\n",
       "\\hline\n",
       "\thelper T cell & 0 & 86.2 & 0 & 10.0 & 0 &  0.2 &  3.6 &  0.0 &  0.1 &  0.0 &  0.0\\\\\n",
       "\tcytotoxic T cell & 0 & 95.9 & 0 &  2.6 & 0 &  0.0 &  1.5 &  0.0 &  0.0 &  0.0 &  0.0\\\\\n",
       "\tmemory B cell & 0 &  3.5 & 0 & 95.7 & 0 &  0.3 &  0.3 &  0.0 &  0.0 &  0.3 &  0.0\\\\\n",
       "\tnaive B cell & 0 &  0.0 & 0 & 99.9 & 0 &  0.0 &  0.1 &  0.0 &  0.0 &  0.0 &  0.0\\\\\n",
       "\tplasma cell & 0 &  0.0 & 0 &  0.0 & 0 &  0.0 &  0.0 &  0.0 &  0.0 &  0.0 &  0.0\\\\\n",
       "\tnatural killer cell & 0 & 17.5 & 0 &  7.8 & 0 & 70.0 &  4.6 &  0.0 &  0.1 &  0.0 &  0.1\\\\\n",
       "\terythrocyte & 0 &  1.0 & 0 &  4.4 & 0 &  0.3 & 52.3 &  0.5 &  0.0 &  0.2 & 41.3\\\\\n",
       "\tmegakaryocyte & 0 & 45.9 & 0 & 11.9 & 0 &  0.9 &  1.5 & 33.9 &  1.1 &  0.3 &  4.5\\\\\n",
       "\tmonocyte & 0 &  0.9 & 0 &  0.9 & 0 &  0.0 &  1.5 &  0.0 & 59.2 & 37.5 &  0.0\\\\\n",
       "\tdendritic cell & 0 &  0.2 & 0 &  4.4 & 0 &  0.0 &  0.0 &  0.0 &  0.2 & 95.3 &  0.0\\\\\n",
       "\tHSPC & 0 &  0.0 & 0 &  0.0 & 0 &  0.0 &  0.0 &  0.0 &  0.0 &  0.0 &  0.0\\\\\n",
       "\\end{tabular}\n"
      ],
      "text/markdown": [
       "\n",
       "A data.frame: 11 × 11\n",
       "\n",
       "| <!--/--> | 0 &lt;dbl&gt; | 1 &lt;dbl&gt; | 2 &lt;dbl&gt; | 3 &lt;dbl&gt; | 4 &lt;dbl&gt; | 5 &lt;dbl&gt; | 6 &lt;dbl&gt; | 7 &lt;dbl&gt; | 8 &lt;dbl&gt; | 9 &lt;dbl&gt; | 10 &lt;dbl&gt; |\n",
       "|---|---|---|---|---|---|---|---|---|---|---|---|\n",
       "| helper T cell | 0 | 86.2 | 0 | 10.0 | 0 |  0.2 |  3.6 |  0.0 |  0.1 |  0.0 |  0.0 |\n",
       "| cytotoxic T cell | 0 | 95.9 | 0 |  2.6 | 0 |  0.0 |  1.5 |  0.0 |  0.0 |  0.0 |  0.0 |\n",
       "| memory B cell | 0 |  3.5 | 0 | 95.7 | 0 |  0.3 |  0.3 |  0.0 |  0.0 |  0.3 |  0.0 |\n",
       "| naive B cell | 0 |  0.0 | 0 | 99.9 | 0 |  0.0 |  0.1 |  0.0 |  0.0 |  0.0 |  0.0 |\n",
       "| plasma cell | 0 |  0.0 | 0 |  0.0 | 0 |  0.0 |  0.0 |  0.0 |  0.0 |  0.0 |  0.0 |\n",
       "| natural killer cell | 0 | 17.5 | 0 |  7.8 | 0 | 70.0 |  4.6 |  0.0 |  0.1 |  0.0 |  0.1 |\n",
       "| erythrocyte | 0 |  1.0 | 0 |  4.4 | 0 |  0.3 | 52.3 |  0.5 |  0.0 |  0.2 | 41.3 |\n",
       "| megakaryocyte | 0 | 45.9 | 0 | 11.9 | 0 |  0.9 |  1.5 | 33.9 |  1.1 |  0.3 |  4.5 |\n",
       "| monocyte | 0 |  0.9 | 0 |  0.9 | 0 |  0.0 |  1.5 |  0.0 | 59.2 | 37.5 |  0.0 |\n",
       "| dendritic cell | 0 |  0.2 | 0 |  4.4 | 0 |  0.0 |  0.0 |  0.0 |  0.2 | 95.3 |  0.0 |\n",
       "| HSPC | 0 |  0.0 | 0 |  0.0 | 0 |  0.0 |  0.0 |  0.0 |  0.0 |  0.0 |  0.0 |\n",
       "\n"
      ],
      "text/plain": [
       "                    0 1    2 3    4 5    6    7    8    9    10  \n",
       "helper T cell       0 86.2 0 10.0 0  0.2  3.6  0.0  0.1  0.0  0.0\n",
       "cytotoxic T cell    0 95.9 0  2.6 0  0.0  1.5  0.0  0.0  0.0  0.0\n",
       "memory B cell       0  3.5 0 95.7 0  0.3  0.3  0.0  0.0  0.3  0.0\n",
       "naive B cell        0  0.0 0 99.9 0  0.0  0.1  0.0  0.0  0.0  0.0\n",
       "plasma cell         0  0.0 0  0.0 0  0.0  0.0  0.0  0.0  0.0  0.0\n",
       "natural killer cell 0 17.5 0  7.8 0 70.0  4.6  0.0  0.1  0.0  0.1\n",
       "erythrocyte         0  1.0 0  4.4 0  0.3 52.3  0.5  0.0  0.2 41.3\n",
       "megakaryocyte       0 45.9 0 11.9 0  0.9  1.5 33.9  1.1  0.3  4.5\n",
       "monocyte            0  0.9 0  0.9 0  0.0  1.5  0.0 59.2 37.5  0.0\n",
       "dendritic cell      0  0.2 0  4.4 0  0.0  0.0  0.0  0.2 95.3  0.0\n",
       "HSPC                0  0.0 0  0.0 0  0.0  0.0  0.0  0.0  0.0  0.0"
      ]
     },
     "metadata": {},
     "output_type": "display_data"
    },
    {
     "name": "stdout",
     "output_type": "stream",
     "text": [
      "[1] \"acc: 49.7209828687384 %\"\n"
     ]
    }
   ],
   "source": [
    "mat.df.percent <- round(mat.df/(rowSums(mat.df)+0.001)*100, digits=1)\n",
    "mat.df.percent\n",
    "print(paste('acc:',sum(y.true==y.pred)/length(y.true)*100,'%'))"
   ]
  },
  {
   "cell_type": "code",
   "execution_count": 16,
   "id": "97dac9a1",
   "metadata": {},
   "outputs": [],
   "source": [
    "evaluation_metrics<-function(performance){\n",
    "    eva.list <- c()\n",
    "    performance.name <- as.character(substitute(performance))\n",
    "    for (i in label)\n",
    "    {\n",
    "        eva <- performance(y.true,y.pred, positive = i)\n",
    "        if (!is.nan(eva))\n",
    "        {\n",
    "            eva.list <- c(eva.list,eva)\n",
    "        }\n",
    "    }\n",
    "    print(paste(c(paste(performance.name,':'),eva.list)))\n",
    "    print('-----------------------------------------------------------------')\n",
    "    print(paste(performance.name,'(average):',mean(eva.list)))\n",
    "}"
   ]
  },
  {
   "cell_type": "code",
   "execution_count": 17,
   "id": "53099d4a",
   "metadata": {},
   "outputs": [
    {
     "name": "stdout",
     "output_type": "stream",
     "text": [
      "[1] \"Precision :\"       \"0.310502851734701\" \"0.75047915047915\" \n",
      "[4] \"0.98075\"           \"0.411250873515024\" \"0.952978056426332\"\n",
      "[7] \"0.993792325056433\" \"0.147790756729304\" \"0\"                \n",
      "[1] \"-----------------------------------------------------------------\"\n",
      "[1] \"Precision (average): 0.568443001742618\"\n"
     ]
    }
   ],
   "source": [
    "evaluation_metrics(Precision)"
   ]
  },
  {
   "cell_type": "code",
   "execution_count": 18,
   "id": "4203a4fd",
   "metadata": {},
   "outputs": [
    {
     "name": "stdout",
     "output_type": "stream",
     "text": [
      " [1] \"Recall :\"          \"0\"                 \"0.958852484233195\"\n",
      " [4] \"0\"                 \"0.999310249689612\" \"0.699785943631823\"\n",
      " [7] \"0.523343708314807\" \"0.339285714285714\" \"0.591800156827602\"\n",
      "[10] \"0.95253682487725\" \n",
      "[1] \"-----------------------------------------------------------------\"\n",
      "[1] \"Recall (average): 0.562768342428889\"\n"
     ]
    }
   ],
   "source": [
    "evaluation_metrics(Recall)"
   ]
  },
  {
   "cell_type": "code",
   "execution_count": 19,
   "id": "007bdf62",
   "metadata": {},
   "outputs": [
    {
     "name": "stdout",
     "output_type": "stream",
     "text": [
      "[1] \"F1_Score :\"        \"0.469098639775742\" \"0.857202023489039\"\n",
      "[4] \"0.816781178430148\" \"0.460575229896302\" \"0.500411522633745\"\n",
      "[7] \"0.741838095906761\" \"0.255880413277643\"\n",
      "[1] \"-----------------------------------------------------------------\"\n",
      "[1] \"F1_Score (average): 0.58596958620134\"\n"
     ]
    }
   ],
   "source": [
    "evaluation_metrics(F1_Score)"
   ]
  },
  {
   "cell_type": "code",
   "execution_count": 20,
   "id": "18cec639",
   "metadata": {},
   "outputs": [
    {
     "name": "stdout",
     "output_type": "stream",
     "text": [
      "[1] \"start time: 2022-02-09 13:16:08\"\n",
      "[1] \"end   time: 2022-02-09 13:22:58\"\n"
     ]
    },
    {
     "data": {
      "text/plain": [
       "Time difference of 6.829717 mins"
      ]
     },
     "metadata": {},
     "output_type": "display_data"
    }
   ],
   "source": [
    "# run time record\n",
    "time.end <- Sys.time()\n",
    "print(paste('start time:',time.start))\n",
    "print(paste('end   time:',time.end))\n",
    "time.end - time.start "
   ]
  }
 ],
 "metadata": {
  "kernelspec": {
   "display_name": "R",
   "language": "R",
   "name": "ir"
  },
  "language_info": {
   "codemirror_mode": "r",
   "file_extension": ".r",
   "mimetype": "text/x-r-source",
   "name": "R",
   "pygments_lexer": "r",
   "version": "4.1.0"
  }
 },
 "nbformat": 4,
 "nbformat_minor": 5
}
